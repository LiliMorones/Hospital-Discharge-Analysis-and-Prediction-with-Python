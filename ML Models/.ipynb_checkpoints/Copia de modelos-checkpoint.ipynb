{
 "cells": [
  {
   "cell_type": "markdown",
   "metadata": {
    "id": "j5M_XRqPlFNh"
   },
   "source": [
    "## Importar librerías"
   ]
  },
  {
   "cell_type": "code",
   "execution_count": 1,
   "metadata": {
    "executionInfo": {
     "elapsed": 2870,
     "status": "ok",
     "timestamp": 1689970854673,
     "user": {
      "displayName": "Lili Morones",
      "userId": "03662130427026750805"
     },
     "user_tz": 360
    },
    "id": "zyV-xgHPFlOT"
   },
   "outputs": [],
   "source": [
    "import pandas as pd # Manipulación de datos\n",
    "import numpy as np # Operaciones matemáticas y numéricas en datos multidimensionales\n",
    "\n",
    "# Visualizaciones y gráficos\n",
    "import matplotlib.pyplot as plt\n",
    "import seaborn as sns\n",
    "\n",
    "# sklearn para realizar tareas de ML y pre procesamiento de datos\n",
    "# Preprocesamiento\n",
    "from sklearn.preprocessing import LabelEncoder # Codificación de variables categóricas nominales\n",
    "from sklearn.preprocessing import OrdinalEncoder # Codificación de variables categóricas ordinales\n",
    "from sklearn.preprocessing import MinMaxScaler # Normalización de variables\n",
    "# Selección de características\n",
    "from sklearn.feature_selection import mutual_info_regression # Relación mutua entre características y variable objetivo para problemas de regresión\n",
    "# Selección de modelo, entrenamiento, prueba y evaluación\n",
    "from sklearn.model_selection import train_test_split # División del conjunto de datos en prueba y entrenamiento\n",
    "from sklearn.model_selection import cross_val_score # Evaluación del modelo por múltiples divisiones\n",
    "from sklearn.model_selection import GridSearchCV # Búsqueda de parámetros óptimos para un modelo de aprendizaje\n",
    "# Algoritmos basados en ensambles para problemas de clasificación y regresión\n",
    "from sklearn.ensemble import RandomForestClassifier # Árboles de decisión aleatorios para problemas de clasificación\n",
    "from sklearn.ensemble import RandomForestRegressor # Árboles de decisión aleatorios para problemas de regresión\n",
    "# Algoritmos basados en vecinos para clasificación y regresión\n",
    "from sklearn.neighbors import KNeighborsClassifier #Vecinos más cercanos para problemas de clasificación\n",
    "# Clasificación basada en el teorema de Bayes (suponiendo independencia entre las características)\n",
    "from sklearn.naive_bayes import GaussianNB # Implementación del teorema de Bayes asumiendo una distribución Gaussiana\n",
    "# Algoritmos de máquinas de vectores de soporte para clasificación y regresión\n",
    "from sklearn.svm import SVC # SVM para clasificación\n",
    "# Métricas y funciones para evaluar y medir el rendimiento del modelo\n",
    "from sklearn.metrics import accuracy_score # Calcular exactitud de las predicciones comparándolas con las etiquetas verdaderas\n",
    "from sklearn.metrics import confusion_matrix # Calcula la matriz de confusión\n",
    "from sklearn.metrics import classification_report # Informe de precisión, recall, f1-score y soporte para cada categoría predicha\n",
    "from sklearn.metrics import mean_squared_error # Error cuadrático medio entre predicciones y valores verdaderos en regresión\n",
    "from sklearn.metrics import mean_absolute_error # Error absoluto medio entre predicciones y valores verdaderos en regresión\n",
    "from sklearn.metrics import r2_score # coeficiente de determinación (R-cuadrado) para evaluar la bondad de ajuste de un modelo de regresión\n",
    "\n",
    "# Algoritmos de aumento de gradiente\n",
    "import xgboost\n",
    "from xgboost import XGBClassifier # Aumento de gradiente para clasificación\n",
    "from xgboost import XGBRegressor # Aumento de gradiente para regresión\n",
    "from xgboost import plot_tree # Graficar los árboles del modelo\n",
    "from xgboost import plot_importance # Graficar la importancia de las características\n",
    "\n",
    "#Control de advertencias durante la ejecución del código\n",
    "import warnings\n",
    "warnings.filterwarnings(\"ignore\") # Ignorar todas las advertencias"
   ]
  },
  {
   "cell_type": "code",
   "execution_count": 2,
   "metadata": {
    "colab": {
     "base_uri": "https://localhost:8080/"
    },
    "executionInfo": {
     "elapsed": 33300,
     "status": "ok",
     "timestamp": 1689970887959,
     "user": {
      "displayName": "Lili Morones",
      "userId": "03662130427026750805"
     },
     "user_tz": 360
    },
    "id": "8X7-eqKfZRyU",
    "outputId": "906c93f9-427a-48c2-8ae8-03108f15e1b6"
   },
   "outputs": [
    {
     "name": "stdout",
     "output_type": "stream",
     "text": [
      "Mounted at /content/gdrive/\n"
     ]
    }
   ],
   "source": [
    "# Entorno basado en la nube para trabajar con Jupyter Notebooks\n",
    "from google.colab import drive # Acceder a google drive\n",
    "drive.mount('/content/gdrive/', force_remount=True) # Montar Google Drive en el entorno de Colab, force remount por si se requiere reiniciar el entorno"
   ]
  },
  {
   "cell_type": "markdown",
   "metadata": {
    "id": "iNPjvx8LaxjB"
   },
   "source": [
    "## Cargar base de datos"
   ]
  },
  {
   "cell_type": "code",
   "execution_count": 3,
   "metadata": {
    "colab": {
     "base_uri": "https://localhost:8080/",
     "height": 0
    },
    "executionInfo": {
     "elapsed": 6502,
     "status": "ok",
     "timestamp": 1689970898340,
     "user": {
      "displayName": "Lili Morones",
      "userId": "03662130427026750805"
     },
     "user_tz": 360
    },
    "id": "7I7O7hE2avCD",
    "outputId": "f64b2173-13cc-4c51-be64-4305d1296395"
   },
   "outputs": [
    {
     "data": {
      "text/html": [
       "\n",
       "\n",
       "  <div id=\"df-06a43f5a-f118-415d-adb9-e8896396df1d\">\n",
       "    <div class=\"colab-df-container\">\n",
       "      <div>\n",
       "<style scoped>\n",
       "    .dataframe tbody tr th:only-of-type {\n",
       "        vertical-align: middle;\n",
       "    }\n",
       "\n",
       "    .dataframe tbody tr th {\n",
       "        vertical-align: top;\n",
       "    }\n",
       "\n",
       "    .dataframe thead th {\n",
       "        text-align: right;\n",
       "    }\n",
       "</style>\n",
       "<table border=\"1\" class=\"dataframe\">\n",
       "  <thead>\n",
       "    <tr style=\"text-align: right;\">\n",
       "      <th></th>\n",
       "      <th>ID</th>\n",
       "      <th>CLUES</th>\n",
       "      <th>INGRE</th>\n",
       "      <th>EGRESO</th>\n",
       "      <th>DIAS_ESTA</th>\n",
       "      <th>EDAD</th>\n",
       "      <th>SEXO</th>\n",
       "      <th>PESO</th>\n",
       "      <th>TALLA</th>\n",
       "      <th>DERHAB</th>\n",
       "      <th>...</th>\n",
       "      <th>CAUSAEXT</th>\n",
       "      <th>INFEC</th>\n",
       "      <th>MOTEGRE</th>\n",
       "      <th>NUMPROMED</th>\n",
       "      <th>NUMAFEC</th>\n",
       "      <th>CAT_EDAD</th>\n",
       "      <th>CAT_DIASESTA</th>\n",
       "      <th>DIABETES</th>\n",
       "      <th>HIPERTENSION</th>\n",
       "      <th>OBESIDAD</th>\n",
       "    </tr>\n",
       "  </thead>\n",
       "  <tbody>\n",
       "    <tr>\n",
       "      <th>0</th>\n",
       "      <td>1</td>\n",
       "      <td>CENTENARIO HOSPITAL MIGUEL HIDALGO</td>\n",
       "      <td>2010-01-04</td>\n",
       "      <td>2010-01-04</td>\n",
       "      <td>1</td>\n",
       "      <td>0</td>\n",
       "      <td>M</td>\n",
       "      <td>999.0</td>\n",
       "      <td>999</td>\n",
       "      <td>NE</td>\n",
       "      <td>...</td>\n",
       "      <td>NaN</td>\n",
       "      <td>NO</td>\n",
       "      <td>MEJORIA</td>\n",
       "      <td>1.0</td>\n",
       "      <td>0</td>\n",
       "      <td>0-4</td>\n",
       "      <td>1 o menos</td>\n",
       "      <td>NO</td>\n",
       "      <td>NO</td>\n",
       "      <td>NO</td>\n",
       "    </tr>\n",
       "    <tr>\n",
       "      <th>1</th>\n",
       "      <td>3</td>\n",
       "      <td>CENTENARIO HOSPITAL MIGUEL HIDALGO</td>\n",
       "      <td>2010-01-06</td>\n",
       "      <td>2010-01-06</td>\n",
       "      <td>1</td>\n",
       "      <td>6</td>\n",
       "      <td>H</td>\n",
       "      <td>999.0</td>\n",
       "      <td>999</td>\n",
       "      <td>NE</td>\n",
       "      <td>...</td>\n",
       "      <td>NaN</td>\n",
       "      <td>NO</td>\n",
       "      <td>MEJORIA</td>\n",
       "      <td>1.0</td>\n",
       "      <td>0</td>\n",
       "      <td>5-14</td>\n",
       "      <td>1 o menos</td>\n",
       "      <td>NO</td>\n",
       "      <td>NO</td>\n",
       "      <td>NO</td>\n",
       "    </tr>\n",
       "    <tr>\n",
       "      <th>2</th>\n",
       "      <td>4</td>\n",
       "      <td>CENTENARIO HOSPITAL MIGUEL HIDALGO</td>\n",
       "      <td>2010-01-05</td>\n",
       "      <td>2010-01-05</td>\n",
       "      <td>1</td>\n",
       "      <td>5</td>\n",
       "      <td>H</td>\n",
       "      <td>999.0</td>\n",
       "      <td>999</td>\n",
       "      <td>NE</td>\n",
       "      <td>...</td>\n",
       "      <td>NaN</td>\n",
       "      <td>NO</td>\n",
       "      <td>MEJORIA</td>\n",
       "      <td>1.0</td>\n",
       "      <td>0</td>\n",
       "      <td>5-14</td>\n",
       "      <td>1 o menos</td>\n",
       "      <td>NO</td>\n",
       "      <td>NO</td>\n",
       "      <td>NO</td>\n",
       "    </tr>\n",
       "    <tr>\n",
       "      <th>3</th>\n",
       "      <td>5</td>\n",
       "      <td>CENTENARIO HOSPITAL MIGUEL HIDALGO</td>\n",
       "      <td>2010-01-04</td>\n",
       "      <td>2010-01-04</td>\n",
       "      <td>1</td>\n",
       "      <td>18</td>\n",
       "      <td>H</td>\n",
       "      <td>999.0</td>\n",
       "      <td>999</td>\n",
       "      <td>NE</td>\n",
       "      <td>...</td>\n",
       "      <td>NaN</td>\n",
       "      <td>NO</td>\n",
       "      <td>MEJORIA</td>\n",
       "      <td>1.0</td>\n",
       "      <td>0</td>\n",
       "      <td>15-29</td>\n",
       "      <td>1 o menos</td>\n",
       "      <td>NO</td>\n",
       "      <td>NO</td>\n",
       "      <td>NO</td>\n",
       "    </tr>\n",
       "    <tr>\n",
       "      <th>4</th>\n",
       "      <td>8</td>\n",
       "      <td>CENTENARIO HOSPITAL MIGUEL HIDALGO</td>\n",
       "      <td>2010-01-04</td>\n",
       "      <td>2010-01-04</td>\n",
       "      <td>1</td>\n",
       "      <td>17</td>\n",
       "      <td>M</td>\n",
       "      <td>999.0</td>\n",
       "      <td>999</td>\n",
       "      <td>NE</td>\n",
       "      <td>...</td>\n",
       "      <td>NaN</td>\n",
       "      <td>NO</td>\n",
       "      <td>MEJORIA</td>\n",
       "      <td>1.0</td>\n",
       "      <td>0</td>\n",
       "      <td>15-29</td>\n",
       "      <td>1 o menos</td>\n",
       "      <td>NO</td>\n",
       "      <td>NO</td>\n",
       "      <td>NO</td>\n",
       "    </tr>\n",
       "    <tr>\n",
       "      <th>...</th>\n",
       "      <td>...</td>\n",
       "      <td>...</td>\n",
       "      <td>...</td>\n",
       "      <td>...</td>\n",
       "      <td>...</td>\n",
       "      <td>...</td>\n",
       "      <td>...</td>\n",
       "      <td>...</td>\n",
       "      <td>...</td>\n",
       "      <td>...</td>\n",
       "      <td>...</td>\n",
       "      <td>...</td>\n",
       "      <td>...</td>\n",
       "      <td>...</td>\n",
       "      <td>...</td>\n",
       "      <td>...</td>\n",
       "      <td>...</td>\n",
       "      <td>...</td>\n",
       "      <td>...</td>\n",
       "      <td>...</td>\n",
       "      <td>...</td>\n",
       "    </tr>\n",
       "    <tr>\n",
       "      <th>320889</th>\n",
       "      <td>321258</td>\n",
       "      <td>HOSPITAL GENERAL PABELLÓN DE ARTEAGA</td>\n",
       "      <td>2022-09-15</td>\n",
       "      <td>2022-09-15</td>\n",
       "      <td>1</td>\n",
       "      <td>19</td>\n",
       "      <td>M</td>\n",
       "      <td>57.8</td>\n",
       "      <td>152</td>\n",
       "      <td>NINGUNA</td>\n",
       "      <td>...</td>\n",
       "      <td>NaN</td>\n",
       "      <td>NO</td>\n",
       "      <td>MEJORIA</td>\n",
       "      <td>8.0</td>\n",
       "      <td>1</td>\n",
       "      <td>15-29</td>\n",
       "      <td>1 o menos</td>\n",
       "      <td>NO</td>\n",
       "      <td>NO</td>\n",
       "      <td>NO</td>\n",
       "    </tr>\n",
       "    <tr>\n",
       "      <th>320890</th>\n",
       "      <td>321259</td>\n",
       "      <td>HOSPITAL GENERAL PABELLÓN DE ARTEAGA</td>\n",
       "      <td>2022-09-14</td>\n",
       "      <td>2022-09-15</td>\n",
       "      <td>1</td>\n",
       "      <td>23</td>\n",
       "      <td>M</td>\n",
       "      <td>68.0</td>\n",
       "      <td>166</td>\n",
       "      <td>NINGUNA</td>\n",
       "      <td>...</td>\n",
       "      <td>NaN</td>\n",
       "      <td>NO</td>\n",
       "      <td>MEJORIA</td>\n",
       "      <td>7.0</td>\n",
       "      <td>1</td>\n",
       "      <td>15-29</td>\n",
       "      <td>1 o menos</td>\n",
       "      <td>NO</td>\n",
       "      <td>NO</td>\n",
       "      <td>NO</td>\n",
       "    </tr>\n",
       "    <tr>\n",
       "      <th>320891</th>\n",
       "      <td>321260</td>\n",
       "      <td>HOSPITAL GENERAL PABELLÓN DE ARTEAGA</td>\n",
       "      <td>2022-09-15</td>\n",
       "      <td>2022-09-16</td>\n",
       "      <td>1</td>\n",
       "      <td>22</td>\n",
       "      <td>M</td>\n",
       "      <td>87.0</td>\n",
       "      <td>160</td>\n",
       "      <td>NINGUNA</td>\n",
       "      <td>...</td>\n",
       "      <td>NaN</td>\n",
       "      <td>NO</td>\n",
       "      <td>MEJORIA</td>\n",
       "      <td>1.0</td>\n",
       "      <td>1</td>\n",
       "      <td>15-29</td>\n",
       "      <td>1 o menos</td>\n",
       "      <td>NO</td>\n",
       "      <td>NO</td>\n",
       "      <td>NO</td>\n",
       "    </tr>\n",
       "    <tr>\n",
       "      <th>320892</th>\n",
       "      <td>321261</td>\n",
       "      <td>HOSPITAL GENERAL PABELLÓN DE ARTEAGA</td>\n",
       "      <td>2022-09-07</td>\n",
       "      <td>2022-09-16</td>\n",
       "      <td>9</td>\n",
       "      <td>24</td>\n",
       "      <td>M</td>\n",
       "      <td>71.9</td>\n",
       "      <td>152</td>\n",
       "      <td>NINGUNA</td>\n",
       "      <td>...</td>\n",
       "      <td>NaN</td>\n",
       "      <td>NO</td>\n",
       "      <td>VOLUNTARIO</td>\n",
       "      <td>1.0</td>\n",
       "      <td>1</td>\n",
       "      <td>15-29</td>\n",
       "      <td>8-30</td>\n",
       "      <td>NO</td>\n",
       "      <td>NO</td>\n",
       "      <td>NO</td>\n",
       "    </tr>\n",
       "    <tr>\n",
       "      <th>320893</th>\n",
       "      <td>321262</td>\n",
       "      <td>HOSPITAL GENERAL PABELLÓN DE ARTEAGA</td>\n",
       "      <td>2022-09-16</td>\n",
       "      <td>2022-09-17</td>\n",
       "      <td>1</td>\n",
       "      <td>20</td>\n",
       "      <td>M</td>\n",
       "      <td>94.0</td>\n",
       "      <td>158</td>\n",
       "      <td>NINGUNA</td>\n",
       "      <td>...</td>\n",
       "      <td>NaN</td>\n",
       "      <td>NO</td>\n",
       "      <td>MEJORIA</td>\n",
       "      <td>1.0</td>\n",
       "      <td>1</td>\n",
       "      <td>15-29</td>\n",
       "      <td>1 o menos</td>\n",
       "      <td>NO</td>\n",
       "      <td>NO</td>\n",
       "      <td>NO</td>\n",
       "    </tr>\n",
       "  </tbody>\n",
       "</table>\n",
       "<p>320103 rows × 26 columns</p>\n",
       "</div>\n",
       "      <button class=\"colab-df-convert\" onclick=\"convertToInteractive('df-06a43f5a-f118-415d-adb9-e8896396df1d')\"\n",
       "              title=\"Convert this dataframe to an interactive table.\"\n",
       "              style=\"display:none;\">\n",
       "\n",
       "  <svg xmlns=\"http://www.w3.org/2000/svg\" height=\"24px\"viewBox=\"0 0 24 24\"\n",
       "       width=\"24px\">\n",
       "    <path d=\"M0 0h24v24H0V0z\" fill=\"none\"/>\n",
       "    <path d=\"M18.56 5.44l.94 2.06.94-2.06 2.06-.94-2.06-.94-.94-2.06-.94 2.06-2.06.94zm-11 1L8.5 8.5l.94-2.06 2.06-.94-2.06-.94L8.5 2.5l-.94 2.06-2.06.94zm10 10l.94 2.06.94-2.06 2.06-.94-2.06-.94-.94-2.06-.94 2.06-2.06.94z\"/><path d=\"M17.41 7.96l-1.37-1.37c-.4-.4-.92-.59-1.43-.59-.52 0-1.04.2-1.43.59L10.3 9.45l-7.72 7.72c-.78.78-.78 2.05 0 2.83L4 21.41c.39.39.9.59 1.41.59.51 0 1.02-.2 1.41-.59l7.78-7.78 2.81-2.81c.8-.78.8-2.07 0-2.86zM5.41 20L4 18.59l7.72-7.72 1.47 1.35L5.41 20z\"/>\n",
       "  </svg>\n",
       "      </button>\n",
       "\n",
       "\n",
       "\n",
       "    <div id=\"df-fb94a948-ae97-4f1c-8612-0ecb25595f3a\">\n",
       "      <button class=\"colab-df-quickchart\" onclick=\"quickchart('df-fb94a948-ae97-4f1c-8612-0ecb25595f3a')\"\n",
       "              title=\"Suggest charts.\"\n",
       "              style=\"display:none;\">\n",
       "\n",
       "<svg xmlns=\"http://www.w3.org/2000/svg\" height=\"24px\"viewBox=\"0 0 24 24\"\n",
       "     width=\"24px\">\n",
       "    <g>\n",
       "        <path d=\"M19 3H5c-1.1 0-2 .9-2 2v14c0 1.1.9 2 2 2h14c1.1 0 2-.9 2-2V5c0-1.1-.9-2-2-2zM9 17H7v-7h2v7zm4 0h-2V7h2v10zm4 0h-2v-4h2v4z\"/>\n",
       "    </g>\n",
       "</svg>\n",
       "      </button>\n",
       "    </div>\n",
       "\n",
       "<style>\n",
       "  .colab-df-quickchart {\n",
       "    background-color: #E8F0FE;\n",
       "    border: none;\n",
       "    border-radius: 50%;\n",
       "    cursor: pointer;\n",
       "    display: none;\n",
       "    fill: #1967D2;\n",
       "    height: 32px;\n",
       "    padding: 0 0 0 0;\n",
       "    width: 32px;\n",
       "  }\n",
       "\n",
       "  .colab-df-quickchart:hover {\n",
       "    background-color: #E2EBFA;\n",
       "    box-shadow: 0px 1px 2px rgba(60, 64, 67, 0.3), 0px 1px 3px 1px rgba(60, 64, 67, 0.15);\n",
       "    fill: #174EA6;\n",
       "  }\n",
       "\n",
       "  [theme=dark] .colab-df-quickchart {\n",
       "    background-color: #3B4455;\n",
       "    fill: #D2E3FC;\n",
       "  }\n",
       "\n",
       "  [theme=dark] .colab-df-quickchart:hover {\n",
       "    background-color: #434B5C;\n",
       "    box-shadow: 0px 1px 3px 1px rgba(0, 0, 0, 0.15);\n",
       "    filter: drop-shadow(0px 1px 2px rgba(0, 0, 0, 0.3));\n",
       "    fill: #FFFFFF;\n",
       "  }\n",
       "</style>\n",
       "\n",
       "    <script>\n",
       "      async function quickchart(key) {\n",
       "        const containerElement = document.querySelector('#' + key);\n",
       "        const charts = await google.colab.kernel.invokeFunction(\n",
       "            'suggestCharts', [key], {});\n",
       "      }\n",
       "    </script>\n",
       "\n",
       "      <script>\n",
       "\n",
       "function displayQuickchartButton(domScope) {\n",
       "  let quickchartButtonEl =\n",
       "    domScope.querySelector('#df-fb94a948-ae97-4f1c-8612-0ecb25595f3a button.colab-df-quickchart');\n",
       "  quickchartButtonEl.style.display =\n",
       "    google.colab.kernel.accessAllowed ? 'block' : 'none';\n",
       "}\n",
       "\n",
       "        displayQuickchartButton(document);\n",
       "      </script>\n",
       "      <style>\n",
       "    .colab-df-container {\n",
       "      display:flex;\n",
       "      flex-wrap:wrap;\n",
       "      gap: 12px;\n",
       "    }\n",
       "\n",
       "    .colab-df-convert {\n",
       "      background-color: #E8F0FE;\n",
       "      border: none;\n",
       "      border-radius: 50%;\n",
       "      cursor: pointer;\n",
       "      display: none;\n",
       "      fill: #1967D2;\n",
       "      height: 32px;\n",
       "      padding: 0 0 0 0;\n",
       "      width: 32px;\n",
       "    }\n",
       "\n",
       "    .colab-df-convert:hover {\n",
       "      background-color: #E2EBFA;\n",
       "      box-shadow: 0px 1px 2px rgba(60, 64, 67, 0.3), 0px 1px 3px 1px rgba(60, 64, 67, 0.15);\n",
       "      fill: #174EA6;\n",
       "    }\n",
       "\n",
       "    [theme=dark] .colab-df-convert {\n",
       "      background-color: #3B4455;\n",
       "      fill: #D2E3FC;\n",
       "    }\n",
       "\n",
       "    [theme=dark] .colab-df-convert:hover {\n",
       "      background-color: #434B5C;\n",
       "      box-shadow: 0px 1px 3px 1px rgba(0, 0, 0, 0.15);\n",
       "      filter: drop-shadow(0px 1px 2px rgba(0, 0, 0, 0.3));\n",
       "      fill: #FFFFFF;\n",
       "    }\n",
       "  </style>\n",
       "\n",
       "      <script>\n",
       "        const buttonEl =\n",
       "          document.querySelector('#df-06a43f5a-f118-415d-adb9-e8896396df1d button.colab-df-convert');\n",
       "        buttonEl.style.display =\n",
       "          google.colab.kernel.accessAllowed ? 'block' : 'none';\n",
       "\n",
       "        async function convertToInteractive(key) {\n",
       "          const element = document.querySelector('#df-06a43f5a-f118-415d-adb9-e8896396df1d');\n",
       "          const dataTable =\n",
       "            await google.colab.kernel.invokeFunction('convertToInteractive',\n",
       "                                                     [key], {});\n",
       "          if (!dataTable) return;\n",
       "\n",
       "          const docLinkHtml = 'Like what you see? Visit the ' +\n",
       "            '<a target=\"_blank\" href=https://colab.research.google.com/notebooks/data_table.ipynb>data table notebook</a>'\n",
       "            + ' to learn more about interactive tables.';\n",
       "          element.innerHTML = '';\n",
       "          dataTable['output_type'] = 'display_data';\n",
       "          await google.colab.output.renderOutput(dataTable, element);\n",
       "          const docLink = document.createElement('div');\n",
       "          docLink.innerHTML = docLinkHtml;\n",
       "          element.appendChild(docLink);\n",
       "        }\n",
       "      </script>\n",
       "    </div>\n",
       "  </div>\n"
      ],
      "text/plain": [
       "            ID                                 CLUES       INGRE      EGRESO  \\\n",
       "0            1    CENTENARIO HOSPITAL MIGUEL HIDALGO  2010-01-04  2010-01-04   \n",
       "1            3    CENTENARIO HOSPITAL MIGUEL HIDALGO  2010-01-06  2010-01-06   \n",
       "2            4    CENTENARIO HOSPITAL MIGUEL HIDALGO  2010-01-05  2010-01-05   \n",
       "3            5    CENTENARIO HOSPITAL MIGUEL HIDALGO  2010-01-04  2010-01-04   \n",
       "4            8    CENTENARIO HOSPITAL MIGUEL HIDALGO  2010-01-04  2010-01-04   \n",
       "...        ...                                   ...         ...         ...   \n",
       "320889  321258  HOSPITAL GENERAL PABELLÓN DE ARTEAGA  2022-09-15  2022-09-15   \n",
       "320890  321259  HOSPITAL GENERAL PABELLÓN DE ARTEAGA  2022-09-14  2022-09-15   \n",
       "320891  321260  HOSPITAL GENERAL PABELLÓN DE ARTEAGA  2022-09-15  2022-09-16   \n",
       "320892  321261  HOSPITAL GENERAL PABELLÓN DE ARTEAGA  2022-09-07  2022-09-16   \n",
       "320893  321262  HOSPITAL GENERAL PABELLÓN DE ARTEAGA  2022-09-16  2022-09-17   \n",
       "\n",
       "        DIAS_ESTA  EDAD SEXO   PESO  TALLA   DERHAB  ... CAUSAEXT INFEC  \\\n",
       "0               1     0    M  999.0    999       NE  ...      NaN    NO   \n",
       "1               1     6    H  999.0    999       NE  ...      NaN    NO   \n",
       "2               1     5    H  999.0    999       NE  ...      NaN    NO   \n",
       "3               1    18    H  999.0    999       NE  ...      NaN    NO   \n",
       "4               1    17    M  999.0    999       NE  ...      NaN    NO   \n",
       "...           ...   ...  ...    ...    ...      ...  ...      ...   ...   \n",
       "320889          1    19    M   57.8    152  NINGUNA  ...      NaN    NO   \n",
       "320890          1    23    M   68.0    166  NINGUNA  ...      NaN    NO   \n",
       "320891          1    22    M   87.0    160  NINGUNA  ...      NaN    NO   \n",
       "320892          9    24    M   71.9    152  NINGUNA  ...      NaN    NO   \n",
       "320893          1    20    M   94.0    158  NINGUNA  ...      NaN    NO   \n",
       "\n",
       "           MOTEGRE NUMPROMED NUMAFEC CAT_EDAD CAT_DIASESTA DIABETES  \\\n",
       "0          MEJORIA       1.0       0      0-4    1 o menos       NO   \n",
       "1          MEJORIA       1.0       0     5-14    1 o menos       NO   \n",
       "2          MEJORIA       1.0       0     5-14    1 o menos       NO   \n",
       "3          MEJORIA       1.0       0    15-29    1 o menos       NO   \n",
       "4          MEJORIA       1.0       0    15-29    1 o menos       NO   \n",
       "...            ...       ...     ...      ...          ...      ...   \n",
       "320889     MEJORIA       8.0       1    15-29    1 o menos       NO   \n",
       "320890     MEJORIA       7.0       1    15-29    1 o menos       NO   \n",
       "320891     MEJORIA       1.0       1    15-29    1 o menos       NO   \n",
       "320892  VOLUNTARIO       1.0       1    15-29         8-30       NO   \n",
       "320893     MEJORIA       1.0       1    15-29    1 o menos       NO   \n",
       "\n",
       "       HIPERTENSION  OBESIDAD  \n",
       "0                NO        NO  \n",
       "1                NO        NO  \n",
       "2                NO        NO  \n",
       "3                NO        NO  \n",
       "4                NO        NO  \n",
       "...             ...       ...  \n",
       "320889           NO        NO  \n",
       "320890           NO        NO  \n",
       "320891           NO        NO  \n",
       "320892           NO        NO  \n",
       "320893           NO        NO  \n",
       "\n",
       "[320103 rows x 26 columns]"
      ]
     },
     "execution_count": 3,
     "metadata": {},
     "output_type": "execute_result"
    }
   ],
   "source": [
    "# Cargar base de datos egresos\n",
    "# Ruta de la base de datos egresos\n",
    "file = '/content/gdrive/MyDrive/Colab Notebooks/Bootcamp - Ciencia de Datos/PROYECTO/Proyecto_ModelosML/Bases/egresos.csv'\n",
    "# Leer el archivo csv, saltándose las líneas que tengan algún error de carga\n",
    "egresos = pd.read_csv(file, on_bad_lines='skip')\n",
    "# Eliminar la columna Unnamed que se asignó al guardar la base de datos\n",
    "egresos.drop([\"Unnamed: 0\"], axis=1, inplace=True)\n",
    "# Eliminar columnas que no nos sirven\n",
    "egresos = egresos.drop(['NACIOEN', 'LOC','CVEEDAD'], axis = 1)\n",
    "# Eliminar edad no especificada\n",
    "egresos = egresos.drop(egresos[egresos['EDAD']==999].index)\n",
    "# Eliminar datos categóricos no especificados\n",
    "egresos = egresos.drop(egresos[egresos['SEXO']=='NE'].index)\n",
    "egresos = egresos.drop(egresos[egresos['PROCED']=='NE'].index)\n",
    "egresos = egresos.drop(egresos[egresos['VEZ']=='NE'].index)\n",
    "egresos = egresos.drop(egresos[egresos['INFEC']=='NE'].index)\n",
    "egresos = egresos.drop(egresos[egresos['MOTEGRE']=='NE'].index)\n",
    "egresos = egresos.drop(egresos[egresos['MUNIC']=='NE'].index)\n",
    "# Visualizar la base de datos\n",
    "egresos"
   ]
  },
  {
   "cell_type": "code",
   "execution_count": 4,
   "metadata": {
    "executionInfo": {
     "elapsed": 9,
     "status": "ok",
     "timestamp": 1689970898342,
     "user": {
      "displayName": "Lili Morones",
      "userId": "03662130427026750805"
     },
     "user_tz": 360
    },
    "id": "kTU2VMKtfQ6V"
   },
   "outputs": [],
   "source": [
    "# Modificar las variables de egreso e ingreso a tipo fecha\n",
    "egresos['EGRESO'] = pd.to_datetime(egresos['EGRESO'])\n",
    "egresos['INGRE'] = pd.to_datetime(egresos['INGRE'])"
   ]
  },
  {
   "cell_type": "code",
   "execution_count": 5,
   "metadata": {
    "colab": {
     "base_uri": "https://localhost:8080/",
     "height": 0
    },
    "executionInfo": {
     "elapsed": 1056,
     "status": "ok",
     "timestamp": 1689970899391,
     "user": {
      "displayName": "Lili Morones",
      "userId": "03662130427026750805"
     },
     "user_tz": 360
    },
    "id": "J339jKJ8fVyH",
    "outputId": "0c6a095d-75d2-4827-f522-67aa11efe73d"
   },
   "outputs": [
    {
     "data": {
      "text/html": [
       "\n",
       "\n",
       "  <div id=\"df-58aeeb2f-7bea-486a-92b4-a561d5dad062\">\n",
       "    <div class=\"colab-df-container\">\n",
       "      <div>\n",
       "<style scoped>\n",
       "    .dataframe tbody tr th:only-of-type {\n",
       "        vertical-align: middle;\n",
       "    }\n",
       "\n",
       "    .dataframe tbody tr th {\n",
       "        vertical-align: top;\n",
       "    }\n",
       "\n",
       "    .dataframe thead th {\n",
       "        text-align: right;\n",
       "    }\n",
       "</style>\n",
       "<table border=\"1\" class=\"dataframe\">\n",
       "  <thead>\n",
       "    <tr style=\"text-align: right;\">\n",
       "      <th></th>\n",
       "      <th>ID</th>\n",
       "      <th>NUMAFEC</th>\n",
       "      <th>AFEC</th>\n",
       "    </tr>\n",
       "  </thead>\n",
       "  <tbody>\n",
       "    <tr>\n",
       "      <th>0</th>\n",
       "      <td>399</td>\n",
       "      <td>2</td>\n",
       "      <td>FRACTURA DE HUESOS DEL CRÁNEO Y DE LA CARA</td>\n",
       "    </tr>\n",
       "    <tr>\n",
       "      <th>1</th>\n",
       "      <td>399</td>\n",
       "      <td>3</td>\n",
       "      <td>FRACTURA DEL ANTEBRAZO</td>\n",
       "    </tr>\n",
       "    <tr>\n",
       "      <th>2</th>\n",
       "      <td>399</td>\n",
       "      <td>1</td>\n",
       "      <td>HIPERTENSIÓN ESENCIAL (PRIMARIA)</td>\n",
       "    </tr>\n",
       "    <tr>\n",
       "      <th>3</th>\n",
       "      <td>25245</td>\n",
       "      <td>1</td>\n",
       "      <td>ATENCIÓN PARA LA ANTICONCEPCIÓN</td>\n",
       "    </tr>\n",
       "    <tr>\n",
       "      <th>4</th>\n",
       "      <td>25569</td>\n",
       "      <td>1</td>\n",
       "      <td>ATENCIÓN PARA LA ANTICONCEPCIÓN</td>\n",
       "    </tr>\n",
       "    <tr>\n",
       "      <th>...</th>\n",
       "      <td>...</td>\n",
       "      <td>...</td>\n",
       "      <td>...</td>\n",
       "    </tr>\n",
       "    <tr>\n",
       "      <th>335480</th>\n",
       "      <td>321258</td>\n",
       "      <td>1</td>\n",
       "      <td>CAUSAS DE MORBILIDAD DESCONOCIDAS Y NO ESPECIF...</td>\n",
       "    </tr>\n",
       "    <tr>\n",
       "      <th>335481</th>\n",
       "      <td>321259</td>\n",
       "      <td>1</td>\n",
       "      <td>EMBARAZO ECTÓPICO</td>\n",
       "    </tr>\n",
       "    <tr>\n",
       "      <th>335482</th>\n",
       "      <td>321260</td>\n",
       "      <td>1</td>\n",
       "      <td>CAUSAS DE MORBILIDAD DESCONOCIDAS Y NO ESPECIF...</td>\n",
       "    </tr>\n",
       "    <tr>\n",
       "      <th>335483</th>\n",
       "      <td>321261</td>\n",
       "      <td>1</td>\n",
       "      <td>CAUSAS DE MORBILIDAD DESCONOCIDAS Y NO ESPECIF...</td>\n",
       "    </tr>\n",
       "    <tr>\n",
       "      <th>335484</th>\n",
       "      <td>321262</td>\n",
       "      <td>1</td>\n",
       "      <td>CAUSAS DE MORBILIDAD DESCONOCIDAS Y NO ESPECIF...</td>\n",
       "    </tr>\n",
       "  </tbody>\n",
       "</table>\n",
       "<p>335485 rows × 3 columns</p>\n",
       "</div>\n",
       "      <button class=\"colab-df-convert\" onclick=\"convertToInteractive('df-58aeeb2f-7bea-486a-92b4-a561d5dad062')\"\n",
       "              title=\"Convert this dataframe to an interactive table.\"\n",
       "              style=\"display:none;\">\n",
       "\n",
       "  <svg xmlns=\"http://www.w3.org/2000/svg\" height=\"24px\"viewBox=\"0 0 24 24\"\n",
       "       width=\"24px\">\n",
       "    <path d=\"M0 0h24v24H0V0z\" fill=\"none\"/>\n",
       "    <path d=\"M18.56 5.44l.94 2.06.94-2.06 2.06-.94-2.06-.94-.94-2.06-.94 2.06-2.06.94zm-11 1L8.5 8.5l.94-2.06 2.06-.94-2.06-.94L8.5 2.5l-.94 2.06-2.06.94zm10 10l.94 2.06.94-2.06 2.06-.94-2.06-.94-.94-2.06-.94 2.06-2.06.94z\"/><path d=\"M17.41 7.96l-1.37-1.37c-.4-.4-.92-.59-1.43-.59-.52 0-1.04.2-1.43.59L10.3 9.45l-7.72 7.72c-.78.78-.78 2.05 0 2.83L4 21.41c.39.39.9.59 1.41.59.51 0 1.02-.2 1.41-.59l7.78-7.78 2.81-2.81c.8-.78.8-2.07 0-2.86zM5.41 20L4 18.59l7.72-7.72 1.47 1.35L5.41 20z\"/>\n",
       "  </svg>\n",
       "      </button>\n",
       "\n",
       "\n",
       "\n",
       "    <div id=\"df-24fafc37-af3c-4ff8-a6de-70cab97d0dfa\">\n",
       "      <button class=\"colab-df-quickchart\" onclick=\"quickchart('df-24fafc37-af3c-4ff8-a6de-70cab97d0dfa')\"\n",
       "              title=\"Suggest charts.\"\n",
       "              style=\"display:none;\">\n",
       "\n",
       "<svg xmlns=\"http://www.w3.org/2000/svg\" height=\"24px\"viewBox=\"0 0 24 24\"\n",
       "     width=\"24px\">\n",
       "    <g>\n",
       "        <path d=\"M19 3H5c-1.1 0-2 .9-2 2v14c0 1.1.9 2 2 2h14c1.1 0 2-.9 2-2V5c0-1.1-.9-2-2-2zM9 17H7v-7h2v7zm4 0h-2V7h2v10zm4 0h-2v-4h2v4z\"/>\n",
       "    </g>\n",
       "</svg>\n",
       "      </button>\n",
       "    </div>\n",
       "\n",
       "<style>\n",
       "  .colab-df-quickchart {\n",
       "    background-color: #E8F0FE;\n",
       "    border: none;\n",
       "    border-radius: 50%;\n",
       "    cursor: pointer;\n",
       "    display: none;\n",
       "    fill: #1967D2;\n",
       "    height: 32px;\n",
       "    padding: 0 0 0 0;\n",
       "    width: 32px;\n",
       "  }\n",
       "\n",
       "  .colab-df-quickchart:hover {\n",
       "    background-color: #E2EBFA;\n",
       "    box-shadow: 0px 1px 2px rgba(60, 64, 67, 0.3), 0px 1px 3px 1px rgba(60, 64, 67, 0.15);\n",
       "    fill: #174EA6;\n",
       "  }\n",
       "\n",
       "  [theme=dark] .colab-df-quickchart {\n",
       "    background-color: #3B4455;\n",
       "    fill: #D2E3FC;\n",
       "  }\n",
       "\n",
       "  [theme=dark] .colab-df-quickchart:hover {\n",
       "    background-color: #434B5C;\n",
       "    box-shadow: 0px 1px 3px 1px rgba(0, 0, 0, 0.15);\n",
       "    filter: drop-shadow(0px 1px 2px rgba(0, 0, 0, 0.3));\n",
       "    fill: #FFFFFF;\n",
       "  }\n",
       "</style>\n",
       "\n",
       "    <script>\n",
       "      async function quickchart(key) {\n",
       "        const containerElement = document.querySelector('#' + key);\n",
       "        const charts = await google.colab.kernel.invokeFunction(\n",
       "            'suggestCharts', [key], {});\n",
       "      }\n",
       "    </script>\n",
       "\n",
       "      <script>\n",
       "\n",
       "function displayQuickchartButton(domScope) {\n",
       "  let quickchartButtonEl =\n",
       "    domScope.querySelector('#df-24fafc37-af3c-4ff8-a6de-70cab97d0dfa button.colab-df-quickchart');\n",
       "  quickchartButtonEl.style.display =\n",
       "    google.colab.kernel.accessAllowed ? 'block' : 'none';\n",
       "}\n",
       "\n",
       "        displayQuickchartButton(document);\n",
       "      </script>\n",
       "      <style>\n",
       "    .colab-df-container {\n",
       "      display:flex;\n",
       "      flex-wrap:wrap;\n",
       "      gap: 12px;\n",
       "    }\n",
       "\n",
       "    .colab-df-convert {\n",
       "      background-color: #E8F0FE;\n",
       "      border: none;\n",
       "      border-radius: 50%;\n",
       "      cursor: pointer;\n",
       "      display: none;\n",
       "      fill: #1967D2;\n",
       "      height: 32px;\n",
       "      padding: 0 0 0 0;\n",
       "      width: 32px;\n",
       "    }\n",
       "\n",
       "    .colab-df-convert:hover {\n",
       "      background-color: #E2EBFA;\n",
       "      box-shadow: 0px 1px 2px rgba(60, 64, 67, 0.3), 0px 1px 3px 1px rgba(60, 64, 67, 0.15);\n",
       "      fill: #174EA6;\n",
       "    }\n",
       "\n",
       "    [theme=dark] .colab-df-convert {\n",
       "      background-color: #3B4455;\n",
       "      fill: #D2E3FC;\n",
       "    }\n",
       "\n",
       "    [theme=dark] .colab-df-convert:hover {\n",
       "      background-color: #434B5C;\n",
       "      box-shadow: 0px 1px 3px 1px rgba(0, 0, 0, 0.15);\n",
       "      filter: drop-shadow(0px 1px 2px rgba(0, 0, 0, 0.3));\n",
       "      fill: #FFFFFF;\n",
       "    }\n",
       "  </style>\n",
       "\n",
       "      <script>\n",
       "        const buttonEl =\n",
       "          document.querySelector('#df-58aeeb2f-7bea-486a-92b4-a561d5dad062 button.colab-df-convert');\n",
       "        buttonEl.style.display =\n",
       "          google.colab.kernel.accessAllowed ? 'block' : 'none';\n",
       "\n",
       "        async function convertToInteractive(key) {\n",
       "          const element = document.querySelector('#df-58aeeb2f-7bea-486a-92b4-a561d5dad062');\n",
       "          const dataTable =\n",
       "            await google.colab.kernel.invokeFunction('convertToInteractive',\n",
       "                                                     [key], {});\n",
       "          if (!dataTable) return;\n",
       "\n",
       "          const docLinkHtml = 'Like what you see? Visit the ' +\n",
       "            '<a target=\"_blank\" href=https://colab.research.google.com/notebooks/data_table.ipynb>data table notebook</a>'\n",
       "            + ' to learn more about interactive tables.';\n",
       "          element.innerHTML = '';\n",
       "          dataTable['output_type'] = 'display_data';\n",
       "          await google.colab.output.renderOutput(dataTable, element);\n",
       "          const docLink = document.createElement('div');\n",
       "          docLink.innerHTML = docLinkHtml;\n",
       "          element.appendChild(docLink);\n",
       "        }\n",
       "      </script>\n",
       "    </div>\n",
       "  </div>\n"
      ],
      "text/plain": [
       "            ID  NUMAFEC                                               AFEC\n",
       "0          399        2         FRACTURA DE HUESOS DEL CRÁNEO Y DE LA CARA\n",
       "1          399        3                             FRACTURA DEL ANTEBRAZO\n",
       "2          399        1                   HIPERTENSIÓN ESENCIAL (PRIMARIA)\n",
       "3        25245        1                    ATENCIÓN PARA LA ANTICONCEPCIÓN\n",
       "4        25569        1                    ATENCIÓN PARA LA ANTICONCEPCIÓN\n",
       "...        ...      ...                                                ...\n",
       "335480  321258        1  CAUSAS DE MORBILIDAD DESCONOCIDAS Y NO ESPECIF...\n",
       "335481  321259        1                                  EMBARAZO ECTÓPICO\n",
       "335482  321260        1  CAUSAS DE MORBILIDAD DESCONOCIDAS Y NO ESPECIF...\n",
       "335483  321261        1  CAUSAS DE MORBILIDAD DESCONOCIDAS Y NO ESPECIF...\n",
       "335484  321262        1  CAUSAS DE MORBILIDAD DESCONOCIDAS Y NO ESPECIF...\n",
       "\n",
       "[335485 rows x 3 columns]"
      ]
     },
     "execution_count": 5,
     "metadata": {},
     "output_type": "execute_result"
    }
   ],
   "source": [
    "# Cargar base de datos afecciones\n",
    "file = '/content/gdrive/MyDrive/Colab Notebooks/Bootcamp - Ciencia de Datos/PROYECTO/Proyecto_ModelosML/Bases/afecciones.csv'\n",
    "afecciones = pd.read_csv(file, on_bad_lines='skip')\n",
    "afecciones.drop([\"Unnamed: 0\"], axis=1, inplace=True)\n",
    "afecciones"
   ]
  },
  {
   "cell_type": "code",
   "execution_count": 6,
   "metadata": {
    "colab": {
     "base_uri": "https://localhost:8080/",
     "height": 0
    },
    "executionInfo": {
     "elapsed": 1472,
     "status": "ok",
     "timestamp": 1689970900858,
     "user": {
      "displayName": "Lili Morones",
      "userId": "03662130427026750805"
     },
     "user_tz": 360
    },
    "id": "h6HRUQZZfZi7",
    "outputId": "790e8b69-b9d2-4c90-e3b0-ac6c43ffefad"
   },
   "outputs": [
    {
     "data": {
      "text/html": [
       "\n",
       "\n",
       "  <div id=\"df-5b7fa3de-d33c-41be-8d80-9157dc844495\">\n",
       "    <div class=\"colab-df-container\">\n",
       "      <div>\n",
       "<style scoped>\n",
       "    .dataframe tbody tr th:only-of-type {\n",
       "        vertical-align: middle;\n",
       "    }\n",
       "\n",
       "    .dataframe tbody tr th {\n",
       "        vertical-align: top;\n",
       "    }\n",
       "\n",
       "    .dataframe thead th {\n",
       "        text-align: right;\n",
       "    }\n",
       "</style>\n",
       "<table border=\"1\" class=\"dataframe\">\n",
       "  <thead>\n",
       "    <tr style=\"text-align: right;\">\n",
       "      <th></th>\n",
       "      <th>ID</th>\n",
       "      <th>NUMPROMED</th>\n",
       "      <th>TIPO</th>\n",
       "      <th>PROMED</th>\n",
       "      <th>ANEST</th>\n",
       "      <th>QUIROF</th>\n",
       "      <th>QH</th>\n",
       "      <th>QM</th>\n",
       "    </tr>\n",
       "  </thead>\n",
       "  <tbody>\n",
       "    <tr>\n",
       "      <th>0</th>\n",
       "      <td>10952</td>\n",
       "      <td>1</td>\n",
       "      <td>QUIRURGICO</td>\n",
       "      <td>LAPAROTOMÍA</td>\n",
       "      <td>REGIONAL</td>\n",
       "      <td>EN</td>\n",
       "      <td>99.0</td>\n",
       "      <td>99.0</td>\n",
       "    </tr>\n",
       "    <tr>\n",
       "      <th>1</th>\n",
       "      <td>23436</td>\n",
       "      <td>1</td>\n",
       "      <td>QUIRURGICO</td>\n",
       "      <td>LAPAROTOMÍA</td>\n",
       "      <td>REGIONAL</td>\n",
       "      <td>EN</td>\n",
       "      <td>1.0</td>\n",
       "      <td>0.0</td>\n",
       "    </tr>\n",
       "    <tr>\n",
       "      <th>2</th>\n",
       "      <td>23659</td>\n",
       "      <td>1</td>\n",
       "      <td>QUIRURGICO</td>\n",
       "      <td>LAPAROTOMÍA</td>\n",
       "      <td>REGIONAL</td>\n",
       "      <td>EN</td>\n",
       "      <td>1.0</td>\n",
       "      <td>0.0</td>\n",
       "    </tr>\n",
       "    <tr>\n",
       "      <th>3</th>\n",
       "      <td>23789</td>\n",
       "      <td>1</td>\n",
       "      <td>QUIRURGICO</td>\n",
       "      <td>LAPAROTOMÍA</td>\n",
       "      <td>GENERAL</td>\n",
       "      <td>EN</td>\n",
       "      <td>99.0</td>\n",
       "      <td>99.0</td>\n",
       "    </tr>\n",
       "    <tr>\n",
       "      <th>4</th>\n",
       "      <td>24367</td>\n",
       "      <td>1</td>\n",
       "      <td>QUIRURGICO</td>\n",
       "      <td>LAPAROTOMÍA</td>\n",
       "      <td>REGIONAL</td>\n",
       "      <td>EN</td>\n",
       "      <td>1.0</td>\n",
       "      <td>0.0</td>\n",
       "    </tr>\n",
       "    <tr>\n",
       "      <th>...</th>\n",
       "      <td>...</td>\n",
       "      <td>...</td>\n",
       "      <td>...</td>\n",
       "      <td>...</td>\n",
       "      <td>...</td>\n",
       "      <td>...</td>\n",
       "      <td>...</td>\n",
       "      <td>...</td>\n",
       "    </tr>\n",
       "    <tr>\n",
       "      <th>519455</th>\n",
       "      <td>321259</td>\n",
       "      <td>6</td>\n",
       "      <td>DIAGNOSTICO</td>\n",
       "      <td>ECOGRAFÍA DIAGNÓSTICA</td>\n",
       "      <td>NO USO</td>\n",
       "      <td>FUERA</td>\n",
       "      <td>NaN</td>\n",
       "      <td>NaN</td>\n",
       "    </tr>\n",
       "    <tr>\n",
       "      <th>519456</th>\n",
       "      <td>321259</td>\n",
       "      <td>7</td>\n",
       "      <td>DIAGNOSTICO</td>\n",
       "      <td>PROCEDIMIENTOS EN CONSULTORIO II</td>\n",
       "      <td>NO USO</td>\n",
       "      <td>FUERA</td>\n",
       "      <td>NaN</td>\n",
       "      <td>NaN</td>\n",
       "    </tr>\n",
       "    <tr>\n",
       "      <th>519457</th>\n",
       "      <td>321260</td>\n",
       "      <td>1</td>\n",
       "      <td>QUIRURGICO</td>\n",
       "      <td>DILATACIÓN Y LEGRADO DEL ÚTERO</td>\n",
       "      <td>SEDACION</td>\n",
       "      <td>EN</td>\n",
       "      <td>17.0</td>\n",
       "      <td>40.0</td>\n",
       "    </tr>\n",
       "    <tr>\n",
       "      <th>519458</th>\n",
       "      <td>321261</td>\n",
       "      <td>1</td>\n",
       "      <td>TERAPEUTICO</td>\n",
       "      <td>INYECCIÓN O INFUSIÓN DE SUSTANCIA TERAPÉUTICA ...</td>\n",
       "      <td>NO USO</td>\n",
       "      <td>EN</td>\n",
       "      <td>10.0</td>\n",
       "      <td>0.0</td>\n",
       "    </tr>\n",
       "    <tr>\n",
       "      <th>519459</th>\n",
       "      <td>321262</td>\n",
       "      <td>1</td>\n",
       "      <td>TERAPEUTICO</td>\n",
       "      <td>PARTO ASISTIDO MANUALMENTE</td>\n",
       "      <td>NO USO</td>\n",
       "      <td>EN</td>\n",
       "      <td>7.0</td>\n",
       "      <td>46.0</td>\n",
       "    </tr>\n",
       "  </tbody>\n",
       "</table>\n",
       "<p>519460 rows × 8 columns</p>\n",
       "</div>\n",
       "      <button class=\"colab-df-convert\" onclick=\"convertToInteractive('df-5b7fa3de-d33c-41be-8d80-9157dc844495')\"\n",
       "              title=\"Convert this dataframe to an interactive table.\"\n",
       "              style=\"display:none;\">\n",
       "\n",
       "  <svg xmlns=\"http://www.w3.org/2000/svg\" height=\"24px\"viewBox=\"0 0 24 24\"\n",
       "       width=\"24px\">\n",
       "    <path d=\"M0 0h24v24H0V0z\" fill=\"none\"/>\n",
       "    <path d=\"M18.56 5.44l.94 2.06.94-2.06 2.06-.94-2.06-.94-.94-2.06-.94 2.06-2.06.94zm-11 1L8.5 8.5l.94-2.06 2.06-.94-2.06-.94L8.5 2.5l-.94 2.06-2.06.94zm10 10l.94 2.06.94-2.06 2.06-.94-2.06-.94-.94-2.06-.94 2.06-2.06.94z\"/><path d=\"M17.41 7.96l-1.37-1.37c-.4-.4-.92-.59-1.43-.59-.52 0-1.04.2-1.43.59L10.3 9.45l-7.72 7.72c-.78.78-.78 2.05 0 2.83L4 21.41c.39.39.9.59 1.41.59.51 0 1.02-.2 1.41-.59l7.78-7.78 2.81-2.81c.8-.78.8-2.07 0-2.86zM5.41 20L4 18.59l7.72-7.72 1.47 1.35L5.41 20z\"/>\n",
       "  </svg>\n",
       "      </button>\n",
       "\n",
       "\n",
       "\n",
       "    <div id=\"df-d83fa6b6-c90c-475a-8885-fce3cc6acd77\">\n",
       "      <button class=\"colab-df-quickchart\" onclick=\"quickchart('df-d83fa6b6-c90c-475a-8885-fce3cc6acd77')\"\n",
       "              title=\"Suggest charts.\"\n",
       "              style=\"display:none;\">\n",
       "\n",
       "<svg xmlns=\"http://www.w3.org/2000/svg\" height=\"24px\"viewBox=\"0 0 24 24\"\n",
       "     width=\"24px\">\n",
       "    <g>\n",
       "        <path d=\"M19 3H5c-1.1 0-2 .9-2 2v14c0 1.1.9 2 2 2h14c1.1 0 2-.9 2-2V5c0-1.1-.9-2-2-2zM9 17H7v-7h2v7zm4 0h-2V7h2v10zm4 0h-2v-4h2v4z\"/>\n",
       "    </g>\n",
       "</svg>\n",
       "      </button>\n",
       "    </div>\n",
       "\n",
       "<style>\n",
       "  .colab-df-quickchart {\n",
       "    background-color: #E8F0FE;\n",
       "    border: none;\n",
       "    border-radius: 50%;\n",
       "    cursor: pointer;\n",
       "    display: none;\n",
       "    fill: #1967D2;\n",
       "    height: 32px;\n",
       "    padding: 0 0 0 0;\n",
       "    width: 32px;\n",
       "  }\n",
       "\n",
       "  .colab-df-quickchart:hover {\n",
       "    background-color: #E2EBFA;\n",
       "    box-shadow: 0px 1px 2px rgba(60, 64, 67, 0.3), 0px 1px 3px 1px rgba(60, 64, 67, 0.15);\n",
       "    fill: #174EA6;\n",
       "  }\n",
       "\n",
       "  [theme=dark] .colab-df-quickchart {\n",
       "    background-color: #3B4455;\n",
       "    fill: #D2E3FC;\n",
       "  }\n",
       "\n",
       "  [theme=dark] .colab-df-quickchart:hover {\n",
       "    background-color: #434B5C;\n",
       "    box-shadow: 0px 1px 3px 1px rgba(0, 0, 0, 0.15);\n",
       "    filter: drop-shadow(0px 1px 2px rgba(0, 0, 0, 0.3));\n",
       "    fill: #FFFFFF;\n",
       "  }\n",
       "</style>\n",
       "\n",
       "    <script>\n",
       "      async function quickchart(key) {\n",
       "        const containerElement = document.querySelector('#' + key);\n",
       "        const charts = await google.colab.kernel.invokeFunction(\n",
       "            'suggestCharts', [key], {});\n",
       "      }\n",
       "    </script>\n",
       "\n",
       "      <script>\n",
       "\n",
       "function displayQuickchartButton(domScope) {\n",
       "  let quickchartButtonEl =\n",
       "    domScope.querySelector('#df-d83fa6b6-c90c-475a-8885-fce3cc6acd77 button.colab-df-quickchart');\n",
       "  quickchartButtonEl.style.display =\n",
       "    google.colab.kernel.accessAllowed ? 'block' : 'none';\n",
       "}\n",
       "\n",
       "        displayQuickchartButton(document);\n",
       "      </script>\n",
       "      <style>\n",
       "    .colab-df-container {\n",
       "      display:flex;\n",
       "      flex-wrap:wrap;\n",
       "      gap: 12px;\n",
       "    }\n",
       "\n",
       "    .colab-df-convert {\n",
       "      background-color: #E8F0FE;\n",
       "      border: none;\n",
       "      border-radius: 50%;\n",
       "      cursor: pointer;\n",
       "      display: none;\n",
       "      fill: #1967D2;\n",
       "      height: 32px;\n",
       "      padding: 0 0 0 0;\n",
       "      width: 32px;\n",
       "    }\n",
       "\n",
       "    .colab-df-convert:hover {\n",
       "      background-color: #E2EBFA;\n",
       "      box-shadow: 0px 1px 2px rgba(60, 64, 67, 0.3), 0px 1px 3px 1px rgba(60, 64, 67, 0.15);\n",
       "      fill: #174EA6;\n",
       "    }\n",
       "\n",
       "    [theme=dark] .colab-df-convert {\n",
       "      background-color: #3B4455;\n",
       "      fill: #D2E3FC;\n",
       "    }\n",
       "\n",
       "    [theme=dark] .colab-df-convert:hover {\n",
       "      background-color: #434B5C;\n",
       "      box-shadow: 0px 1px 3px 1px rgba(0, 0, 0, 0.15);\n",
       "      filter: drop-shadow(0px 1px 2px rgba(0, 0, 0, 0.3));\n",
       "      fill: #FFFFFF;\n",
       "    }\n",
       "  </style>\n",
       "\n",
       "      <script>\n",
       "        const buttonEl =\n",
       "          document.querySelector('#df-5b7fa3de-d33c-41be-8d80-9157dc844495 button.colab-df-convert');\n",
       "        buttonEl.style.display =\n",
       "          google.colab.kernel.accessAllowed ? 'block' : 'none';\n",
       "\n",
       "        async function convertToInteractive(key) {\n",
       "          const element = document.querySelector('#df-5b7fa3de-d33c-41be-8d80-9157dc844495');\n",
       "          const dataTable =\n",
       "            await google.colab.kernel.invokeFunction('convertToInteractive',\n",
       "                                                     [key], {});\n",
       "          if (!dataTable) return;\n",
       "\n",
       "          const docLinkHtml = 'Like what you see? Visit the ' +\n",
       "            '<a target=\"_blank\" href=https://colab.research.google.com/notebooks/data_table.ipynb>data table notebook</a>'\n",
       "            + ' to learn more about interactive tables.';\n",
       "          element.innerHTML = '';\n",
       "          dataTable['output_type'] = 'display_data';\n",
       "          await google.colab.output.renderOutput(dataTable, element);\n",
       "          const docLink = document.createElement('div');\n",
       "          docLink.innerHTML = docLinkHtml;\n",
       "          element.appendChild(docLink);\n",
       "        }\n",
       "      </script>\n",
       "    </div>\n",
       "  </div>\n"
      ],
      "text/plain": [
       "            ID  NUMPROMED         TIPO  \\\n",
       "0        10952          1   QUIRURGICO   \n",
       "1        23436          1   QUIRURGICO   \n",
       "2        23659          1   QUIRURGICO   \n",
       "3        23789          1   QUIRURGICO   \n",
       "4        24367          1   QUIRURGICO   \n",
       "...        ...        ...          ...   \n",
       "519455  321259          6  DIAGNOSTICO   \n",
       "519456  321259          7  DIAGNOSTICO   \n",
       "519457  321260          1   QUIRURGICO   \n",
       "519458  321261          1  TERAPEUTICO   \n",
       "519459  321262          1  TERAPEUTICO   \n",
       "\n",
       "                                                   PROMED     ANEST QUIROF  \\\n",
       "0                                             LAPAROTOMÍA  REGIONAL     EN   \n",
       "1                                             LAPAROTOMÍA  REGIONAL     EN   \n",
       "2                                             LAPAROTOMÍA  REGIONAL     EN   \n",
       "3                                             LAPAROTOMÍA   GENERAL     EN   \n",
       "4                                             LAPAROTOMÍA  REGIONAL     EN   \n",
       "...                                                   ...       ...    ...   \n",
       "519455                              ECOGRAFÍA DIAGNÓSTICA    NO USO  FUERA   \n",
       "519456                   PROCEDIMIENTOS EN CONSULTORIO II    NO USO  FUERA   \n",
       "519457                     DILATACIÓN Y LEGRADO DEL ÚTERO  SEDACION     EN   \n",
       "519458  INYECCIÓN O INFUSIÓN DE SUSTANCIA TERAPÉUTICA ...    NO USO     EN   \n",
       "519459                         PARTO ASISTIDO MANUALMENTE    NO USO     EN   \n",
       "\n",
       "          QH    QM  \n",
       "0       99.0  99.0  \n",
       "1        1.0   0.0  \n",
       "2        1.0   0.0  \n",
       "3       99.0  99.0  \n",
       "4        1.0   0.0  \n",
       "...      ...   ...  \n",
       "519455   NaN   NaN  \n",
       "519456   NaN   NaN  \n",
       "519457  17.0  40.0  \n",
       "519458  10.0   0.0  \n",
       "519459   7.0  46.0  \n",
       "\n",
       "[519460 rows x 8 columns]"
      ]
     },
     "execution_count": 6,
     "metadata": {},
     "output_type": "execute_result"
    }
   ],
   "source": [
    "# Cargar base de datos procedimientos\n",
    "file = '/content/gdrive/MyDrive/Colab Notebooks/Bootcamp - Ciencia de Datos/PROYECTO/Proyecto_ModelosML/Bases/procedimientos.csv'\n",
    "procedimientos = pd.read_csv(file, on_bad_lines='skip')\n",
    "procedimientos.drop([\"Unnamed: 0\"], axis=1, inplace=True)\n",
    "procedimientos"
   ]
  },
  {
   "cell_type": "markdown",
   "metadata": {
    "id": "fEYY7IgBGWGu"
   },
   "source": [
    "## Agregar columnas"
   ]
  },
  {
   "cell_type": "code",
   "execution_count": 7,
   "metadata": {
    "executionInfo": {
     "elapsed": 266,
     "status": "ok",
     "timestamp": 1689970903127,
     "user": {
      "displayName": "Lili Morones",
      "userId": "03662130427026750805"
     },
     "user_tz": 360
    },
    "id": "15IHHNpmGda3"
   },
   "outputs": [],
   "source": [
    "# Pacientes con afección principal distinta al diagnóstico inicial\n",
    "egresos['MAL_DIAG'] = (egresos['DIAG_INI']!= egresos['AFECPRIN']).astype(int)"
   ]
  },
  {
   "cell_type": "code",
   "execution_count": 8,
   "metadata": {
    "executionInfo": {
     "elapsed": 9,
     "status": "ok",
     "timestamp": 1689970903491,
     "user": {
      "displayName": "Lili Morones",
      "userId": "03662130427026750805"
     },
     "user_tz": 360
    },
    "id": "dkAD-LF4jUZT"
   },
   "outputs": [],
   "source": [
    "# Pacientes que a los que se les ha administrado al menos una vez anestesia general\n",
    "egresos['ANEST_GRAL'] = egresos['ID'].isin(procedimientos.loc[procedimientos['ANEST'] == 'GENERAL', 'ID']).map({True: 1, False: 0})"
   ]
  },
  {
   "cell_type": "code",
   "execution_count": 9,
   "metadata": {
    "executionInfo": {
     "elapsed": 9,
     "status": "ok",
     "timestamp": 1689970903493,
     "user": {
      "displayName": "Lili Morones",
      "userId": "03662130427026750805"
     },
     "user_tz": 360
    },
    "id": "nxTD-2Wekp0I"
   },
   "outputs": [],
   "source": [
    "# Pacientes que han pasado por al menos 1 procedimiento quirúrgico\n",
    "egresos['QUIRURGICO'] = egresos['ID'].isin(procedimientos.loc[procedimientos['TIPO'] == 'QUIRURGICO', 'ID']).map({True: 1, False: 0})\n",
    "#egresos['QUIROFANO'] = procedimientos.loc[(procedimientos['TIPO'] == 'QUIRURGICO') & (procedimientos['QUIROF'] == 'EN')].groupby('ID')['TIPO'].count()\n",
    "#egresos['QUIROFANO'] = egresos['QUIROFANO'].fillna(0)"
   ]
  },
  {
   "cell_type": "code",
   "execution_count": 10,
   "metadata": {
    "executionInfo": {
     "elapsed": 231,
     "status": "ok",
     "timestamp": 1689970903715,
     "user": {
      "displayName": "Lili Morones",
      "userId": "03662130427026750805"
     },
     "user_tz": 360
    },
    "id": "eLQxGcnkL5j5"
   },
   "outputs": [],
   "source": [
    "# Extraer el día, mes y año de la columna de fecha de ingreso\n",
    "egresos['INGRE_DIA'] = egresos['INGRE'].dt.day\n",
    "egresos['INGRE_MES'] = egresos['INGRE'].dt.month\n",
    "egresos['INGRE_ANIO'] = egresos['INGRE'].dt.year\n",
    "\n",
    "# Extraer el día, mes y año de las columnas de fecha de egreso\n",
    "egresos['EGRESO_DIA'] = egresos['EGRESO'].dt.day\n",
    "egresos['EGRESO_MES'] = egresos['EGRESO'].dt.month\n",
    "egresos['EGRESO_ANIO'] = egresos['EGRESO'].dt.year\n",
    "\n",
    "#Eliminar las fechas\n",
    "egresos.drop(['INGRE'], axis = 1, inplace = True)\n",
    "egresos.drop(['EGRESO'], axis = 1, inplace = True)"
   ]
  },
  {
   "cell_type": "markdown",
   "metadata": {
    "id": "yUXk1Nb2OOa_"
   },
   "source": [
    "## Funciones"
   ]
  },
  {
   "cell_type": "markdown",
   "metadata": {
    "id": "j0QARtfYkQKL"
   },
   "source": [
    "### Funciones para cambiar variables categóricas a numéricas"
   ]
  },
  {
   "cell_type": "markdown",
   "metadata": {
    "id": "83MqxJIImz2N"
   },
   "source": [
    "#### Get dummies para variables con 2 categorías"
   ]
  },
  {
   "cell_type": "code",
   "execution_count": 11,
   "metadata": {
    "executionInfo": {
     "elapsed": 201,
     "status": "ok",
     "timestamp": 1689970905638,
     "user": {
      "displayName": "Lili Morones",
      "userId": "03662130427026750805"
     },
     "user_tz": 360
    },
    "id": "NnVsvuwIUhXl"
   },
   "outputs": [],
   "source": [
    "def cat_dummies(df, variables):\n",
    "    \"\"\"\n",
    "    Función que codifica las variables categóricas especificadas del dataframe\n",
    "    a variables numéricas, creando una columna por cada categoria con valores\n",
    "    de 1 o 0 (eliminando la primer categoría).\n",
    "    Args:\n",
    "    - df: el dataframe del que se tomarán las variables a codificar\n",
    "    - variables: lista de variables categóricas que se desean convertir a\n",
    "    numéricas\n",
    "    Return:\n",
    "    - df: el mismo dataframe modificado a las variables codificadas\n",
    "    \"\"\"\n",
    "    df = pd.get_dummies(df, columns = variables, drop_first=True)\n",
    "    return df"
   ]
  },
  {
   "cell_type": "markdown",
   "metadata": {
    "id": "mV-Fls3tg8_B"
   },
   "source": [
    "#### Label encoder para variables con más de 2 categorías nominales"
   ]
  },
  {
   "cell_type": "code",
   "execution_count": 12,
   "metadata": {
    "executionInfo": {
     "elapsed": 9,
     "status": "ok",
     "timestamp": 1689970905915,
     "user": {
      "displayName": "Lili Morones",
      "userId": "03662130427026750805"
     },
     "user_tz": 360
    },
    "id": "MQ4eMzYXdjpk"
   },
   "outputs": [],
   "source": [
    "def cat_label(df, variables):\n",
    "    \"\"\"\n",
    "    Función que codifica las variables categóricas nominales deseadas de un\n",
    "    dataframe, a variables numéricas. En donde a cada categoría se le asigna\n",
    "    un número distinto (conservando 1 sola columna).\n",
    "    Args:\n",
    "    - df: el dataframe del que se tomarán las variables a codificar\n",
    "    - variables: lista de variables categóricas que se desean convertir a\n",
    "    numéricas.\n",
    "    Return:\n",
    "    - df: el mismo dataframe modificado a las variables codificadas\n",
    "    - diccionario_label: un diccionario donde se guarda el número asignado\n",
    "    a cada categoría de cada una de las variables codificadas.\n",
    "    \"\"\"\n",
    "    # Crear una instancia del codificador de etiquetas\n",
    "    label_encoder = LabelEncoder()\n",
    "    # Variables categóricas a codificar\n",
    "    diccionario_label = {}\n",
    "    # Iterar sobre las variables categóricas y aplicar la codificación\n",
    "    for v in variables:\n",
    "        df[v] = label_encoder.fit_transform(df[v])\n",
    "        # Guardar las etiquetas en el diccionario\n",
    "        diccionario_label[v] = {\n",
    "            'etiquetas': label_encoder.classes_, # Contiene las etiquetas únicas originales\n",
    "            'valores_numericos': label_encoder.transform(label_encoder.classes_) # Toma los valores numéricos aplicados con LabelEncoder\n",
    "        }\n",
    "    return df, diccionario_label"
   ]
  },
  {
   "cell_type": "code",
   "execution_count": 13,
   "metadata": {
    "executionInfo": {
     "elapsed": 9,
     "status": "ok",
     "timestamp": 1689970905916,
     "user": {
      "displayName": "Lili Morones",
      "userId": "03662130427026750805"
     },
     "user_tz": 360
    },
    "id": "gad1qbKafGpv"
   },
   "outputs": [],
   "source": [
    "def num_etiquetas(variable, diccionario):\n",
    "    \"\"\"\n",
    "    Función que devuelve las categorías originales de una variable y su\n",
    "    correspondiente valor numérico después de aplicar LabelEncoder.\n",
    "    Args:\n",
    "    - variable: la variable de la que se desa conocer su codificación\n",
    "    - diccionario: diccionario que contiene todas las etiquetas de un df\n",
    "    Return:\n",
    "    - impresión directa de cada etiqueta con su respectivo valor numérico\n",
    "    \"\"\"\n",
    "    # Verificar los valores numéricos para la variable deseada\n",
    "    etiquetas = diccionario[variable]['etiquetas']\n",
    "    valores = diccionario[variable]['valores_numericos']\n",
    "    # Mostrar las etiquetas y los valores numéricos asignados\n",
    "    for etiqueta, valor in zip(etiquetas, valores):\n",
    "        print(f'{etiqueta}: {valor}')"
   ]
  },
  {
   "cell_type": "markdown",
   "metadata": {
    "id": "LZgHhf1ThQOp"
   },
   "source": [
    "#### Ordinal encoder para variables categóricas ordinales"
   ]
  },
  {
   "cell_type": "code",
   "execution_count": 14,
   "metadata": {
    "executionInfo": {
     "elapsed": 10,
     "status": "ok",
     "timestamp": 1689970905917,
     "user": {
      "displayName": "Lili Morones",
      "userId": "03662130427026750805"
     },
     "user_tz": 360
    },
    "id": "NnGtgwhLpcjR"
   },
   "outputs": [],
   "source": [
    "def cat_ordinal(df, categorias):\n",
    "    \"\"\"\n",
    "    Función que codifica las variables categóricas ordinales deseadas de un\n",
    "    dataframe a variables numéricas.\n",
    "    Args:\n",
    "    - df: el dataframe del que se tomarán las variables a codificar\n",
    "    - categorías: un diccionario con el orden deseado de las categorías para\n",
    "    cada variable a codificar\n",
    "    Return:\n",
    "    - df: el mismo dataframe con las variables ya codificadas\n",
    "    \"\"\"\n",
    "    # Iterar para cada variable y sus categorías correspondientes\n",
    "    for columna, cats in categorias.items():\n",
    "        ordinal_encoder = OrdinalEncoder(categories=[cats]) # Crear una instancia de OrdinalEncoder\n",
    "        df[columna] = ordinal_encoder.fit_transform(df[[columna]]) # Aplicar OrdinalEncoder a cada variable\n",
    "    return df"
   ]
  },
  {
   "cell_type": "markdown",
   "metadata": {
    "id": "IVf24TxOimIq"
   },
   "source": [
    "### Funciones para evaluar modelos"
   ]
  },
  {
   "cell_type": "markdown",
   "metadata": {
    "id": "ippiiiJfkwa4"
   },
   "source": [
    "#### Clasificación"
   ]
  },
  {
   "cell_type": "code",
   "execution_count": 15,
   "metadata": {
    "executionInfo": {
     "elapsed": 9,
     "status": "ok",
     "timestamp": 1689970905917,
     "user": {
      "displayName": "Lili Morones",
      "userId": "03662130427026750805"
     },
     "user_tz": 360
    },
    "id": "5NZ_5_6BwoxG"
   },
   "outputs": [],
   "source": [
    "def modelo_clas(data, objetivo, modelo, train_size= 0.8, cv = 5):\n",
    "    #Crear una copia del dataset para no modificar el original\n",
    "    df = data.copy()\n",
    "    #Separar la variable objetivo\n",
    "    X = df.drop([objetivo], axis = 1)\n",
    "    y = df[[objetivo]]\n",
    "    #Dividir datos en prueba y entrenamiento\n",
    "    X_train, X_test, y_train, y_test = train_test_split(X, y,\n",
    "                                                    train_size = train_size,\n",
    "                                                    random_state = 42)\n",
    "    #Ajustar el modelo\n",
    "    modelo.fit(X_train, y_train)\n",
    "    #Predecir\n",
    "    pred = modelo.predict(X_test)\n",
    "    #Crear métricas de evaluación\n",
    "    cm = confusion_matrix(y_test, pred)\n",
    "    cr = classification_report(y_test, pred)\n",
    "    accuracy = accuracy_score(\n",
    "            y_true    = y_test,\n",
    "            y_pred    = pred,\n",
    "            normalize = True\n",
    "            )\n",
    "    #Mostrar métricas de evaluación\n",
    "    cv_scores = cross_val_score(modelo, X_train, y_train, cv=cv, scoring=\"accuracy\") # Realizar validación cruzada y mostrar las métricas promedio\n",
    "    print(f\"Validación cruzada (exactitud): {100*cv_scores.mean()}% \\n\")\n",
    "    print(f'Matriz de confusión: \\n {cm} \\n')\n",
    "    print(f'Reporte de clasificación: \\n {cr}')"
   ]
  },
  {
   "cell_type": "code",
   "execution_count": 16,
   "metadata": {
    "executionInfo": {
     "elapsed": 9,
     "status": "ok",
     "timestamp": 1689970905918,
     "user": {
      "displayName": "Lili Morones",
      "userId": "03662130427026750805"
     },
     "user_tz": 360
    },
    "id": "fT3nUdolilYQ"
   },
   "outputs": [],
   "source": [
    "def modelo_clas(data, objetivo, modelo, train_size= 0.8, cv = 5):\n",
    "    \"\"\"\n",
    "    Función que permite entrenar y evaluar un modelo de ML para problemas de\n",
    "    clasificación.\n",
    "    Args:\n",
    "    - data: el dataset con el que se va a entrenar el modelo.\n",
    "    - objetivo: nombre de la variable objetivo (str)\n",
    "    - modelo: modelo con sus parámetros previamente especificados\n",
    "    - train_size: tamaño del conjunto de datos a utilizar para entrenamiento,\n",
    "    especificado como fracción decimal. Valor por defecto: 0.8\n",
    "    - cv: número de divisiones a aplicar sobre el conjunto de datos para\n",
    "    evaluar el modelo mediante validación cruzada. Valor por defecto: 5\n",
    "    Return: impresión directa en pantalla de métricas de evaluación del modelo:\n",
    "    - Exactitud obtenida mediante validación cruzada.\n",
    "    - Matriz de confusión.\n",
    "    - Reporte de clasificación.\n",
    "    \"\"\"\n",
    "    #Crear una copia del dataset para no modificar el original\n",
    "    df = data.copy()\n",
    "    #Separar la variable objetivo\n",
    "    X = df.drop([objetivo], axis = 1)\n",
    "    y = df[[objetivo]]\n",
    "    #Dividir datos en prueba y entrenamiento\n",
    "    X_train, X_test, y_train, y_test = train_test_split(X, y,\n",
    "                                                    train_size = train_size,\n",
    "                                                    random_state = 42)\n",
    "    #Ajustar el modelo\n",
    "    modelo.fit(X_train, y_train)\n",
    "    #Predecir\n",
    "    pred = modelo.predict(X_test)\n",
    "    #Crear métricas de evaluación\n",
    "    cm = confusion_matrix(y_test, pred)\n",
    "    cr = classification_report(y_test, pred)\n",
    "    accuracy = accuracy_score(\n",
    "            y_true    = y_test,\n",
    "            y_pred    = pred,\n",
    "            normalize = True\n",
    "            )\n",
    "    #Mostrar métricas de evaluación\n",
    "    cv_scores = cross_val_score(modelo, X_train, y_train, cv=cv, scoring=\"accuracy\") # Realizar validación cruzada y mostrar las métricas promedio\n",
    "    print(f\"Validación cruzada (exactitud): {100*cv_scores.mean()}% \\n\")\n",
    "    print(f'Matriz de confusión: \\n {cm} \\n')\n",
    "    print(f'Reporte de clasificación: \\n {cr}')\n"
   ]
  },
  {
   "cell_type": "markdown",
   "metadata": {
    "id": "-76z10bUk0oj"
   },
   "source": [
    "#### Regresión"
   ]
  },
  {
   "cell_type": "code",
   "execution_count": 17,
   "metadata": {
    "executionInfo": {
     "elapsed": 9,
     "status": "ok",
     "timestamp": 1689970905918,
     "user": {
      "displayName": "Lili Morones",
      "userId": "03662130427026750805"
     },
     "user_tz": 360
    },
    "id": "Dr_h32Zxk7wT"
   },
   "outputs": [],
   "source": [
    "def modelo_reg(data, objetivo, modelo, train_size= 0.8, cv = 5):\n",
    "    \"\"\"\n",
    "    Función que permite entrenar y evaluar un modelo de ML para problemas de\n",
    "    regresión.\n",
    "    Args:\n",
    "    - data: el dataset con el que se va a entrenar el modelo.\n",
    "    - objetivo: nombre de la variable objetivo (str)\n",
    "    - modelo: modelo con sus parámetros previamente especificados\n",
    "    - train_size: tamaño del conjunto de datos a utilizar para entrenamiento,\n",
    "    especificado como fracción decimal. Valor por defecto: 0.8\n",
    "    - cv: número de divisiones a aplicar sobre el conjunto de datos para\n",
    "    evaluar el modelo mediante validación cruzada. Valor por defecto: 5\n",
    "    Return: impresión directa en pantalla de métricas de evaluación del modelo:\n",
    "    - Error cuadrático medio.\n",
    "    - Raíz del error cuadrático medio.\n",
    "    - Error absoluto medio.\n",
    "    - Coeficiente de determinación\n",
    "    \"\"\"\n",
    "    #Crear una copia del dataset para no modificar el original\n",
    "    df = data.copy()\n",
    "    #Separar la variable objetivo\n",
    "    X = df.drop([objetivo], axis = 1)\n",
    "    y = df[[objetivo]]\n",
    "    #Dividir datos en prueba y entrenamiento\n",
    "    X_train, X_test, y_train, y_test = train_test_split(X, y,\n",
    "                                                    train_size = train_size,\n",
    "                                                    random_state = 42)\n",
    "    #Ajustar el modelo\n",
    "    modelo.fit(X_train, y_train)\n",
    "    #Predecir\n",
    "    pred = modelo.predict(X_test)\n",
    "    #Evaluar\n",
    "    print('Mean Squared Error (MSE) %.2f' %mean_squared_error(y_test, pred))\n",
    "    print('Root Mean Squared Error (RMSE) %.2f' %np.sqrt(mean_squared_error(y_test, pred)))\n",
    "    print('Mean Absolute Error %.2f' %mean_absolute_error(y_test, pred))\n",
    "    print('R2 Score %.2f' %r2_score(y_test, pred))\n"
   ]
  },
  {
   "cell_type": "markdown",
   "metadata": {
    "id": "vWT2PqUGrfP2"
   },
   "source": [
    "### Funciones para balancear categorías de variable a predecir"
   ]
  },
  {
   "cell_type": "markdown",
   "metadata": {
    "id": "xQidXOLurw6q"
   },
   "source": [
    "#### Por número de muestras"
   ]
  },
  {
   "cell_type": "code",
   "execution_count": 18,
   "metadata": {
    "executionInfo": {
     "elapsed": 9,
     "status": "ok",
     "timestamp": 1689970905919,
     "user": {
      "displayName": "Lili Morones",
      "userId": "03662130427026750805"
     },
     "user_tz": 360
    },
    "id": "VD6UfDDfrjgs"
   },
   "outputs": [],
   "source": [
    "def balancear_muestras(data, variable_objetivo):\n",
    "    \"\"\"\n",
    "    Función que muestrea un dataset de tal forma que cada categoría de una\n",
    "    variable especificada contenga el mismo número de registros.\n",
    "    Args:\n",
    "    - data: dataset a modificar.\n",
    "    - variable_objetivo: variable de la que dependerá el número de registros.\n",
    "    Returnn:\n",
    "    df_balanceado: nuevo dataset con registros proporcionales a cada categoría.\n",
    "    \"\"\"\n",
    "    # Obtener el recuento de muestras por categoría\n",
    "    conteo_muestras = data[variable_objetivo].value_counts()\n",
    "    # Obtener la longitud mínima entre las categorías\n",
    "    longitud_minima = conteo_muestras.min()\n",
    "    # Inicializar el DataFrame balanceado\n",
    "    df_balanceado = pd.DataFrame()\n",
    "    # Generar el subconjunto balanceado por categoría\n",
    "    for categoria in data[variable_objetivo].unique(): # Iterar para cada categoría\n",
    "        filtro_categoria = data[data[variable_objetivo] == categoria] # Filtrar los datos de la categoría correspondiente\n",
    "        muestras_categoria = filtro_categoria.sample(n=longitud_minima, random_state=42) # Seleccionar aleatoriamente el número de registros especificado\n",
    "        df_balanceado = pd.concat([df_balanceado, muestras_categoria], ignore_index=True) # Agregar al dataframe la muestra seleccionada\n",
    "    # Mezclar aleatoriamente las filas del DataFrame balanceado\n",
    "    df_balanceado = df_balanceado.sample(frac=1, random_state=42)\n",
    "    # Devolver el dataframe balanceado\n",
    "    return df_balanceado\n"
   ]
  },
  {
   "cell_type": "markdown",
   "metadata": {
    "id": "W8b9uujmr0j4"
   },
   "source": [
    "#### Por pesos"
   ]
  },
  {
   "cell_type": "code",
   "execution_count": 19,
   "metadata": {
    "executionInfo": {
     "elapsed": 243,
     "status": "ok",
     "timestamp": 1689970906153,
     "user": {
      "displayName": "Lili Morones",
      "userId": "03662130427026750805"
     },
     "user_tz": 360
    },
    "id": "CRFpCzRsrobm"
   },
   "outputs": [],
   "source": [
    "def calcular_pesos(data, variable):\n",
    "    \"\"\"\n",
    "    Función que asigna pesos a cada categoría de una variable de acuerdo\n",
    "    al número de registros que posee.\n",
    "    Args:\n",
    "    - data: dataset que se desea balancear.\n",
    "    - variable: variable de la que pependerán los pesos asignados.\n",
    "    Return:\n",
    "    - diccionario_pesos: diccionario con los pesos de cada categoría\n",
    "    \"\"\"\n",
    "    # Obtener la cuenta de cada categoría en la variable\n",
    "    conteo_categorias = data[variable].value_counts()\n",
    "    # Calcular el peso de cada categoría\n",
    "    pesos_categorias = 1 / conteo_categorias\n",
    "    # Normalizar los pesos para que sumen 1\n",
    "    pesos_normalizados = pesos_categorias / pesos_categorias.sum()\n",
    "    # Crear el diccionario de pesos\n",
    "    diccionario_pesos = pesos_normalizados.to_dict()\n",
    "\n",
    "    return diccionario_pesos"
   ]
  },
  {
   "cell_type": "markdown",
   "metadata": {
    "id": "KDejgjfkRJXW"
   },
   "source": [
    "### Función para encontrar los mejores parámetros de un modelo"
   ]
  },
  {
   "cell_type": "code",
   "execution_count": 20,
   "metadata": {
    "executionInfo": {
     "elapsed": 4,
     "status": "ok",
     "timestamp": 1689970906154,
     "user": {
      "displayName": "Lili Morones",
      "userId": "03662130427026750805"
     },
     "user_tz": 360
    },
    "id": "Po5cQ-xYRNWV"
   },
   "outputs": [],
   "source": [
    "def mejores_parametros(modelo, parametros, X, y):\n",
    "    \"\"\"\n",
    "    Función que devuelve los mejores parámetros a utilizar en un modelo de ML.\n",
    "    Args:\n",
    "    - modelo: el modelo a utilizar, con parámtros por defecto.\n",
    "    - parametros: diccionario con los distintos valores a evaluar para cada\n",
    "    parámetro especificado.\n",
    "    - X: conjunto de características de entrada del modelo.\n",
    "    - y: variable objetivo.\n",
    "    \"\"\"\n",
    "    #Dividir datos en prueba y entrenamiento\n",
    "    X_train, X_test, y_train, y_test = train_test_split(X, y,\n",
    "                                                    train_size = 0.8,\n",
    "                                                    random_state = 42)\n",
    "    # Encontrar los valores que arrojan mejor accuracy utilizando cross validation\n",
    "    grid_search = GridSearchCV(estimator=modelo, param_grid=parametros, cv=5,\n",
    "                               scoring='accuracy')\n",
    "    grid_search.fit(X_train, y_train)\n",
    "\n",
    "    best_params = grid_search.best_params_ # Mejores parámetros\n",
    "    best_score = grid_search.best_score_ # Mejor evaluación\n",
    "\n",
    "    print('Mejores parámetros:\\n', best_params)\n",
    "    print('Mejor score: \\n', best_score)"
   ]
  },
  {
   "cell_type": "code",
   "execution_count": 21,
   "metadata": {
    "executionInfo": {
     "elapsed": 5,
     "status": "ok",
     "timestamp": 1689970906155,
     "user": {
      "displayName": "Lili Morones",
      "userId": "03662130427026750805"
     },
     "user_tz": 360
    },
    "id": "vVTgdk4TMLZb"
   },
   "outputs": [],
   "source": [
    "#Parametros para cada modelo\n",
    "#Random forest\n",
    "rf_grid = {\n",
    "    'n_estimators': [100, 150, 300, 500, 1000],  # Valores a explorar para n_estimators\n",
    "    'max_depth': [3, 5, 7]  # Valores a explorar para max_depth\n",
    "}\n",
    "#KNN\n",
    "knn_grid = {'n_neighbors': [3, 5, 7, 9, 11, 13, 15]}\n",
    "#SVM\n",
    "svm_grid = {'C': [0.1, 1, 10, 100, 1000]}\n",
    "#XGBoost\n",
    "xgb_grid = {\n",
    "    'n_estimators': [100, 150, 300, 500, 1000],  # Valores a explorar para n_estimators\n",
    "    'max_depth': [3, 5, 7]  # Valores a explorar para max_depth\n",
    "}"
   ]
  },
  {
   "cell_type": "markdown",
   "metadata": {
    "id": "nA7eP8MHyft1"
   },
   "source": [
    "### Función para normalizar"
   ]
  },
  {
   "cell_type": "code",
   "execution_count": 22,
   "metadata": {
    "executionInfo": {
     "elapsed": 4,
     "status": "ok",
     "timestamp": 1689970906155,
     "user": {
      "displayName": "Lili Morones",
      "userId": "03662130427026750805"
     },
     "user_tz": 360
    },
    "id": "pMv_VTtcyiHZ"
   },
   "outputs": [],
   "source": [
    "def normalizar(dataset):\n",
    "    \"\"\"\n",
    "    Función que transforma un dataset con sus variables normalizadas.\n",
    "    Args:\n",
    "    - dataset: dataset a transformar\n",
    "    Return:\n",
    "    - normalized_ dataset: dataset normalizado\n",
    "    \"\"\"\n",
    "    # Crear una instancia de MinMaxScaler\n",
    "    scaler = MinMaxScaler()\n",
    "    # Transformar el dataset\n",
    "    normalized_dataset = scaler.fit_transform(dataset) # Aplicar normalización\n",
    "    return normalized_dataset"
   ]
  },
  {
   "cell_type": "markdown",
   "metadata": {
    "id": "z-Z-Hxj0m43O"
   },
   "source": [
    "## Codificar variables"
   ]
  },
  {
   "cell_type": "code",
   "execution_count": 23,
   "metadata": {
    "colab": {
     "base_uri": "https://localhost:8080/"
    },
    "executionInfo": {
     "elapsed": 10,
     "status": "ok",
     "timestamp": 1689970910863,
     "user": {
      "displayName": "Lili Morones",
      "userId": "03662130427026750805"
     },
     "user_tz": 360
    },
    "id": "_cRQbZiFpuoy",
    "outputId": "0742cdfc-10b4-4330-fa56-ab5818e5119e"
   },
   "outputs": [
    {
     "data": {
      "text/plain": [
       "Index(['ID', 'CLUES', 'DIAS_ESTA', 'EDAD', 'SEXO', 'PESO', 'TALLA', 'DERHAB',\n",
       "       'MUNIC', 'TIPSERV', 'PROCED', 'DIAG_INI', 'AFECPRIN', 'VEZ', 'CAUSAEXT',\n",
       "       'INFEC', 'MOTEGRE', 'NUMPROMED', 'NUMAFEC', 'CAT_EDAD', 'CAT_DIASESTA',\n",
       "       'DIABETES', 'HIPERTENSION', 'OBESIDAD', 'MAL_DIAG', 'ANEST_GRAL',\n",
       "       'QUIRURGICO', 'INGRE_DIA', 'INGRE_MES', 'INGRE_ANIO', 'EGRESO_DIA',\n",
       "       'EGRESO_MES', 'EGRESO_ANIO'],\n",
       "      dtype='object')"
      ]
     },
     "execution_count": 23,
     "metadata": {},
     "output_type": "execute_result"
    }
   ],
   "source": [
    "egresos.columns"
   ]
  },
  {
   "cell_type": "code",
   "execution_count": 24,
   "metadata": {
    "executionInfo": {
     "elapsed": 7,
     "status": "ok",
     "timestamp": 1689970910864,
     "user": {
      "displayName": "Lili Morones",
      "userId": "03662130427026750805"
     },
     "user_tz": 360
    },
    "id": "lY6GJFERnLDv"
   },
   "outputs": [],
   "source": [
    "# Variables que se desean codificar por su método respectivo\n",
    "variables_dummies = ['SEXO', 'VEZ', 'TIPSERV', 'INFEC', 'DIABETES',\n",
    "                'HIPERTENSION', 'OBESIDAD']\n",
    "variables_label = ['CLUES', 'MUNIC', 'PROCED', 'DERHAB', 'DIAG_INI',\n",
    "            'AFECPRIN', 'MOTEGRE', 'CAUSAEXT']\n",
    "categorias = {\n",
    "    'CAT_EDAD': ['0-4', '5-14', '15-29', '30-44', '45-59', '60 o más'],\n",
    "    'CAT_DIASESTA': ['1 o menos', '2-3', '4-7', '8-30', 'Más de 30']\n",
    "}"
   ]
  },
  {
   "cell_type": "code",
   "execution_count": 25,
   "metadata": {
    "colab": {
     "base_uri": "https://localhost:8080/",
     "height": 0
    },
    "executionInfo": {
     "elapsed": 1059,
     "status": "ok",
     "timestamp": 1689970911917,
     "user": {
      "displayName": "Lili Morones",
      "userId": "03662130427026750805"
     },
     "user_tz": 360
    },
    "id": "0cXnwLSwm7gO",
    "outputId": "fdbfba51-6484-4b76-96e7-988f8b09e8af"
   },
   "outputs": [
    {
     "data": {
      "text/html": [
       "\n",
       "\n",
       "  <div id=\"df-37625013-80e8-421d-93e2-24368f7b41de\">\n",
       "    <div class=\"colab-df-container\">\n",
       "      <div>\n",
       "<style scoped>\n",
       "    .dataframe tbody tr th:only-of-type {\n",
       "        vertical-align: middle;\n",
       "    }\n",
       "\n",
       "    .dataframe tbody tr th {\n",
       "        vertical-align: top;\n",
       "    }\n",
       "\n",
       "    .dataframe thead th {\n",
       "        text-align: right;\n",
       "    }\n",
       "</style>\n",
       "<table border=\"1\" class=\"dataframe\">\n",
       "  <thead>\n",
       "    <tr style=\"text-align: right;\">\n",
       "      <th></th>\n",
       "      <th>ID</th>\n",
       "      <th>CLUES</th>\n",
       "      <th>DIAS_ESTA</th>\n",
       "      <th>EDAD</th>\n",
       "      <th>PESO</th>\n",
       "      <th>TALLA</th>\n",
       "      <th>DERHAB</th>\n",
       "      <th>MUNIC</th>\n",
       "      <th>PROCED</th>\n",
       "      <th>DIAG_INI</th>\n",
       "      <th>...</th>\n",
       "      <th>EGRESO_DIA</th>\n",
       "      <th>EGRESO_MES</th>\n",
       "      <th>EGRESO_ANIO</th>\n",
       "      <th>SEXO_M</th>\n",
       "      <th>VEZ_SUBSECUENTE</th>\n",
       "      <th>TIPSERV_NORMAL</th>\n",
       "      <th>INFEC_SI</th>\n",
       "      <th>DIABETES_SI</th>\n",
       "      <th>HIPERTENSION_SI</th>\n",
       "      <th>OBESIDAD_SI</th>\n",
       "    </tr>\n",
       "  </thead>\n",
       "  <tbody>\n",
       "    <tr>\n",
       "      <th>0</th>\n",
       "      <td>1</td>\n",
       "      <td>0</td>\n",
       "      <td>1</td>\n",
       "      <td>0</td>\n",
       "      <td>999.0</td>\n",
       "      <td>999</td>\n",
       "      <td>5</td>\n",
       "      <td>0</td>\n",
       "      <td>0</td>\n",
       "      <td>1346</td>\n",
       "      <td>...</td>\n",
       "      <td>4</td>\n",
       "      <td>1</td>\n",
       "      <td>2010</td>\n",
       "      <td>1</td>\n",
       "      <td>1</td>\n",
       "      <td>1</td>\n",
       "      <td>0</td>\n",
       "      <td>0</td>\n",
       "      <td>0</td>\n",
       "      <td>0</td>\n",
       "    </tr>\n",
       "    <tr>\n",
       "      <th>1</th>\n",
       "      <td>3</td>\n",
       "      <td>0</td>\n",
       "      <td>1</td>\n",
       "      <td>6</td>\n",
       "      <td>999.0</td>\n",
       "      <td>999</td>\n",
       "      <td>5</td>\n",
       "      <td>1</td>\n",
       "      <td>0</td>\n",
       "      <td>547</td>\n",
       "      <td>...</td>\n",
       "      <td>6</td>\n",
       "      <td>1</td>\n",
       "      <td>2010</td>\n",
       "      <td>0</td>\n",
       "      <td>1</td>\n",
       "      <td>1</td>\n",
       "      <td>0</td>\n",
       "      <td>0</td>\n",
       "      <td>0</td>\n",
       "      <td>0</td>\n",
       "    </tr>\n",
       "    <tr>\n",
       "      <th>2</th>\n",
       "      <td>4</td>\n",
       "      <td>0</td>\n",
       "      <td>1</td>\n",
       "      <td>5</td>\n",
       "      <td>999.0</td>\n",
       "      <td>999</td>\n",
       "      <td>5</td>\n",
       "      <td>4</td>\n",
       "      <td>0</td>\n",
       "      <td>547</td>\n",
       "      <td>...</td>\n",
       "      <td>5</td>\n",
       "      <td>1</td>\n",
       "      <td>2010</td>\n",
       "      <td>0</td>\n",
       "      <td>1</td>\n",
       "      <td>1</td>\n",
       "      <td>0</td>\n",
       "      <td>0</td>\n",
       "      <td>0</td>\n",
       "      <td>0</td>\n",
       "    </tr>\n",
       "    <tr>\n",
       "      <th>3</th>\n",
       "      <td>5</td>\n",
       "      <td>0</td>\n",
       "      <td>1</td>\n",
       "      <td>18</td>\n",
       "      <td>999.0</td>\n",
       "      <td>999</td>\n",
       "      <td>5</td>\n",
       "      <td>0</td>\n",
       "      <td>0</td>\n",
       "      <td>293</td>\n",
       "      <td>...</td>\n",
       "      <td>4</td>\n",
       "      <td>1</td>\n",
       "      <td>2010</td>\n",
       "      <td>0</td>\n",
       "      <td>1</td>\n",
       "      <td>1</td>\n",
       "      <td>0</td>\n",
       "      <td>0</td>\n",
       "      <td>0</td>\n",
       "      <td>0</td>\n",
       "    </tr>\n",
       "    <tr>\n",
       "      <th>4</th>\n",
       "      <td>8</td>\n",
       "      <td>0</td>\n",
       "      <td>1</td>\n",
       "      <td>17</td>\n",
       "      <td>999.0</td>\n",
       "      <td>999</td>\n",
       "      <td>5</td>\n",
       "      <td>5</td>\n",
       "      <td>0</td>\n",
       "      <td>293</td>\n",
       "      <td>...</td>\n",
       "      <td>4</td>\n",
       "      <td>1</td>\n",
       "      <td>2010</td>\n",
       "      <td>1</td>\n",
       "      <td>1</td>\n",
       "      <td>1</td>\n",
       "      <td>0</td>\n",
       "      <td>0</td>\n",
       "      <td>0</td>\n",
       "      <td>0</td>\n",
       "    </tr>\n",
       "    <tr>\n",
       "      <th>...</th>\n",
       "      <td>...</td>\n",
       "      <td>...</td>\n",
       "      <td>...</td>\n",
       "      <td>...</td>\n",
       "      <td>...</td>\n",
       "      <td>...</td>\n",
       "      <td>...</td>\n",
       "      <td>...</td>\n",
       "      <td>...</td>\n",
       "      <td>...</td>\n",
       "      <td>...</td>\n",
       "      <td>...</td>\n",
       "      <td>...</td>\n",
       "      <td>...</td>\n",
       "      <td>...</td>\n",
       "      <td>...</td>\n",
       "      <td>...</td>\n",
       "      <td>...</td>\n",
       "      <td>...</td>\n",
       "      <td>...</td>\n",
       "      <td>...</td>\n",
       "    </tr>\n",
       "    <tr>\n",
       "      <th>320889</th>\n",
       "      <td>321258</td>\n",
       "      <td>2</td>\n",
       "      <td>1</td>\n",
       "      <td>19</td>\n",
       "      <td>57.8</td>\n",
       "      <td>152</td>\n",
       "      <td>6</td>\n",
       "      <td>6</td>\n",
       "      <td>4</td>\n",
       "      <td>953</td>\n",
       "      <td>...</td>\n",
       "      <td>15</td>\n",
       "      <td>9</td>\n",
       "      <td>2022</td>\n",
       "      <td>1</td>\n",
       "      <td>0</td>\n",
       "      <td>1</td>\n",
       "      <td>0</td>\n",
       "      <td>0</td>\n",
       "      <td>0</td>\n",
       "      <td>0</td>\n",
       "    </tr>\n",
       "    <tr>\n",
       "      <th>320890</th>\n",
       "      <td>321259</td>\n",
       "      <td>2</td>\n",
       "      <td>1</td>\n",
       "      <td>23</td>\n",
       "      <td>68.0</td>\n",
       "      <td>166</td>\n",
       "      <td>6</td>\n",
       "      <td>6</td>\n",
       "      <td>4</td>\n",
       "      <td>1095</td>\n",
       "      <td>...</td>\n",
       "      <td>15</td>\n",
       "      <td>9</td>\n",
       "      <td>2022</td>\n",
       "      <td>1</td>\n",
       "      <td>0</td>\n",
       "      <td>1</td>\n",
       "      <td>0</td>\n",
       "      <td>0</td>\n",
       "      <td>0</td>\n",
       "      <td>0</td>\n",
       "    </tr>\n",
       "    <tr>\n",
       "      <th>320891</th>\n",
       "      <td>321260</td>\n",
       "      <td>2</td>\n",
       "      <td>1</td>\n",
       "      <td>22</td>\n",
       "      <td>87.0</td>\n",
       "      <td>160</td>\n",
       "      <td>6</td>\n",
       "      <td>6</td>\n",
       "      <td>4</td>\n",
       "      <td>2</td>\n",
       "      <td>...</td>\n",
       "      <td>16</td>\n",
       "      <td>9</td>\n",
       "      <td>2022</td>\n",
       "      <td>1</td>\n",
       "      <td>0</td>\n",
       "      <td>1</td>\n",
       "      <td>0</td>\n",
       "      <td>0</td>\n",
       "      <td>0</td>\n",
       "      <td>0</td>\n",
       "    </tr>\n",
       "    <tr>\n",
       "      <th>320892</th>\n",
       "      <td>321261</td>\n",
       "      <td>2</td>\n",
       "      <td>9</td>\n",
       "      <td>24</td>\n",
       "      <td>71.9</td>\n",
       "      <td>152</td>\n",
       "      <td>6</td>\n",
       "      <td>5</td>\n",
       "      <td>4</td>\n",
       "      <td>76</td>\n",
       "      <td>...</td>\n",
       "      <td>16</td>\n",
       "      <td>9</td>\n",
       "      <td>2022</td>\n",
       "      <td>1</td>\n",
       "      <td>0</td>\n",
       "      <td>1</td>\n",
       "      <td>0</td>\n",
       "      <td>0</td>\n",
       "      <td>0</td>\n",
       "      <td>0</td>\n",
       "    </tr>\n",
       "    <tr>\n",
       "      <th>320893</th>\n",
       "      <td>321262</td>\n",
       "      <td>2</td>\n",
       "      <td>1</td>\n",
       "      <td>20</td>\n",
       "      <td>94.0</td>\n",
       "      <td>158</td>\n",
       "      <td>6</td>\n",
       "      <td>6</td>\n",
       "      <td>4</td>\n",
       "      <td>953</td>\n",
       "      <td>...</td>\n",
       "      <td>17</td>\n",
       "      <td>9</td>\n",
       "      <td>2022</td>\n",
       "      <td>1</td>\n",
       "      <td>0</td>\n",
       "      <td>1</td>\n",
       "      <td>0</td>\n",
       "      <td>0</td>\n",
       "      <td>0</td>\n",
       "      <td>0</td>\n",
       "    </tr>\n",
       "  </tbody>\n",
       "</table>\n",
       "<p>320103 rows × 33 columns</p>\n",
       "</div>\n",
       "      <button class=\"colab-df-convert\" onclick=\"convertToInteractive('df-37625013-80e8-421d-93e2-24368f7b41de')\"\n",
       "              title=\"Convert this dataframe to an interactive table.\"\n",
       "              style=\"display:none;\">\n",
       "\n",
       "  <svg xmlns=\"http://www.w3.org/2000/svg\" height=\"24px\"viewBox=\"0 0 24 24\"\n",
       "       width=\"24px\">\n",
       "    <path d=\"M0 0h24v24H0V0z\" fill=\"none\"/>\n",
       "    <path d=\"M18.56 5.44l.94 2.06.94-2.06 2.06-.94-2.06-.94-.94-2.06-.94 2.06-2.06.94zm-11 1L8.5 8.5l.94-2.06 2.06-.94-2.06-.94L8.5 2.5l-.94 2.06-2.06.94zm10 10l.94 2.06.94-2.06 2.06-.94-2.06-.94-.94-2.06-.94 2.06-2.06.94z\"/><path d=\"M17.41 7.96l-1.37-1.37c-.4-.4-.92-.59-1.43-.59-.52 0-1.04.2-1.43.59L10.3 9.45l-7.72 7.72c-.78.78-.78 2.05 0 2.83L4 21.41c.39.39.9.59 1.41.59.51 0 1.02-.2 1.41-.59l7.78-7.78 2.81-2.81c.8-.78.8-2.07 0-2.86zM5.41 20L4 18.59l7.72-7.72 1.47 1.35L5.41 20z\"/>\n",
       "  </svg>\n",
       "      </button>\n",
       "\n",
       "\n",
       "\n",
       "    <div id=\"df-25bdebcc-8e05-4b08-8ddf-00840cfdf8f4\">\n",
       "      <button class=\"colab-df-quickchart\" onclick=\"quickchart('df-25bdebcc-8e05-4b08-8ddf-00840cfdf8f4')\"\n",
       "              title=\"Suggest charts.\"\n",
       "              style=\"display:none;\">\n",
       "\n",
       "<svg xmlns=\"http://www.w3.org/2000/svg\" height=\"24px\"viewBox=\"0 0 24 24\"\n",
       "     width=\"24px\">\n",
       "    <g>\n",
       "        <path d=\"M19 3H5c-1.1 0-2 .9-2 2v14c0 1.1.9 2 2 2h14c1.1 0 2-.9 2-2V5c0-1.1-.9-2-2-2zM9 17H7v-7h2v7zm4 0h-2V7h2v10zm4 0h-2v-4h2v4z\"/>\n",
       "    </g>\n",
       "</svg>\n",
       "      </button>\n",
       "    </div>\n",
       "\n",
       "<style>\n",
       "  .colab-df-quickchart {\n",
       "    background-color: #E8F0FE;\n",
       "    border: none;\n",
       "    border-radius: 50%;\n",
       "    cursor: pointer;\n",
       "    display: none;\n",
       "    fill: #1967D2;\n",
       "    height: 32px;\n",
       "    padding: 0 0 0 0;\n",
       "    width: 32px;\n",
       "  }\n",
       "\n",
       "  .colab-df-quickchart:hover {\n",
       "    background-color: #E2EBFA;\n",
       "    box-shadow: 0px 1px 2px rgba(60, 64, 67, 0.3), 0px 1px 3px 1px rgba(60, 64, 67, 0.15);\n",
       "    fill: #174EA6;\n",
       "  }\n",
       "\n",
       "  [theme=dark] .colab-df-quickchart {\n",
       "    background-color: #3B4455;\n",
       "    fill: #D2E3FC;\n",
       "  }\n",
       "\n",
       "  [theme=dark] .colab-df-quickchart:hover {\n",
       "    background-color: #434B5C;\n",
       "    box-shadow: 0px 1px 3px 1px rgba(0, 0, 0, 0.15);\n",
       "    filter: drop-shadow(0px 1px 2px rgba(0, 0, 0, 0.3));\n",
       "    fill: #FFFFFF;\n",
       "  }\n",
       "</style>\n",
       "\n",
       "    <script>\n",
       "      async function quickchart(key) {\n",
       "        const containerElement = document.querySelector('#' + key);\n",
       "        const charts = await google.colab.kernel.invokeFunction(\n",
       "            'suggestCharts', [key], {});\n",
       "      }\n",
       "    </script>\n",
       "\n",
       "      <script>\n",
       "\n",
       "function displayQuickchartButton(domScope) {\n",
       "  let quickchartButtonEl =\n",
       "    domScope.querySelector('#df-25bdebcc-8e05-4b08-8ddf-00840cfdf8f4 button.colab-df-quickchart');\n",
       "  quickchartButtonEl.style.display =\n",
       "    google.colab.kernel.accessAllowed ? 'block' : 'none';\n",
       "}\n",
       "\n",
       "        displayQuickchartButton(document);\n",
       "      </script>\n",
       "      <style>\n",
       "    .colab-df-container {\n",
       "      display:flex;\n",
       "      flex-wrap:wrap;\n",
       "      gap: 12px;\n",
       "    }\n",
       "\n",
       "    .colab-df-convert {\n",
       "      background-color: #E8F0FE;\n",
       "      border: none;\n",
       "      border-radius: 50%;\n",
       "      cursor: pointer;\n",
       "      display: none;\n",
       "      fill: #1967D2;\n",
       "      height: 32px;\n",
       "      padding: 0 0 0 0;\n",
       "      width: 32px;\n",
       "    }\n",
       "\n",
       "    .colab-df-convert:hover {\n",
       "      background-color: #E2EBFA;\n",
       "      box-shadow: 0px 1px 2px rgba(60, 64, 67, 0.3), 0px 1px 3px 1px rgba(60, 64, 67, 0.15);\n",
       "      fill: #174EA6;\n",
       "    }\n",
       "\n",
       "    [theme=dark] .colab-df-convert {\n",
       "      background-color: #3B4455;\n",
       "      fill: #D2E3FC;\n",
       "    }\n",
       "\n",
       "    [theme=dark] .colab-df-convert:hover {\n",
       "      background-color: #434B5C;\n",
       "      box-shadow: 0px 1px 3px 1px rgba(0, 0, 0, 0.15);\n",
       "      filter: drop-shadow(0px 1px 2px rgba(0, 0, 0, 0.3));\n",
       "      fill: #FFFFFF;\n",
       "    }\n",
       "  </style>\n",
       "\n",
       "      <script>\n",
       "        const buttonEl =\n",
       "          document.querySelector('#df-37625013-80e8-421d-93e2-24368f7b41de button.colab-df-convert');\n",
       "        buttonEl.style.display =\n",
       "          google.colab.kernel.accessAllowed ? 'block' : 'none';\n",
       "\n",
       "        async function convertToInteractive(key) {\n",
       "          const element = document.querySelector('#df-37625013-80e8-421d-93e2-24368f7b41de');\n",
       "          const dataTable =\n",
       "            await google.colab.kernel.invokeFunction('convertToInteractive',\n",
       "                                                     [key], {});\n",
       "          if (!dataTable) return;\n",
       "\n",
       "          const docLinkHtml = 'Like what you see? Visit the ' +\n",
       "            '<a target=\"_blank\" href=https://colab.research.google.com/notebooks/data_table.ipynb>data table notebook</a>'\n",
       "            + ' to learn more about interactive tables.';\n",
       "          element.innerHTML = '';\n",
       "          dataTable['output_type'] = 'display_data';\n",
       "          await google.colab.output.renderOutput(dataTable, element);\n",
       "          const docLink = document.createElement('div');\n",
       "          docLink.innerHTML = docLinkHtml;\n",
       "          element.appendChild(docLink);\n",
       "        }\n",
       "      </script>\n",
       "    </div>\n",
       "  </div>\n"
      ],
      "text/plain": [
       "            ID  CLUES  DIAS_ESTA  EDAD   PESO  TALLA  DERHAB  MUNIC  PROCED  \\\n",
       "0            1      0          1     0  999.0    999       5      0       0   \n",
       "1            3      0          1     6  999.0    999       5      1       0   \n",
       "2            4      0          1     5  999.0    999       5      4       0   \n",
       "3            5      0          1    18  999.0    999       5      0       0   \n",
       "4            8      0          1    17  999.0    999       5      5       0   \n",
       "...        ...    ...        ...   ...    ...    ...     ...    ...     ...   \n",
       "320889  321258      2          1    19   57.8    152       6      6       4   \n",
       "320890  321259      2          1    23   68.0    166       6      6       4   \n",
       "320891  321260      2          1    22   87.0    160       6      6       4   \n",
       "320892  321261      2          9    24   71.9    152       6      5       4   \n",
       "320893  321262      2          1    20   94.0    158       6      6       4   \n",
       "\n",
       "        DIAG_INI  ...  EGRESO_DIA  EGRESO_MES  EGRESO_ANIO  SEXO_M  \\\n",
       "0           1346  ...           4           1         2010       1   \n",
       "1            547  ...           6           1         2010       0   \n",
       "2            547  ...           5           1         2010       0   \n",
       "3            293  ...           4           1         2010       0   \n",
       "4            293  ...           4           1         2010       1   \n",
       "...          ...  ...         ...         ...          ...     ...   \n",
       "320889       953  ...          15           9         2022       1   \n",
       "320890      1095  ...          15           9         2022       1   \n",
       "320891         2  ...          16           9         2022       1   \n",
       "320892        76  ...          16           9         2022       1   \n",
       "320893       953  ...          17           9         2022       1   \n",
       "\n",
       "        VEZ_SUBSECUENTE  TIPSERV_NORMAL  INFEC_SI  DIABETES_SI  \\\n",
       "0                     1               1         0            0   \n",
       "1                     1               1         0            0   \n",
       "2                     1               1         0            0   \n",
       "3                     1               1         0            0   \n",
       "4                     1               1         0            0   \n",
       "...                 ...             ...       ...          ...   \n",
       "320889                0               1         0            0   \n",
       "320890                0               1         0            0   \n",
       "320891                0               1         0            0   \n",
       "320892                0               1         0            0   \n",
       "320893                0               1         0            0   \n",
       "\n",
       "        HIPERTENSION_SI  OBESIDAD_SI  \n",
       "0                     0            0  \n",
       "1                     0            0  \n",
       "2                     0            0  \n",
       "3                     0            0  \n",
       "4                     0            0  \n",
       "...                 ...          ...  \n",
       "320889                0            0  \n",
       "320890                0            0  \n",
       "320891                0            0  \n",
       "320892                0            0  \n",
       "320893                0            0  \n",
       "\n",
       "[320103 rows x 33 columns]"
      ]
     },
     "execution_count": 25,
     "metadata": {},
     "output_type": "execute_result"
    }
   ],
   "source": [
    "# Aplicar funciones de codificación a las variables especificadas\n",
    "egresos2 = egresos.copy()\n",
    "egresos2 = cat_dummies(egresos2, variables_dummies)\n",
    "egresos2, etiquetas = cat_label(egresos2, variables_label)\n",
    "egresos2 = cat_ordinal(egresos2, categorias)\n",
    "egresos2"
   ]
  },
  {
   "cell_type": "markdown",
   "metadata": {
    "id": "L5zZmKyqPcGV"
   },
   "source": [
    "## Imputación de valores peso y talla"
   ]
  },
  {
   "cell_type": "code",
   "execution_count": 26,
   "metadata": {
    "colab": {
     "base_uri": "https://localhost:8080/",
     "height": 0
    },
    "executionInfo": {
     "elapsed": 482,
     "status": "ok",
     "timestamp": 1689970914563,
     "user": {
      "displayName": "Lili Morones",
      "userId": "03662130427026750805"
     },
     "user_tz": 360
    },
    "id": "Kn28SyUbuBM0",
    "outputId": "f831dd90-c3cc-44ed-c391-af46fc6bc535"
   },
   "outputs": [
    {
     "data": {
      "text/plain": [
       "<Axes: xlabel='CAT_EDAD', ylabel='TALLA'>"
      ]
     },
     "execution_count": 26,
     "metadata": {},
     "output_type": "execute_result"
    },
    {
     "data": {
      "image/png": "[encoded data removed]",
      "text/plain": [
       "<Figure size 640x480 with 1 Axes>"
      ]
     },
     "metadata": {},
     "output_type": "display_data"
    }
   ],
   "source": [
    "# Seleccionar tallas menores o iguales a 200\n",
    "prueba = egresos[egresos['TALLA']<= 200]\n",
    "# Visualizar la distribución de talla por categoría de edad\n",
    "sns.boxplot(x = 'CAT_EDAD', y = 'TALLA', data = prueba)"
   ]
  },
  {
   "cell_type": "code",
   "execution_count": 27,
   "metadata": {
    "colab": {
     "base_uri": "https://localhost:8080/",
     "height": 0
    },
    "executionInfo": {
     "elapsed": 631,
     "status": "ok",
     "timestamp": 1689970915188,
     "user": {
      "displayName": "Lili Morones",
      "userId": "03662130427026750805"
     },
     "user_tz": 360
    },
    "id": "_ZHk6EDw0l6Z",
    "outputId": "4a5c8b4f-2f50-40ee-8fbe-01c0b1c5afb0"
   },
   "outputs": [
    {
     "data": {
      "text/plain": [
       "<Axes: xlabel='CAT_EDAD', ylabel='PESO'>"
      ]
     },
     "execution_count": 27,
     "metadata": {},
     "output_type": "execute_result"
    },
    {
     "data": {
      "image/png": "[encoded data removed]",
      "text/plain": [
       "<Figure size 640x480 with 1 Axes>"
      ]
     },
     "metadata": {},
     "output_type": "display_data"
    }
   ],
   "source": [
    "# Seleccionar pesos menores o iguales a 200\n",
    "prueba = egresos[egresos['PESO']<= 200]\n",
    "# Visualizar su distribución por edad\n",
    "sns.boxplot(x = 'CAT_EDAD', y = 'PESO', data = prueba)"
   ]
  },
  {
   "cell_type": "code",
   "execution_count": 28,
   "metadata": {
    "colab": {
     "base_uri": "https://localhost:8080/",
     "height": 0
    },
    "executionInfo": {
     "elapsed": 24,
     "status": "ok",
     "timestamp": 1689970915195,
     "user": {
      "displayName": "Lili Morones",
      "userId": "03662130427026750805"
     },
     "user_tz": 360
    },
    "id": "aDmi1qKWT5vR",
    "outputId": "fadaf64a-5c46-40ea-d1d6-17573d6f66c2"
   },
   "outputs": [
    {
     "data": {
      "text/html": [
       "\n",
       "\n",
       "  <div id=\"df-ce2c421f-ea8e-4801-bc2b-e0843f26bec5\">\n",
       "    <div class=\"colab-df-container\">\n",
       "      <div>\n",
       "<style scoped>\n",
       "    .dataframe tbody tr th:only-of-type {\n",
       "        vertical-align: middle;\n",
       "    }\n",
       "\n",
       "    .dataframe tbody tr th {\n",
       "        vertical-align: top;\n",
       "    }\n",
       "\n",
       "    .dataframe thead th {\n",
       "        text-align: right;\n",
       "    }\n",
       "</style>\n",
       "<table border=\"1\" class=\"dataframe\">\n",
       "  <thead>\n",
       "    <tr style=\"text-align: right;\">\n",
       "      <th></th>\n",
       "      <th>ID</th>\n",
       "      <th>CLUES</th>\n",
       "      <th>DIAS_ESTA</th>\n",
       "      <th>EDAD</th>\n",
       "      <th>PESO</th>\n",
       "      <th>TALLA</th>\n",
       "      <th>DERHAB</th>\n",
       "      <th>MUNIC</th>\n",
       "      <th>PROCED</th>\n",
       "      <th>DIAG_INI</th>\n",
       "      <th>...</th>\n",
       "      <th>EGRESO_DIA</th>\n",
       "      <th>EGRESO_MES</th>\n",
       "      <th>EGRESO_ANIO</th>\n",
       "      <th>SEXO_M</th>\n",
       "      <th>VEZ_SUBSECUENTE</th>\n",
       "      <th>TIPSERV_NORMAL</th>\n",
       "      <th>INFEC_SI</th>\n",
       "      <th>DIABETES_SI</th>\n",
       "      <th>HIPERTENSION_SI</th>\n",
       "      <th>OBESIDAD_SI</th>\n",
       "    </tr>\n",
       "  </thead>\n",
       "  <tbody>\n",
       "    <tr>\n",
       "      <th>0</th>\n",
       "      <td>1</td>\n",
       "      <td>0</td>\n",
       "      <td>1</td>\n",
       "      <td>0</td>\n",
       "      <td>999.0</td>\n",
       "      <td>999</td>\n",
       "      <td>5</td>\n",
       "      <td>0</td>\n",
       "      <td>0</td>\n",
       "      <td>1346</td>\n",
       "      <td>...</td>\n",
       "      <td>4</td>\n",
       "      <td>1</td>\n",
       "      <td>2010</td>\n",
       "      <td>1</td>\n",
       "      <td>1</td>\n",
       "      <td>1</td>\n",
       "      <td>0</td>\n",
       "      <td>0</td>\n",
       "      <td>0</td>\n",
       "      <td>0</td>\n",
       "    </tr>\n",
       "    <tr>\n",
       "      <th>1</th>\n",
       "      <td>3</td>\n",
       "      <td>0</td>\n",
       "      <td>1</td>\n",
       "      <td>6</td>\n",
       "      <td>999.0</td>\n",
       "      <td>999</td>\n",
       "      <td>5</td>\n",
       "      <td>1</td>\n",
       "      <td>0</td>\n",
       "      <td>547</td>\n",
       "      <td>...</td>\n",
       "      <td>6</td>\n",
       "      <td>1</td>\n",
       "      <td>2010</td>\n",
       "      <td>0</td>\n",
       "      <td>1</td>\n",
       "      <td>1</td>\n",
       "      <td>0</td>\n",
       "      <td>0</td>\n",
       "      <td>0</td>\n",
       "      <td>0</td>\n",
       "    </tr>\n",
       "    <tr>\n",
       "      <th>2</th>\n",
       "      <td>4</td>\n",
       "      <td>0</td>\n",
       "      <td>1</td>\n",
       "      <td>5</td>\n",
       "      <td>999.0</td>\n",
       "      <td>999</td>\n",
       "      <td>5</td>\n",
       "      <td>4</td>\n",
       "      <td>0</td>\n",
       "      <td>547</td>\n",
       "      <td>...</td>\n",
       "      <td>5</td>\n",
       "      <td>1</td>\n",
       "      <td>2010</td>\n",
       "      <td>0</td>\n",
       "      <td>1</td>\n",
       "      <td>1</td>\n",
       "      <td>0</td>\n",
       "      <td>0</td>\n",
       "      <td>0</td>\n",
       "      <td>0</td>\n",
       "    </tr>\n",
       "    <tr>\n",
       "      <th>3</th>\n",
       "      <td>5</td>\n",
       "      <td>0</td>\n",
       "      <td>1</td>\n",
       "      <td>18</td>\n",
       "      <td>999.0</td>\n",
       "      <td>999</td>\n",
       "      <td>5</td>\n",
       "      <td>0</td>\n",
       "      <td>0</td>\n",
       "      <td>293</td>\n",
       "      <td>...</td>\n",
       "      <td>4</td>\n",
       "      <td>1</td>\n",
       "      <td>2010</td>\n",
       "      <td>0</td>\n",
       "      <td>1</td>\n",
       "      <td>1</td>\n",
       "      <td>0</td>\n",
       "      <td>0</td>\n",
       "      <td>0</td>\n",
       "      <td>0</td>\n",
       "    </tr>\n",
       "    <tr>\n",
       "      <th>4</th>\n",
       "      <td>8</td>\n",
       "      <td>0</td>\n",
       "      <td>1</td>\n",
       "      <td>17</td>\n",
       "      <td>999.0</td>\n",
       "      <td>999</td>\n",
       "      <td>5</td>\n",
       "      <td>5</td>\n",
       "      <td>0</td>\n",
       "      <td>293</td>\n",
       "      <td>...</td>\n",
       "      <td>4</td>\n",
       "      <td>1</td>\n",
       "      <td>2010</td>\n",
       "      <td>1</td>\n",
       "      <td>1</td>\n",
       "      <td>1</td>\n",
       "      <td>0</td>\n",
       "      <td>0</td>\n",
       "      <td>0</td>\n",
       "      <td>0</td>\n",
       "    </tr>\n",
       "    <tr>\n",
       "      <th>...</th>\n",
       "      <td>...</td>\n",
       "      <td>...</td>\n",
       "      <td>...</td>\n",
       "      <td>...</td>\n",
       "      <td>...</td>\n",
       "      <td>...</td>\n",
       "      <td>...</td>\n",
       "      <td>...</td>\n",
       "      <td>...</td>\n",
       "      <td>...</td>\n",
       "      <td>...</td>\n",
       "      <td>...</td>\n",
       "      <td>...</td>\n",
       "      <td>...</td>\n",
       "      <td>...</td>\n",
       "      <td>...</td>\n",
       "      <td>...</td>\n",
       "      <td>...</td>\n",
       "      <td>...</td>\n",
       "      <td>...</td>\n",
       "      <td>...</td>\n",
       "    </tr>\n",
       "    <tr>\n",
       "      <th>320889</th>\n",
       "      <td>321258</td>\n",
       "      <td>2</td>\n",
       "      <td>1</td>\n",
       "      <td>19</td>\n",
       "      <td>57.8</td>\n",
       "      <td>152</td>\n",
       "      <td>6</td>\n",
       "      <td>6</td>\n",
       "      <td>4</td>\n",
       "      <td>953</td>\n",
       "      <td>...</td>\n",
       "      <td>15</td>\n",
       "      <td>9</td>\n",
       "      <td>2022</td>\n",
       "      <td>1</td>\n",
       "      <td>0</td>\n",
       "      <td>1</td>\n",
       "      <td>0</td>\n",
       "      <td>0</td>\n",
       "      <td>0</td>\n",
       "      <td>0</td>\n",
       "    </tr>\n",
       "    <tr>\n",
       "      <th>320890</th>\n",
       "      <td>321259</td>\n",
       "      <td>2</td>\n",
       "      <td>1</td>\n",
       "      <td>23</td>\n",
       "      <td>68.0</td>\n",
       "      <td>166</td>\n",
       "      <td>6</td>\n",
       "      <td>6</td>\n",
       "      <td>4</td>\n",
       "      <td>1095</td>\n",
       "      <td>...</td>\n",
       "      <td>15</td>\n",
       "      <td>9</td>\n",
       "      <td>2022</td>\n",
       "      <td>1</td>\n",
       "      <td>0</td>\n",
       "      <td>1</td>\n",
       "      <td>0</td>\n",
       "      <td>0</td>\n",
       "      <td>0</td>\n",
       "      <td>0</td>\n",
       "    </tr>\n",
       "    <tr>\n",
       "      <th>320891</th>\n",
       "      <td>321260</td>\n",
       "      <td>2</td>\n",
       "      <td>1</td>\n",
       "      <td>22</td>\n",
       "      <td>87.0</td>\n",
       "      <td>160</td>\n",
       "      <td>6</td>\n",
       "      <td>6</td>\n",
       "      <td>4</td>\n",
       "      <td>2</td>\n",
       "      <td>...</td>\n",
       "      <td>16</td>\n",
       "      <td>9</td>\n",
       "      <td>2022</td>\n",
       "      <td>1</td>\n",
       "      <td>0</td>\n",
       "      <td>1</td>\n",
       "      <td>0</td>\n",
       "      <td>0</td>\n",
       "      <td>0</td>\n",
       "      <td>0</td>\n",
       "    </tr>\n",
       "    <tr>\n",
       "      <th>320892</th>\n",
       "      <td>321261</td>\n",
       "      <td>2</td>\n",
       "      <td>9</td>\n",
       "      <td>24</td>\n",
       "      <td>71.9</td>\n",
       "      <td>152</td>\n",
       "      <td>6</td>\n",
       "      <td>5</td>\n",
       "      <td>4</td>\n",
       "      <td>76</td>\n",
       "      <td>...</td>\n",
       "      <td>16</td>\n",
       "      <td>9</td>\n",
       "      <td>2022</td>\n",
       "      <td>1</td>\n",
       "      <td>0</td>\n",
       "      <td>1</td>\n",
       "      <td>0</td>\n",
       "      <td>0</td>\n",
       "      <td>0</td>\n",
       "      <td>0</td>\n",
       "    </tr>\n",
       "    <tr>\n",
       "      <th>320893</th>\n",
       "      <td>321262</td>\n",
       "      <td>2</td>\n",
       "      <td>1</td>\n",
       "      <td>20</td>\n",
       "      <td>94.0</td>\n",
       "      <td>158</td>\n",
       "      <td>6</td>\n",
       "      <td>6</td>\n",
       "      <td>4</td>\n",
       "      <td>953</td>\n",
       "      <td>...</td>\n",
       "      <td>17</td>\n",
       "      <td>9</td>\n",
       "      <td>2022</td>\n",
       "      <td>1</td>\n",
       "      <td>0</td>\n",
       "      <td>1</td>\n",
       "      <td>0</td>\n",
       "      <td>0</td>\n",
       "      <td>0</td>\n",
       "      <td>0</td>\n",
       "    </tr>\n",
       "  </tbody>\n",
       "</table>\n",
       "<p>320103 rows × 33 columns</p>\n",
       "</div>\n",
       "      <button class=\"colab-df-convert\" onclick=\"convertToInteractive('df-ce2c421f-ea8e-4801-bc2b-e0843f26bec5')\"\n",
       "              title=\"Convert this dataframe to an interactive table.\"\n",
       "              style=\"display:none;\">\n",
       "\n",
       "  <svg xmlns=\"http://www.w3.org/2000/svg\" height=\"24px\"viewBox=\"0 0 24 24\"\n",
       "       width=\"24px\">\n",
       "    <path d=\"M0 0h24v24H0V0z\" fill=\"none\"/>\n",
       "    <path d=\"M18.56 5.44l.94 2.06.94-2.06 2.06-.94-2.06-.94-.94-2.06-.94 2.06-2.06.94zm-11 1L8.5 8.5l.94-2.06 2.06-.94-2.06-.94L8.5 2.5l-.94 2.06-2.06.94zm10 10l.94 2.06.94-2.06 2.06-.94-2.06-.94-.94-2.06-.94 2.06-2.06.94z\"/><path d=\"M17.41 7.96l-1.37-1.37c-.4-.4-.92-.59-1.43-.59-.52 0-1.04.2-1.43.59L10.3 9.45l-7.72 7.72c-.78.78-.78 2.05 0 2.83L4 21.41c.39.39.9.59 1.41.59.51 0 1.02-.2 1.41-.59l7.78-7.78 2.81-2.81c.8-.78.8-2.07 0-2.86zM5.41 20L4 18.59l7.72-7.72 1.47 1.35L5.41 20z\"/>\n",
       "  </svg>\n",
       "      </button>\n",
       "\n",
       "\n",
       "\n",
       "    <div id=\"df-3fb8cc42-8dde-4e77-9ab7-c84a38e8a213\">\n",
       "      <button class=\"colab-df-quickchart\" onclick=\"quickchart('df-3fb8cc42-8dde-4e77-9ab7-c84a38e8a213')\"\n",
       "              title=\"Suggest charts.\"\n",
       "              style=\"display:none;\">\n",
       "\n",
       "<svg xmlns=\"http://www.w3.org/2000/svg\" height=\"24px\"viewBox=\"0 0 24 24\"\n",
       "     width=\"24px\">\n",
       "    <g>\n",
       "        <path d=\"M19 3H5c-1.1 0-2 .9-2 2v14c0 1.1.9 2 2 2h14c1.1 0 2-.9 2-2V5c0-1.1-.9-2-2-2zM9 17H7v-7h2v7zm4 0h-2V7h2v10zm4 0h-2v-4h2v4z\"/>\n",
       "    </g>\n",
       "</svg>\n",
       "      </button>\n",
       "    </div>\n",
       "\n",
       "<style>\n",
       "  .colab-df-quickchart {\n",
       "    background-color: #E8F0FE;\n",
       "    border: none;\n",
       "    border-radius: 50%;\n",
       "    cursor: pointer;\n",
       "    display: none;\n",
       "    fill: #1967D2;\n",
       "    height: 32px;\n",
       "    padding: 0 0 0 0;\n",
       "    width: 32px;\n",
       "  }\n",
       "\n",
       "  .colab-df-quickchart:hover {\n",
       "    background-color: #E2EBFA;\n",
       "    box-shadow: 0px 1px 2px rgba(60, 64, 67, 0.3), 0px 1px 3px 1px rgba(60, 64, 67, 0.15);\n",
       "    fill: #174EA6;\n",
       "  }\n",
       "\n",
       "  [theme=dark] .colab-df-quickchart {\n",
       "    background-color: #3B4455;\n",
       "    fill: #D2E3FC;\n",
       "  }\n",
       "\n",
       "  [theme=dark] .colab-df-quickchart:hover {\n",
       "    background-color: #434B5C;\n",
       "    box-shadow: 0px 1px 3px 1px rgba(0, 0, 0, 0.15);\n",
       "    filter: drop-shadow(0px 1px 2px rgba(0, 0, 0, 0.3));\n",
       "    fill: #FFFFFF;\n",
       "  }\n",
       "</style>\n",
       "\n",
       "    <script>\n",
       "      async function quickchart(key) {\n",
       "        const containerElement = document.querySelector('#' + key);\n",
       "        const charts = await google.colab.kernel.invokeFunction(\n",
       "            'suggestCharts', [key], {});\n",
       "      }\n",
       "    </script>\n",
       "\n",
       "      <script>\n",
       "\n",
       "function displayQuickchartButton(domScope) {\n",
       "  let quickchartButtonEl =\n",
       "    domScope.querySelector('#df-3fb8cc42-8dde-4e77-9ab7-c84a38e8a213 button.colab-df-quickchart');\n",
       "  quickchartButtonEl.style.display =\n",
       "    google.colab.kernel.accessAllowed ? 'block' : 'none';\n",
       "}\n",
       "\n",
       "        displayQuickchartButton(document);\n",
       "      </script>\n",
       "      <style>\n",
       "    .colab-df-container {\n",
       "      display:flex;\n",
       "      flex-wrap:wrap;\n",
       "      gap: 12px;\n",
       "    }\n",
       "\n",
       "    .colab-df-convert {\n",
       "      background-color: #E8F0FE;\n",
       "      border: none;\n",
       "      border-radius: 50%;\n",
       "      cursor: pointer;\n",
       "      display: none;\n",
       "      fill: #1967D2;\n",
       "      height: 32px;\n",
       "      padding: 0 0 0 0;\n",
       "      width: 32px;\n",
       "    }\n",
       "\n",
       "    .colab-df-convert:hover {\n",
       "      background-color: #E2EBFA;\n",
       "      box-shadow: 0px 1px 2px rgba(60, 64, 67, 0.3), 0px 1px 3px 1px rgba(60, 64, 67, 0.15);\n",
       "      fill: #174EA6;\n",
       "    }\n",
       "\n",
       "    [theme=dark] .colab-df-convert {\n",
       "      background-color: #3B4455;\n",
       "      fill: #D2E3FC;\n",
       "    }\n",
       "\n",
       "    [theme=dark] .colab-df-convert:hover {\n",
       "      background-color: #434B5C;\n",
       "      box-shadow: 0px 1px 3px 1px rgba(0, 0, 0, 0.15);\n",
       "      filter: drop-shadow(0px 1px 2px rgba(0, 0, 0, 0.3));\n",
       "      fill: #FFFFFF;\n",
       "    }\n",
       "  </style>\n",
       "\n",
       "      <script>\n",
       "        const buttonEl =\n",
       "          document.querySelector('#df-ce2c421f-ea8e-4801-bc2b-e0843f26bec5 button.colab-df-convert');\n",
       "        buttonEl.style.display =\n",
       "          google.colab.kernel.accessAllowed ? 'block' : 'none';\n",
       "\n",
       "        async function convertToInteractive(key) {\n",
       "          const element = document.querySelector('#df-ce2c421f-ea8e-4801-bc2b-e0843f26bec5');\n",
       "          const dataTable =\n",
       "            await google.colab.kernel.invokeFunction('convertToInteractive',\n",
       "                                                     [key], {});\n",
       "          if (!dataTable) return;\n",
       "\n",
       "          const docLinkHtml = 'Like what you see? Visit the ' +\n",
       "            '<a target=\"_blank\" href=https://colab.research.google.com/notebooks/data_table.ipynb>data table notebook</a>'\n",
       "            + ' to learn more about interactive tables.';\n",
       "          element.innerHTML = '';\n",
       "          dataTable['output_type'] = 'display_data';\n",
       "          await google.colab.output.renderOutput(dataTable, element);\n",
       "          const docLink = document.createElement('div');\n",
       "          docLink.innerHTML = docLinkHtml;\n",
       "          element.appendChild(docLink);\n",
       "        }\n",
       "      </script>\n",
       "    </div>\n",
       "  </div>\n"
      ],
      "text/plain": [
       "            ID  CLUES  DIAS_ESTA  EDAD   PESO  TALLA  DERHAB  MUNIC  PROCED  \\\n",
       "0            1      0          1     0  999.0    999       5      0       0   \n",
       "1            3      0          1     6  999.0    999       5      1       0   \n",
       "2            4      0          1     5  999.0    999       5      4       0   \n",
       "3            5      0          1    18  999.0    999       5      0       0   \n",
       "4            8      0          1    17  999.0    999       5      5       0   \n",
       "...        ...    ...        ...   ...    ...    ...     ...    ...     ...   \n",
       "320889  321258      2          1    19   57.8    152       6      6       4   \n",
       "320890  321259      2          1    23   68.0    166       6      6       4   \n",
       "320891  321260      2          1    22   87.0    160       6      6       4   \n",
       "320892  321261      2          9    24   71.9    152       6      5       4   \n",
       "320893  321262      2          1    20   94.0    158       6      6       4   \n",
       "\n",
       "        DIAG_INI  ...  EGRESO_DIA  EGRESO_MES  EGRESO_ANIO  SEXO_M  \\\n",
       "0           1346  ...           4           1         2010       1   \n",
       "1            547  ...           6           1         2010       0   \n",
       "2            547  ...           5           1         2010       0   \n",
       "3            293  ...           4           1         2010       0   \n",
       "4            293  ...           4           1         2010       1   \n",
       "...          ...  ...         ...         ...          ...     ...   \n",
       "320889       953  ...          15           9         2022       1   \n",
       "320890      1095  ...          15           9         2022       1   \n",
       "320891         2  ...          16           9         2022       1   \n",
       "320892        76  ...          16           9         2022       1   \n",
       "320893       953  ...          17           9         2022       1   \n",
       "\n",
       "        VEZ_SUBSECUENTE  TIPSERV_NORMAL  INFEC_SI  DIABETES_SI  \\\n",
       "0                     1               1         0            0   \n",
       "1                     1               1         0            0   \n",
       "2                     1               1         0            0   \n",
       "3                     1               1         0            0   \n",
       "4                     1               1         0            0   \n",
       "...                 ...             ...       ...          ...   \n",
       "320889                0               1         0            0   \n",
       "320890                0               1         0            0   \n",
       "320891                0               1         0            0   \n",
       "320892                0               1         0            0   \n",
       "320893                0               1         0            0   \n",
       "\n",
       "        HIPERTENSION_SI  OBESIDAD_SI  \n",
       "0                     0            0  \n",
       "1                     0            0  \n",
       "2                     0            0  \n",
       "3                     0            0  \n",
       "4                     0            0  \n",
       "...                 ...          ...  \n",
       "320889                0            0  \n",
       "320890                0            0  \n",
       "320891                0            0  \n",
       "320892                0            0  \n",
       "320893                0            0  \n",
       "\n",
       "[320103 rows x 33 columns]"
      ]
     },
     "execution_count": 28,
     "metadata": {},
     "output_type": "execute_result"
    }
   ],
   "source": [
    "egresos2"
   ]
  },
  {
   "cell_type": "code",
   "execution_count": 29,
   "metadata": {
    "executionInfo": {
     "elapsed": 24,
     "status": "ok",
     "timestamp": 1689970915197,
     "user": {
      "displayName": "Lili Morones",
      "userId": "03662130427026750805"
     },
     "user_tz": 360
    },
    "id": "BhfbFxWU9ygm"
   },
   "outputs": [],
   "source": [
    "# Asignación de valor 'No especificado' a registros incongruentes de TALLA de acuerdo a la edad del paciente\n",
    "egresos2.loc[((egresos2['TALLA'] < 35) | (egresos2['TALLA'] > 80)) & (egresos2['EDAD'] == 0), 'TALLA'] = 999\n",
    "egresos2.loc[((egresos2['TALLA'] < 60) | (egresos2['TALLA'] > 100)) & (egresos2['EDAD'] == 1), 'TALLA'] = 999\n",
    "egresos2.loc[((egresos2['TALLA'] < 65) | (egresos2['TALLA'] > 110)) & (egresos2['EDAD'] == 2), 'TALLA'] = 999\n",
    "egresos2.loc[((egresos2['TALLA'] < 70) | (egresos2['TALLA'] > 120)) & (egresos2['EDAD'] == 3), 'TALLA'] = 999\n",
    "egresos2.loc[((egresos2['TALLA'] < 80) | (egresos2['TALLA'] > 130)) & ((egresos2['EDAD'] == 4) | (egresos2['EDAD'] == 5)), 'TALLA'] = 999\n",
    "egresos2.loc[((egresos2['TALLA'] < 90) | (egresos2['TALLA'] > 140)) & ((egresos2['EDAD'] == 6) | (egresos2['EDAD'] == 7)), 'TALLA'] = 999\n",
    "egresos2.loc[((egresos2['TALLA'] < 90) | (egresos2['TALLA'] > 160)) & ((egresos2['EDAD'] == 8) | (egresos2['EDAD'] == 9)), 'TALLA'] = 999\n",
    "egresos2.loc[((egresos2['TALLA'] < 100) | (egresos2['TALLA'] > 180)) & ((egresos2['EDAD'] == 10) | (egresos2['EDAD'] == 11)), 'TALLA'] = 999\n",
    "egresos2.loc[((egresos2['TALLA'] < 120) | (egresos2['TALLA'] > 180)) & ((egresos2['EDAD'] == 12) | (egresos2['EDAD'] == 13)), 'TALLA'] = 999\n",
    "egresos2.loc[(egresos2['TALLA'] < 130) & (egresos2['EDAD'] >= 14), 'TALLA'] = 999"
   ]
  },
  {
   "cell_type": "code",
   "execution_count": 30,
   "metadata": {
    "colab": {
     "base_uri": "https://localhost:8080/",
     "height": 0
    },
    "executionInfo": {
     "elapsed": 306,
     "status": "ok",
     "timestamp": 1689970915481,
     "user": {
      "displayName": "Lili Morones",
      "userId": "03662130427026750805"
     },
     "user_tz": 360
    },
    "id": "_cnkFB48Bxll",
    "outputId": "98a87451-994d-4bd4-b0af-24e5895589f2"
   },
   "outputs": [
    {
     "data": {
      "text/plain": [
       "<Axes: xlabel='CAT_EDAD', ylabel='TALLA'>"
      ]
     },
     "execution_count": 30,
     "metadata": {},
     "output_type": "execute_result"
    },
    {
     "data": {
      "image/png": "[encoded data removed]",
      "text/plain": [
       "<Figure size 640x480 with 1 Axes>"
      ]
     },
     "metadata": {},
     "output_type": "display_data"
    }
   ],
   "source": [
    "# Visualización de datos de talla limpiados\n",
    "prueba = egresos2[egresos2['TALLA']<= 200]\n",
    "sns.boxplot(x = 'CAT_EDAD', y = 'TALLA', data = prueba)"
   ]
  },
  {
   "cell_type": "code",
   "execution_count": 31,
   "metadata": {
    "executionInfo": {
     "elapsed": 10,
     "status": "ok",
     "timestamp": 1689970915483,
     "user": {
      "displayName": "Lili Morones",
      "userId": "03662130427026750805"
     },
     "user_tz": 360
    },
    "id": "aIc-SrRMI7dQ"
   },
   "outputs": [],
   "source": [
    "# Asignación de valor 'No especificado' a registros incongruentes de PESO de acuerdo a la edad del paciente\n",
    "egresos2.loc[(egresos2['PESO'] > 10) & (egresos2['EDAD'] == 0), 'PESO'] = 999\n",
    "egresos2.loc[((egresos2['PESO'] < 5) | (egresos2['PESO'] > 20)) & ((egresos2['EDAD'] == 1) | (egresos2['EDAD'] == 2)), 'PESO'] = 999\n",
    "egresos2.loc[((egresos2['PESO'] < 10) | (egresos2['PESO'] > 25)) & (egresos2['EDAD'] == 3), 'PESO'] = 999\n",
    "egresos2.loc[((egresos2['PESO'] < 10) | (egresos2['PESO'] > 30)) & ((egresos2['EDAD'] == 4) | (egresos2['EDAD'] == 5)), 'PESO'] = 999\n",
    "egresos2.loc[((egresos2['PESO'] < 15) | (egresos2['PESO'] > 40)) & ((egresos2['EDAD'] == 6) | (egresos2['EDAD'] == 7)), 'PESO'] = 999\n",
    "egresos2.loc[((egresos2['PESO'] <15) | (egresos2['PESO'] > 50)) & ((egresos2['EDAD'] == 8) | (egresos2['EDAD'] == 9)), 'PESO'] = 999\n",
    "egresos2.loc[((egresos2['PESO'] < 20) | (egresos2['PESO'] > 70)) & ((egresos2['EDAD'] == 10) | (egresos2['EDAD'] == 11)), 'PESO'] = 999\n",
    "egresos2.loc[((egresos2['PESO'] < 20) | (egresos2['PESO'] >90)) & ((egresos2['EDAD'] == 12) | (egresos2['EDAD'] == 13)), 'PESO'] = 999\n",
    "egresos2.loc[((egresos2['PESO'] < 25) | (egresos2['PESO'] > 100)) & ((egresos2['EDAD'] == 14) | (egresos2['EDAD'] == 15)), 'PESO'] = 999\n",
    "egresos2.loc[(egresos2['PESO'] < 25) & (egresos2['EDAD'] >= 16), 'PESO'] = 999"
   ]
  },
  {
   "cell_type": "code",
   "execution_count": 32,
   "metadata": {
    "colab": {
     "base_uri": "https://localhost:8080/",
     "height": 0
    },
    "executionInfo": {
     "elapsed": 429,
     "status": "ok",
     "timestamp": 1689970915903,
     "user": {
      "displayName": "Lili Morones",
      "userId": "03662130427026750805"
     },
     "user_tz": 360
    },
    "id": "LLTBrNObKr8E",
    "outputId": "eec9ae21-2028-4b43-8b8c-0e59d93daf76"
   },
   "outputs": [
    {
     "data": {
      "text/plain": [
       "<Axes: xlabel='CAT_EDAD', ylabel='PESO'>"
      ]
     },
     "execution_count": 32,
     "metadata": {},
     "output_type": "execute_result"
    },
    {
     "data": {
      "image/png": "[encoded data removed]",
      "text/plain": [
       "<Figure size 640x480 with 1 Axes>"
      ]
     },
     "metadata": {},
     "output_type": "display_data"
    }
   ],
   "source": [
    "# Visualización de datos de peso limpios\n",
    "prueba = egresos2[egresos2['PESO']<= 200]\n",
    "sns.boxplot(x = 'CAT_EDAD', y = 'PESO', data = prueba)"
   ]
  },
  {
   "cell_type": "code",
   "execution_count": 33,
   "metadata": {
    "colab": {
     "base_uri": "https://localhost:8080/",
     "height": 0
    },
    "executionInfo": {
     "elapsed": 409,
     "status": "ok",
     "timestamp": 1689970916303,
     "user": {
      "displayName": "Lili Morones",
      "userId": "03662130427026750805"
     },
     "user_tz": 360
    },
    "id": "lxHVSNN-avig",
    "outputId": "9dcd2e31-401b-4ade-b233-20bc2f5aed65"
   },
   "outputs": [
    {
     "data": {
      "text/html": [
       "\n",
       "\n",
       "  <div id=\"df-3cdad6da-6889-46d2-976e-033e8718f41c\">\n",
       "    <div class=\"colab-df-container\">\n",
       "      <div>\n",
       "<style scoped>\n",
       "    .dataframe tbody tr th:only-of-type {\n",
       "        vertical-align: middle;\n",
       "    }\n",
       "\n",
       "    .dataframe tbody tr th {\n",
       "        vertical-align: top;\n",
       "    }\n",
       "\n",
       "    .dataframe thead th {\n",
       "        text-align: right;\n",
       "    }\n",
       "</style>\n",
       "<table border=\"1\" class=\"dataframe\">\n",
       "  <thead>\n",
       "    <tr style=\"text-align: right;\">\n",
       "      <th></th>\n",
       "      <th>ID</th>\n",
       "      <th>CLUES</th>\n",
       "      <th>DIAS_ESTA</th>\n",
       "      <th>EDAD</th>\n",
       "      <th>PESO</th>\n",
       "      <th>TALLA</th>\n",
       "      <th>DERHAB</th>\n",
       "      <th>MUNIC</th>\n",
       "      <th>PROCED</th>\n",
       "      <th>DIAG_INI</th>\n",
       "      <th>...</th>\n",
       "      <th>EGRESO_DIA</th>\n",
       "      <th>EGRESO_MES</th>\n",
       "      <th>EGRESO_ANIO</th>\n",
       "      <th>SEXO_M</th>\n",
       "      <th>VEZ_SUBSECUENTE</th>\n",
       "      <th>TIPSERV_NORMAL</th>\n",
       "      <th>INFEC_SI</th>\n",
       "      <th>DIABETES_SI</th>\n",
       "      <th>HIPERTENSION_SI</th>\n",
       "      <th>OBESIDAD_SI</th>\n",
       "    </tr>\n",
       "  </thead>\n",
       "  <tbody>\n",
       "    <tr>\n",
       "      <th>0</th>\n",
       "      <td>1</td>\n",
       "      <td>0</td>\n",
       "      <td>1</td>\n",
       "      <td>0</td>\n",
       "      <td>3.00</td>\n",
       "      <td>50.0</td>\n",
       "      <td>5</td>\n",
       "      <td>0</td>\n",
       "      <td>0</td>\n",
       "      <td>1346</td>\n",
       "      <td>...</td>\n",
       "      <td>4</td>\n",
       "      <td>1</td>\n",
       "      <td>2010</td>\n",
       "      <td>1</td>\n",
       "      <td>1</td>\n",
       "      <td>1</td>\n",
       "      <td>0</td>\n",
       "      <td>0</td>\n",
       "      <td>0</td>\n",
       "      <td>0</td>\n",
       "    </tr>\n",
       "    <tr>\n",
       "      <th>1</th>\n",
       "      <td>3</td>\n",
       "      <td>0</td>\n",
       "      <td>1</td>\n",
       "      <td>6</td>\n",
       "      <td>21.00</td>\n",
       "      <td>117.5</td>\n",
       "      <td>5</td>\n",
       "      <td>1</td>\n",
       "      <td>0</td>\n",
       "      <td>547</td>\n",
       "      <td>...</td>\n",
       "      <td>6</td>\n",
       "      <td>1</td>\n",
       "      <td>2010</td>\n",
       "      <td>0</td>\n",
       "      <td>1</td>\n",
       "      <td>1</td>\n",
       "      <td>0</td>\n",
       "      <td>0</td>\n",
       "      <td>0</td>\n",
       "      <td>0</td>\n",
       "    </tr>\n",
       "    <tr>\n",
       "      <th>2</th>\n",
       "      <td>4</td>\n",
       "      <td>0</td>\n",
       "      <td>1</td>\n",
       "      <td>5</td>\n",
       "      <td>19.45</td>\n",
       "      <td>110.0</td>\n",
       "      <td>5</td>\n",
       "      <td>4</td>\n",
       "      <td>0</td>\n",
       "      <td>547</td>\n",
       "      <td>...</td>\n",
       "      <td>5</td>\n",
       "      <td>1</td>\n",
       "      <td>2010</td>\n",
       "      <td>0</td>\n",
       "      <td>1</td>\n",
       "      <td>1</td>\n",
       "      <td>0</td>\n",
       "      <td>0</td>\n",
       "      <td>0</td>\n",
       "      <td>0</td>\n",
       "    </tr>\n",
       "    <tr>\n",
       "      <th>3</th>\n",
       "      <td>5</td>\n",
       "      <td>0</td>\n",
       "      <td>1</td>\n",
       "      <td>18</td>\n",
       "      <td>70.00</td>\n",
       "      <td>170.0</td>\n",
       "      <td>5</td>\n",
       "      <td>0</td>\n",
       "      <td>0</td>\n",
       "      <td>293</td>\n",
       "      <td>...</td>\n",
       "      <td>4</td>\n",
       "      <td>1</td>\n",
       "      <td>2010</td>\n",
       "      <td>0</td>\n",
       "      <td>1</td>\n",
       "      <td>1</td>\n",
       "      <td>0</td>\n",
       "      <td>0</td>\n",
       "      <td>0</td>\n",
       "      <td>0</td>\n",
       "    </tr>\n",
       "    <tr>\n",
       "      <th>4</th>\n",
       "      <td>8</td>\n",
       "      <td>0</td>\n",
       "      <td>1</td>\n",
       "      <td>17</td>\n",
       "      <td>65.00</td>\n",
       "      <td>160.0</td>\n",
       "      <td>5</td>\n",
       "      <td>5</td>\n",
       "      <td>0</td>\n",
       "      <td>293</td>\n",
       "      <td>...</td>\n",
       "      <td>4</td>\n",
       "      <td>1</td>\n",
       "      <td>2010</td>\n",
       "      <td>1</td>\n",
       "      <td>1</td>\n",
       "      <td>1</td>\n",
       "      <td>0</td>\n",
       "      <td>0</td>\n",
       "      <td>0</td>\n",
       "      <td>0</td>\n",
       "    </tr>\n",
       "    <tr>\n",
       "      <th>...</th>\n",
       "      <td>...</td>\n",
       "      <td>...</td>\n",
       "      <td>...</td>\n",
       "      <td>...</td>\n",
       "      <td>...</td>\n",
       "      <td>...</td>\n",
       "      <td>...</td>\n",
       "      <td>...</td>\n",
       "      <td>...</td>\n",
       "      <td>...</td>\n",
       "      <td>...</td>\n",
       "      <td>...</td>\n",
       "      <td>...</td>\n",
       "      <td>...</td>\n",
       "      <td>...</td>\n",
       "      <td>...</td>\n",
       "      <td>...</td>\n",
       "      <td>...</td>\n",
       "      <td>...</td>\n",
       "      <td>...</td>\n",
       "      <td>...</td>\n",
       "    </tr>\n",
       "    <tr>\n",
       "      <th>320889</th>\n",
       "      <td>321258</td>\n",
       "      <td>2</td>\n",
       "      <td>1</td>\n",
       "      <td>19</td>\n",
       "      <td>57.80</td>\n",
       "      <td>152.0</td>\n",
       "      <td>6</td>\n",
       "      <td>6</td>\n",
       "      <td>4</td>\n",
       "      <td>953</td>\n",
       "      <td>...</td>\n",
       "      <td>15</td>\n",
       "      <td>9</td>\n",
       "      <td>2022</td>\n",
       "      <td>1</td>\n",
       "      <td>0</td>\n",
       "      <td>1</td>\n",
       "      <td>0</td>\n",
       "      <td>0</td>\n",
       "      <td>0</td>\n",
       "      <td>0</td>\n",
       "    </tr>\n",
       "    <tr>\n",
       "      <th>320890</th>\n",
       "      <td>321259</td>\n",
       "      <td>2</td>\n",
       "      <td>1</td>\n",
       "      <td>23</td>\n",
       "      <td>68.00</td>\n",
       "      <td>166.0</td>\n",
       "      <td>6</td>\n",
       "      <td>6</td>\n",
       "      <td>4</td>\n",
       "      <td>1095</td>\n",
       "      <td>...</td>\n",
       "      <td>15</td>\n",
       "      <td>9</td>\n",
       "      <td>2022</td>\n",
       "      <td>1</td>\n",
       "      <td>0</td>\n",
       "      <td>1</td>\n",
       "      <td>0</td>\n",
       "      <td>0</td>\n",
       "      <td>0</td>\n",
       "      <td>0</td>\n",
       "    </tr>\n",
       "    <tr>\n",
       "      <th>320891</th>\n",
       "      <td>321260</td>\n",
       "      <td>2</td>\n",
       "      <td>1</td>\n",
       "      <td>22</td>\n",
       "      <td>87.00</td>\n",
       "      <td>160.0</td>\n",
       "      <td>6</td>\n",
       "      <td>6</td>\n",
       "      <td>4</td>\n",
       "      <td>2</td>\n",
       "      <td>...</td>\n",
       "      <td>16</td>\n",
       "      <td>9</td>\n",
       "      <td>2022</td>\n",
       "      <td>1</td>\n",
       "      <td>0</td>\n",
       "      <td>1</td>\n",
       "      <td>0</td>\n",
       "      <td>0</td>\n",
       "      <td>0</td>\n",
       "      <td>0</td>\n",
       "    </tr>\n",
       "    <tr>\n",
       "      <th>320892</th>\n",
       "      <td>321261</td>\n",
       "      <td>2</td>\n",
       "      <td>9</td>\n",
       "      <td>24</td>\n",
       "      <td>71.90</td>\n",
       "      <td>152.0</td>\n",
       "      <td>6</td>\n",
       "      <td>5</td>\n",
       "      <td>4</td>\n",
       "      <td>76</td>\n",
       "      <td>...</td>\n",
       "      <td>16</td>\n",
       "      <td>9</td>\n",
       "      <td>2022</td>\n",
       "      <td>1</td>\n",
       "      <td>0</td>\n",
       "      <td>1</td>\n",
       "      <td>0</td>\n",
       "      <td>0</td>\n",
       "      <td>0</td>\n",
       "      <td>0</td>\n",
       "    </tr>\n",
       "    <tr>\n",
       "      <th>320893</th>\n",
       "      <td>321262</td>\n",
       "      <td>2</td>\n",
       "      <td>1</td>\n",
       "      <td>20</td>\n",
       "      <td>94.00</td>\n",
       "      <td>158.0</td>\n",
       "      <td>6</td>\n",
       "      <td>6</td>\n",
       "      <td>4</td>\n",
       "      <td>953</td>\n",
       "      <td>...</td>\n",
       "      <td>17</td>\n",
       "      <td>9</td>\n",
       "      <td>2022</td>\n",
       "      <td>1</td>\n",
       "      <td>0</td>\n",
       "      <td>1</td>\n",
       "      <td>0</td>\n",
       "      <td>0</td>\n",
       "      <td>0</td>\n",
       "      <td>0</td>\n",
       "    </tr>\n",
       "  </tbody>\n",
       "</table>\n",
       "<p>320103 rows × 33 columns</p>\n",
       "</div>\n",
       "      <button class=\"colab-df-convert\" onclick=\"convertToInteractive('df-3cdad6da-6889-46d2-976e-033e8718f41c')\"\n",
       "              title=\"Convert this dataframe to an interactive table.\"\n",
       "              style=\"display:none;\">\n",
       "\n",
       "  <svg xmlns=\"http://www.w3.org/2000/svg\" height=\"24px\"viewBox=\"0 0 24 24\"\n",
       "       width=\"24px\">\n",
       "    <path d=\"M0 0h24v24H0V0z\" fill=\"none\"/>\n",
       "    <path d=\"M18.56 5.44l.94 2.06.94-2.06 2.06-.94-2.06-.94-.94-2.06-.94 2.06-2.06.94zm-11 1L8.5 8.5l.94-2.06 2.06-.94-2.06-.94L8.5 2.5l-.94 2.06-2.06.94zm10 10l.94 2.06.94-2.06 2.06-.94-2.06-.94-.94-2.06-.94 2.06-2.06.94z\"/><path d=\"M17.41 7.96l-1.37-1.37c-.4-.4-.92-.59-1.43-.59-.52 0-1.04.2-1.43.59L10.3 9.45l-7.72 7.72c-.78.78-.78 2.05 0 2.83L4 21.41c.39.39.9.59 1.41.59.51 0 1.02-.2 1.41-.59l7.78-7.78 2.81-2.81c.8-.78.8-2.07 0-2.86zM5.41 20L4 18.59l7.72-7.72 1.47 1.35L5.41 20z\"/>\n",
       "  </svg>\n",
       "      </button>\n",
       "\n",
       "\n",
       "\n",
       "    <div id=\"df-ec8d9aec-b6a6-4f5f-b74c-9bb9e8806cd0\">\n",
       "      <button class=\"colab-df-quickchart\" onclick=\"quickchart('df-ec8d9aec-b6a6-4f5f-b74c-9bb9e8806cd0')\"\n",
       "              title=\"Suggest charts.\"\n",
       "              style=\"display:none;\">\n",
       "\n",
       "<svg xmlns=\"http://www.w3.org/2000/svg\" height=\"24px\"viewBox=\"0 0 24 24\"\n",
       "     width=\"24px\">\n",
       "    <g>\n",
       "        <path d=\"M19 3H5c-1.1 0-2 .9-2 2v14c0 1.1.9 2 2 2h14c1.1 0 2-.9 2-2V5c0-1.1-.9-2-2-2zM9 17H7v-7h2v7zm4 0h-2V7h2v10zm4 0h-2v-4h2v4z\"/>\n",
       "    </g>\n",
       "</svg>\n",
       "      </button>\n",
       "    </div>\n",
       "\n",
       "<style>\n",
       "  .colab-df-quickchart {\n",
       "    background-color: #E8F0FE;\n",
       "    border: none;\n",
       "    border-radius: 50%;\n",
       "    cursor: pointer;\n",
       "    display: none;\n",
       "    fill: #1967D2;\n",
       "    height: 32px;\n",
       "    padding: 0 0 0 0;\n",
       "    width: 32px;\n",
       "  }\n",
       "\n",
       "  .colab-df-quickchart:hover {\n",
       "    background-color: #E2EBFA;\n",
       "    box-shadow: 0px 1px 2px rgba(60, 64, 67, 0.3), 0px 1px 3px 1px rgba(60, 64, 67, 0.15);\n",
       "    fill: #174EA6;\n",
       "  }\n",
       "\n",
       "  [theme=dark] .colab-df-quickchart {\n",
       "    background-color: #3B4455;\n",
       "    fill: #D2E3FC;\n",
       "  }\n",
       "\n",
       "  [theme=dark] .colab-df-quickchart:hover {\n",
       "    background-color: #434B5C;\n",
       "    box-shadow: 0px 1px 3px 1px rgba(0, 0, 0, 0.15);\n",
       "    filter: drop-shadow(0px 1px 2px rgba(0, 0, 0, 0.3));\n",
       "    fill: #FFFFFF;\n",
       "  }\n",
       "</style>\n",
       "\n",
       "    <script>\n",
       "      async function quickchart(key) {\n",
       "        const containerElement = document.querySelector('#' + key);\n",
       "        const charts = await google.colab.kernel.invokeFunction(\n",
       "            'suggestCharts', [key], {});\n",
       "      }\n",
       "    </script>\n",
       "\n",
       "      <script>\n",
       "\n",
       "function displayQuickchartButton(domScope) {\n",
       "  let quickchartButtonEl =\n",
       "    domScope.querySelector('#df-ec8d9aec-b6a6-4f5f-b74c-9bb9e8806cd0 button.colab-df-quickchart');\n",
       "  quickchartButtonEl.style.display =\n",
       "    google.colab.kernel.accessAllowed ? 'block' : 'none';\n",
       "}\n",
       "\n",
       "        displayQuickchartButton(document);\n",
       "      </script>\n",
       "      <style>\n",
       "    .colab-df-container {\n",
       "      display:flex;\n",
       "      flex-wrap:wrap;\n",
       "      gap: 12px;\n",
       "    }\n",
       "\n",
       "    .colab-df-convert {\n",
       "      background-color: #E8F0FE;\n",
       "      border: none;\n",
       "      border-radius: 50%;\n",
       "      cursor: pointer;\n",
       "      display: none;\n",
       "      fill: #1967D2;\n",
       "      height: 32px;\n",
       "      padding: 0 0 0 0;\n",
       "      width: 32px;\n",
       "    }\n",
       "\n",
       "    .colab-df-convert:hover {\n",
       "      background-color: #E2EBFA;\n",
       "      box-shadow: 0px 1px 2px rgba(60, 64, 67, 0.3), 0px 1px 3px 1px rgba(60, 64, 67, 0.15);\n",
       "      fill: #174EA6;\n",
       "    }\n",
       "\n",
       "    [theme=dark] .colab-df-convert {\n",
       "      background-color: #3B4455;\n",
       "      fill: #D2E3FC;\n",
       "    }\n",
       "\n",
       "    [theme=dark] .colab-df-convert:hover {\n",
       "      background-color: #434B5C;\n",
       "      box-shadow: 0px 1px 3px 1px rgba(0, 0, 0, 0.15);\n",
       "      filter: drop-shadow(0px 1px 2px rgba(0, 0, 0, 0.3));\n",
       "      fill: #FFFFFF;\n",
       "    }\n",
       "  </style>\n",
       "\n",
       "      <script>\n",
       "        const buttonEl =\n",
       "          document.querySelector('#df-3cdad6da-6889-46d2-976e-033e8718f41c button.colab-df-convert');\n",
       "        buttonEl.style.display =\n",
       "          google.colab.kernel.accessAllowed ? 'block' : 'none';\n",
       "\n",
       "        async function convertToInteractive(key) {\n",
       "          const element = document.querySelector('#df-3cdad6da-6889-46d2-976e-033e8718f41c');\n",
       "          const dataTable =\n",
       "            await google.colab.kernel.invokeFunction('convertToInteractive',\n",
       "                                                     [key], {});\n",
       "          if (!dataTable) return;\n",
       "\n",
       "          const docLinkHtml = 'Like what you see? Visit the ' +\n",
       "            '<a target=\"_blank\" href=https://colab.research.google.com/notebooks/data_table.ipynb>data table notebook</a>'\n",
       "            + ' to learn more about interactive tables.';\n",
       "          element.innerHTML = '';\n",
       "          dataTable['output_type'] = 'display_data';\n",
       "          await google.colab.output.renderOutput(dataTable, element);\n",
       "          const docLink = document.createElement('div');\n",
       "          docLink.innerHTML = docLinkHtml;\n",
       "          element.appendChild(docLink);\n",
       "        }\n",
       "      </script>\n",
       "    </div>\n",
       "  </div>\n"
      ],
      "text/plain": [
       "            ID  CLUES  DIAS_ESTA  EDAD   PESO  TALLA  DERHAB  MUNIC  PROCED  \\\n",
       "0            1      0          1     0   3.00   50.0       5      0       0   \n",
       "1            3      0          1     6  21.00  117.5       5      1       0   \n",
       "2            4      0          1     5  19.45  110.0       5      4       0   \n",
       "3            5      0          1    18  70.00  170.0       5      0       0   \n",
       "4            8      0          1    17  65.00  160.0       5      5       0   \n",
       "...        ...    ...        ...   ...    ...    ...     ...    ...     ...   \n",
       "320889  321258      2          1    19  57.80  152.0       6      6       4   \n",
       "320890  321259      2          1    23  68.00  166.0       6      6       4   \n",
       "320891  321260      2          1    22  87.00  160.0       6      6       4   \n",
       "320892  321261      2          9    24  71.90  152.0       6      5       4   \n",
       "320893  321262      2          1    20  94.00  158.0       6      6       4   \n",
       "\n",
       "        DIAG_INI  ...  EGRESO_DIA  EGRESO_MES  EGRESO_ANIO  SEXO_M  \\\n",
       "0           1346  ...           4           1         2010       1   \n",
       "1            547  ...           6           1         2010       0   \n",
       "2            547  ...           5           1         2010       0   \n",
       "3            293  ...           4           1         2010       0   \n",
       "4            293  ...           4           1         2010       1   \n",
       "...          ...  ...         ...         ...          ...     ...   \n",
       "320889       953  ...          15           9         2022       1   \n",
       "320890      1095  ...          15           9         2022       1   \n",
       "320891         2  ...          16           9         2022       1   \n",
       "320892        76  ...          16           9         2022       1   \n",
       "320893       953  ...          17           9         2022       1   \n",
       "\n",
       "        VEZ_SUBSECUENTE  TIPSERV_NORMAL  INFEC_SI  DIABETES_SI  \\\n",
       "0                     1               1         0            0   \n",
       "1                     1               1         0            0   \n",
       "2                     1               1         0            0   \n",
       "3                     1               1         0            0   \n",
       "4                     1               1         0            0   \n",
       "...                 ...             ...       ...          ...   \n",
       "320889                0               1         0            0   \n",
       "320890                0               1         0            0   \n",
       "320891                0               1         0            0   \n",
       "320892                0               1         0            0   \n",
       "320893                0               1         0            0   \n",
       "\n",
       "        HIPERTENSION_SI  OBESIDAD_SI  \n",
       "0                     0            0  \n",
       "1                     0            0  \n",
       "2                     0            0  \n",
       "3                     0            0  \n",
       "4                     0            0  \n",
       "...                 ...          ...  \n",
       "320889                0            0  \n",
       "320890                0            0  \n",
       "320891                0            0  \n",
       "320892                0            0  \n",
       "320893                0            0  \n",
       "\n",
       "[320103 rows x 33 columns]"
      ]
     },
     "execution_count": 33,
     "metadata": {},
     "output_type": "execute_result"
    }
   ],
   "source": [
    "def calcular_mediana_por_grupo(group):\n",
    "    \"\"\"\n",
    "    Función para calcular la mediana según sexo y edad para valores menores a 999.\n",
    "    Args:\n",
    "    - group: grupo de sexo y edad\n",
    "    Return:\n",
    "    - Devuelve el valor de la mediana del grupo especificado\n",
    "    \"\"\"\n",
    "    return group[group <= 200].median()\n",
    "\n",
    "egresos_pt = egresos2.copy()\n",
    "# Calcular un peso aproximado, a partir de la mediana, para todos los valores de PESO mayores a 200\n",
    "egresos_pt['PESO'] = egresos_pt.groupby(['SEXO_M', 'EDAD'])['PESO'].apply(lambda x: x.mask(x > 200, calcular_mediana_por_grupo(x)))\n",
    "# Calcular una talla aproximada, a partir de la mediana, para todos los valores de TALLA mayores a 200\n",
    "egresos_pt['TALLA'] = egresos_pt.groupby(['SEXO_M', 'EDAD'])['TALLA'].apply(lambda x: x.mask(x > 200, calcular_mediana_por_grupo(x)))\n",
    "egresos_pt"
   ]
  },
  {
   "cell_type": "code",
   "execution_count": 34,
   "metadata": {
    "executionInfo": {
     "elapsed": 16,
     "status": "ok",
     "timestamp": 1689970916305,
     "user": {
      "displayName": "Lili Morones",
      "userId": "03662130427026750805"
     },
     "user_tz": 360
    },
    "id": "n38c5kogC-T5"
   },
   "outputs": [],
   "source": [
    "# Calcular el índice de masa corporal\n",
    "egresos2['IMC'] = egresos2['PESO']/(egresos2['TALLA']/100)**2\n",
    "egresos_pt['IMC'] = egresos_pt['PESO']/(egresos_pt['TALLA']/100)**2"
   ]
  },
  {
   "cell_type": "markdown",
   "metadata": {
    "id": "YqluHrFFZD3H"
   },
   "source": [
    "## Mutual Information"
   ]
  },
  {
   "cell_type": "code",
   "execution_count": 35,
   "metadata": {
    "executionInfo": {
     "elapsed": 202,
     "status": "ok",
     "timestamp": 1689970923425,
     "user": {
      "displayName": "Lili Morones",
      "userId": "03662130427026750805"
     },
     "user_tz": 360
    },
    "id": "EFpNHZgEmTMg"
   },
   "outputs": [],
   "source": [
    "# Eliminar valores nulos de egresos_pt\n",
    "egresos_pt.dropna(inplace = True)\n",
    "#Eliminar el ID\n",
    "egresos_pt.drop(['ID'], axis = 1, inplace = True)"
   ]
  },
  {
   "cell_type": "code",
   "execution_count": 36,
   "metadata": {
    "executionInfo": {
     "elapsed": 6,
     "status": "ok",
     "timestamp": 1689970923594,
     "user": {
      "displayName": "Lili Morones",
      "userId": "03662130427026750805"
     },
     "user_tz": 360
    },
    "id": "zR3WlaVBZgHq"
   },
   "outputs": [],
   "source": [
    "# Separar la variable objetivo\n",
    "X = egresos_pt.drop(['MOTEGRE'], axis = 1)\n",
    "y = egresos_pt['MOTEGRE']"
   ]
  },
  {
   "cell_type": "code",
   "execution_count": 37,
   "metadata": {
    "executionInfo": {
     "elapsed": 6,
     "status": "ok",
     "timestamp": 1689970923594,
     "user": {
      "displayName": "Lili Morones",
      "userId": "03662130427026750805"
     },
     "user_tz": 360
    },
    "id": "KYmjCAFVZHgY"
   },
   "outputs": [],
   "source": [
    "# Definir una función para evaluar la relación de las variables independientes con la variable objetivo\n",
    "def make_scores(X, y):\n",
    "    X = X.copy()\n",
    "    mi_scores = mutual_info_regression(X, y, random_state=42) # Calcular la dependencia de la variable objetivo con cada variable independiente\n",
    "    mi_scores = pd.Series(mi_scores, name=\"MI Scores\", index=X.columns) # Asignar el puntaje obtenido a cada variable y convertirlo a serie\n",
    "    mi_scores = mi_scores.sort_values(ascending=False) # Ordenar los puntajes de mayor a menor\n",
    "    return mi_scores\n",
    "\n",
    "# Definir una función para graficar las calificaciones\n",
    "def plot_scores(scores):\n",
    "    scores = scores.sort_values(ascending=True) # Se ordenan de mayor a menor calificación\n",
    "    width = np.arange(len(scores)) # El ancho de la gráfica es equivalente al número de calificaciones obtenidas\n",
    "    ticks = list(scores.index) #Lista de las columnas\n",
    "    plt.barh(width, scores) # Se grafican barras horizontales (en x = width, y = scores)\n",
    "    plt.yticks(width, ticks) # Se grafica en x = width, y = ticks\n",
    "    plt.title(\"Mutual Information Scores\")"
   ]
  },
  {
   "cell_type": "code",
   "execution_count": 38,
   "metadata": {
    "colab": {
     "base_uri": "https://localhost:8080/",
     "height": 0
    },
    "executionInfo": {
     "elapsed": 127055,
     "status": "ok",
     "timestamp": 1689971050644,
     "user": {
      "displayName": "Lili Morones",
      "userId": "03662130427026750805"
     },
     "user_tz": 360
    },
    "id": "PXRO1rIxa6dd",
    "outputId": "a389367c-629a-4495-8c53-59073a5d2734"
   },
   "outputs": [
    {
     "data": {
      "image/png": "[encoded data removed]",
      "text/plain": [
       "<Figure size 1500x1200 with 1 Axes>"
      ]
     },
     "metadata": {},
     "output_type": "display_data"
    }
   ],
   "source": [
    "scores = make_scores(X, y)\n",
    "plt.figure(figsize=(15,12))\n",
    "plot_scores(scores)"
   ]
  },
  {
   "cell_type": "code",
   "execution_count": 39,
   "metadata": {
    "executionInfo": {
     "elapsed": 12,
     "status": "ok",
     "timestamp": 1689971050645,
     "user": {
      "displayName": "Lili Morones",
      "userId": "03662130427026750805"
     },
     "user_tz": 360
    },
    "id": "l78ZIPfTJPX_"
   },
   "outputs": [],
   "source": [
    "egresos_pt.drop(['CAT_DIASESTA', 'CAT_EDAD'], axis = 1, inplace = True)\n",
    "X = egresos_pt.drop(['DIAS_ESTA'], axis = 1)\n",
    "y = egresos_pt['DIAS_ESTA']"
   ]
  },
  {
   "cell_type": "code",
   "execution_count": 40,
   "metadata": {
    "colab": {
     "base_uri": "https://localhost:8080/",
     "height": 0
    },
    "executionInfo": {
     "elapsed": 117738,
     "status": "ok",
     "timestamp": 1689971168372,
     "user": {
      "displayName": "Lili Morones",
      "userId": "03662130427026750805"
     },
     "user_tz": 360
    },
    "id": "h1K3MSuCJboN",
    "outputId": "05270f50-77b4-4100-9f5d-a916a197326b"
   },
   "outputs": [
    {
     "data": {
      "image/png": "[encoded data removed]",
      "text/plain": [
       "<Figure size 1500x1200 with 1 Axes>"
      ]
     },
     "metadata": {},
     "output_type": "display_data"
    }
   ],
   "source": [
    "scores = make_scores(X, y)\n",
    "plt.figure(figsize=(15,12))\n",
    "plot_scores(scores)"
   ]
  },
  {
   "cell_type": "markdown",
   "metadata": {
    "id": "BhWPkr_DsGsX"
   },
   "source": [
    "## Predecir motivo de egreso"
   ]
  },
  {
   "cell_type": "code",
   "execution_count": 41,
   "metadata": {
    "colab": {
     "base_uri": "https://localhost:8080/"
    },
    "executionInfo": {
     "elapsed": 243,
     "status": "ok",
     "timestamp": 1689971213221,
     "user": {
      "displayName": "Lili Morones",
      "userId": "03662130427026750805"
     },
     "user_tz": 360
    },
    "id": "_wYqT3j4u3jq",
    "outputId": "0871adc2-2538-4a52-badf-90b037e246eb"
   },
   "outputs": [
    {
     "name": "stdout",
     "output_type": "stream",
     "text": [
      "CURACION: 0\n",
      "DEFUNCION: 1\n",
      "FUGA: 2\n",
      "MEJORIA: 3\n",
      "OTRO: 4\n",
      "TRASLADO: 5\n",
      "VOLUNTARIO: 6\n"
     ]
    }
   ],
   "source": [
    "num_etiquetas('MOTEGRE', etiquetas)"
   ]
  },
  {
   "cell_type": "code",
   "execution_count": null,
   "metadata": {
    "colab": {
     "base_uri": "https://localhost:8080/"
    },
    "executionInfo": {
     "elapsed": 471,
     "status": "ok",
     "timestamp": 1689269551866,
     "user": {
      "displayName": "Lili Morones",
      "userId": "03662130427026750805"
     },
     "user_tz": 360
    },
    "id": "28vyWCbId-Cp",
    "outputId": "b7e133a9-0d2d-4b2d-8e4c-6bd69263d003"
   },
   "outputs": [
    {
     "data": {
      "text/plain": [
       "34"
      ]
     },
     "execution_count": 90,
     "metadata": {},
     "output_type": "execute_result"
    }
   ],
   "source": [
    "len(egresos2.columns)"
   ]
  },
  {
   "cell_type": "code",
   "execution_count": 42,
   "metadata": {
    "executionInfo": {
     "elapsed": 214,
     "status": "ok",
     "timestamp": 1689971221490,
     "user": {
      "displayName": "Lili Morones",
      "userId": "03662130427026750805"
     },
     "user_tz": 360
    },
    "id": "Pvbp7yXOw9hQ"
   },
   "outputs": [],
   "source": [
    "#Egresos2 tiene todas las variables codificadas\n",
    "#Egresos_pt tiene las variables de peso y talla imputadas, sin ID, CAT_EDAD, CAT_DIASESTA, con IMC\n",
    "#Egresos3 no tiene variables de peso, talla, id\n",
    "egresos3 = egresos2.drop(['ID', 'PESO', 'TALLA', 'IMC', 'EGRESO_ANIO', 'EGRESO_MES', 'EGRESO_DIA'], axis = 1)\n",
    "#Egresos4 tiene solo las variables disponibles al ingreso del paciente\n",
    "variables = ['CLUES', 'DIAS_ESTA', 'EDAD', 'DERHAB', 'MUNIC',\n",
    "       'PROCED', 'DIAG_INI', 'AFECPRIN', 'MOTEGRE', 'NUMPROMED',\n",
    "       'NUMAFEC', 'MAL_DIAG', 'ANEST_GRAL',\n",
    "       'QUIRURGICO', 'SEXO_M', 'VEZ_SUBSECUENTE',\n",
    "       'TIPSERV_NORMAL', 'INFEC_SI', 'DIABETES_SI', 'HIPERTENSION_SI',\n",
    "       'OBESIDAD_SI']\n",
    "variables_entrada = ['CLUES', 'EDAD', 'DERHAB', 'MUNIC',\n",
    "       'PROCED', 'DIAG_INI', 'MOTEGRE', 'NUMAFEC', 'INGRE_DIA', 'INGRE_MES', 'INGRE_ANIO',\n",
    "       'SEXO_M', 'VEZ_SUBSECUENTE', 'TIPSERV_NORMAL', 'DIABETES_SI', 'HIPERTENSION_SI',\n",
    "       'OBESIDAD_SI']\n",
    "variables_mi = ['PROCED', 'DIAG_INI', 'AFECPRIN', 'VEZ_SUBSECUENTE', 'NUMAFEC', 'MOTEGRE']\n",
    "variables_num = ['EDAD', 'DIAS_ESTA', 'NUMAFEC', 'NUMPROMED', 'PESO', 'TALLA', 'IMC', 'MOTEGRE']"
   ]
  },
  {
   "cell_type": "code",
   "execution_count": null,
   "metadata": {
    "id": "_JYpAaAVPyj0"
   },
   "outputs": [],
   "source": [
    "#Dataset solo con pacientes con neumonía #642\n",
    "#Dataset solo con enfermos renales #293\n",
    "#df = egresos2[(egresos2['PESO']!=999) & (egresos2['TALLA']!=999)] #--> peso y talla originales\n",
    "#df.drop(['ID'], axis = 1, inplace = True)\n",
    "#Pacientes dentro del top10 de enfermedades más comunes\n",
    "#diagnosticos_comunes = egresos4['DIAG_INI'].value_counts().nlargest(10).index.tolist()\n",
    "#df = egresos4[egresos4['DIAG_INI'].isin(diagnosticos_comunes)]\n",
    "df = egresos3.copy()\n",
    "#df = df[variables_entrada]\n",
    "#df = df[variables_mi]\n",
    "#df['MOTEGRE'] = df['MOTEGRE'].replace({2:4, 3:2, 4:3, 5:4, 6:5})\n",
    "#df['MOTEGRE'] = df['MOTEGRE'].replace({4:2, 6:2, 5:4})\n",
    "#df['MOTEGRE'] = df['MOTEGRE'].replace({4:2, 5:2, 6:2})\n",
    "df['MOTEGRE'] = df['MOTEGRE'].replace({2:0, 3:0, 4:0, 5:0, 6:0})\n",
    "df = balancear_muestras(df, 'MOTEGRE')"
   ]
  },
  {
   "cell_type": "code",
   "execution_count": 43,
   "metadata": {
    "executionInfo": {
     "elapsed": 234,
     "status": "ok",
     "timestamp": 1689971225502,
     "user": {
      "displayName": "Lili Morones",
      "userId": "03662130427026750805"
     },
     "user_tz": 360
    },
    "id": "eaL_2g4MX_dW"
   },
   "outputs": [],
   "source": [
    "df = egresos3.copy()\n",
    "df = df[variables]\n",
    "#df = df[df['DIAS_ESTA']<=30]\n",
    "df['MOTEGRE'] = df['MOTEGRE'].replace({2:0, 3:0, 4:0, 5:0, 6:0})\n",
    "df = balancear_muestras(df, 'MOTEGRE')"
   ]
  },
  {
   "cell_type": "code",
   "execution_count": null,
   "metadata": {
    "id": "twXus43zwzyD"
   },
   "outputs": [],
   "source": [
    "df = egresos3.copy()\n",
    "df = df[variables]\n",
    "df = df[df['DIAS_ESTA']<=30]\n",
    "df = df[df['NUMAFEC']<=10]\n",
    "df = df[df['NUMPROMED']<=10]\n",
    "df = df[df['EDAD']<=100]\n",
    "df['MOTEGRE'] = df['MOTEGRE'].replace({2:0, 3:0, 4:0, 5:0, 6:0})\n",
    "df = balancear_muestras(df, 'MOTEGRE')"
   ]
  },
  {
   "cell_type": "markdown",
   "metadata": {
    "id": "qlki6RInbqis"
   },
   "source": [
    "### Random Forest"
   ]
  },
  {
   "cell_type": "code",
   "execution_count": null,
   "metadata": {
    "id": "4n8Tz5_IYTuN"
   },
   "outputs": [],
   "source": [
    "X = df5.drop(['MOTEGRE'], axis = 1)\n",
    "#X = normalizar(X)\n",
    "y = df5['MOTEGRE']"
   ]
  },
  {
   "cell_type": "code",
   "execution_count": null,
   "metadata": {
    "colab": {
     "base_uri": "https://localhost:8080/"
    },
    "executionInfo": {
     "elapsed": 211198,
     "status": "ok",
     "timestamp": 1689190569394,
     "user": {
      "displayName": "Lili Morones",
      "userId": "03662130427026750805"
     },
     "user_tz": 360
    },
    "id": "cZAMfhDX4ToS",
    "outputId": "590ecd94-8a69-430f-d2ec-534a64148d10"
   },
   "outputs": [
    {
     "name": "stdout",
     "output_type": "stream",
     "text": [
      "Mejores parámetros:\n",
      " {'max_depth': 7, 'n_estimators': 1000}\n",
      "Mejor score: \n",
      " 0.8847936187844565\n"
     ]
    }
   ],
   "source": [
    "modelo = RandomForestClassifier()\n",
    "mejores_parametros(modelo, rf_grid, X,y)"
   ]
  },
  {
   "cell_type": "code",
   "execution_count": null,
   "metadata": {
    "id": "k4bC7Lfpr1ru"
   },
   "outputs": [],
   "source": [
    "# Crear un diccionario con los parámetros del modelo\n",
    "parametros_rf = {\n",
    "    'n_estimators': 100, # Número de árboles (100 a 1000)\n",
    "    'criterion': 'gini', # Medida de calidad en cada nodo de un árbol\n",
    "    'max_depth': 7, # Profundidad máxima de un árbol (3 a 10)\n",
    "    'min_samples_split': 2, # Num mínimo de muestras requeridas para dividir un nodo (2 a 10)\n",
    "    'min_samples_leaf': 1, # Num mínimo de muestras en un nodo terminal (1 a 5)\n",
    "    'max_features': 'auto', # Num máximo de características consideradas en cada división\n",
    "    'random_state' : 42,\n",
    "    #'class_weight': pesos\n",
    "}\n",
    "\n",
    "# Crear el modelo RandomForestClassifier con los parámetros del diccionario\n",
    "modelo = RandomForestClassifier(**parametros_rf)\n"
   ]
  },
  {
   "cell_type": "code",
   "execution_count": null,
   "metadata": {
    "colab": {
     "base_uri": "https://localhost:8080/"
    },
    "executionInfo": {
     "elapsed": 228849,
     "status": "ok",
     "timestamp": 1688865467894,
     "user": {
      "displayName": "Lili Morones",
      "userId": "03662130427026750805"
     },
     "user_tz": 360
    },
    "id": "Jj73Mart_wB9",
    "outputId": "6b2909c9-a92b-45c4-b307-8fc4bae2050f"
   },
   "outputs": [
    {
     "name": "stderr",
     "output_type": "stream",
     "text": [
      "<ipython-input-15-cfbc4e4fd7d7>:12: DataConversionWarning: A column-vector y was passed when a 1d array was expected. Please change the shape of y to (n_samples,), for example using ravel().\n",
      "  modelo.fit(X_train, y_train)\n",
      "/usr/local/lib/python3.10/dist-packages/sklearn/ensemble/_forest.py:424: FutureWarning: `max_features='auto'` has been deprecated in 1.1 and will be removed in 1.3. To keep the past behaviour, explicitly set `max_features='sqrt'` or remove this parameter as it is also the default value for RandomForestClassifiers and ExtraTreesClassifiers.\n",
      "  warn(\n"
     ]
    },
    {
     "name": "stdout",
     "output_type": "stream",
     "text": [
      "Exactitud: 94.19877852579623% \n",
      "\n",
      "Matriz de confusión \n",
      ": [[    0     0     0   233     2     0     0]\n",
      " [    0     2     0  1672     0     0     0]\n",
      " [    0     0     0    19     0     0     0]\n",
      " [    0     0     0 57513    65     0     0]\n",
      " [    0     0     0   771  2792     0     0]\n",
      " [    0     0     0   621     0     0     0]\n",
      " [    0     0     0   331     0     0     0]] \n",
      "\n",
      "Reporte de clasificación \n",
      ":               precision    recall  f1-score   support\n",
      "\n",
      "           0       0.00      0.00      0.00       235\n",
      "           1       1.00      0.00      0.00      1674\n",
      "           2       0.00      0.00      0.00        19\n",
      "           3       0.94      1.00      0.97     57578\n",
      "           4       0.98      0.78      0.87      3563\n",
      "           5       0.00      0.00      0.00       621\n",
      "           6       0.00      0.00      0.00       331\n",
      "\n",
      "    accuracy                           0.94     64021\n",
      "   macro avg       0.42      0.25      0.26     64021\n",
      "weighted avg       0.93      0.94      0.92     64021\n",
      "\n"
     ]
    },
    {
     "name": "stderr",
     "output_type": "stream",
     "text": [
      "/usr/local/lib/python3.10/dist-packages/sklearn/metrics/_classification.py:1344: UndefinedMetricWarning: Precision and F-score are ill-defined and being set to 0.0 in labels with no predicted samples. Use `zero_division` parameter to control this behavior.\n",
      "  _warn_prf(average, modifier, msg_start, len(result))\n",
      "/usr/local/lib/python3.10/dist-packages/sklearn/metrics/_classification.py:1344: UndefinedMetricWarning: Precision and F-score are ill-defined and being set to 0.0 in labels with no predicted samples. Use `zero_division` parameter to control this behavior.\n",
      "  _warn_prf(average, modifier, msg_start, len(result))\n",
      "/usr/local/lib/python3.10/dist-packages/sklearn/metrics/_classification.py:1344: UndefinedMetricWarning: Precision and F-score are ill-defined and being set to 0.0 in labels with no predicted samples. Use `zero_division` parameter to control this behavior.\n",
      "  _warn_prf(average, modifier, msg_start, len(result))\n"
     ]
    }
   ],
   "source": [
    "# Egresos 3 (original sin peso, talla, IMC) n_estimators: 1000, max_depth: 7\n",
    "modelo_clas(df, 'MOTEGRE', modelo)"
   ]
  },
  {
   "cell_type": "code",
   "execution_count": null,
   "metadata": {
    "colab": {
     "base_uri": "https://localhost:8080/"
    },
    "executionInfo": {
     "elapsed": 6823,
     "status": "ok",
     "timestamp": 1688865741898,
     "user": {
      "displayName": "Lili Morones",
      "userId": "03662130427026750805"
     },
     "user_tz": 360
    },
    "id": "w1ZwxKntq5Sn",
    "outputId": "f0a63f05-666a-4c16-9419-b7339a91081e"
   },
   "outputs": [
    {
     "name": "stderr",
     "output_type": "stream",
     "text": [
      "<ipython-input-15-cfbc4e4fd7d7>:12: DataConversionWarning: A column-vector y was passed when a 1d array was expected. Please change the shape of y to (n_samples,), for example using ravel().\n",
      "  modelo.fit(X_train, y_train)\n",
      "/usr/local/lib/python3.10/dist-packages/sklearn/ensemble/_forest.py:424: FutureWarning: `max_features='auto'` has been deprecated in 1.1 and will be removed in 1.3. To keep the past behaviour, explicitly set `max_features='sqrt'` or remove this parameter as it is also the default value for RandomForestClassifiers and ExtraTreesClassifiers.\n",
      "  warn(\n"
     ]
    },
    {
     "name": "stdout",
     "output_type": "stream",
     "text": [
      "Exactitud: 63.54609929078015% \n",
      "\n",
      "Matriz de confusión \n",
      ": [[151  11  32   8  10  13]\n",
      " [  4 191   2   0  23  23]\n",
      " [ 51  12 119   8  24  15]\n",
      " [  5   6   5 226   4   2]\n",
      " [  8  46  15   0 117  39]\n",
      " [ 16  59  19   5  49  92]] \n",
      "\n",
      "Reporte de clasificación \n",
      ":               precision    recall  f1-score   support\n",
      "\n",
      "           0       0.64      0.67      0.66       225\n",
      "           1       0.59      0.79      0.67       243\n",
      "           2       0.62      0.52      0.57       229\n",
      "           3       0.91      0.91      0.91       248\n",
      "           4       0.52      0.52      0.52       225\n",
      "           5       0.50      0.38      0.43       240\n",
      "\n",
      "    accuracy                           0.64      1410\n",
      "   macro avg       0.63      0.63      0.63      1410\n",
      "weighted avg       0.63      0.64      0.63      1410\n",
      "\n"
     ]
    }
   ],
   "source": [
    "# Egresos 3 (integrando la categoría fuga a 'otro'), n_estimators: 1000, max_depth: 7\n",
    "modelo_clas(df, 'MOTEGRE', modelo)"
   ]
  },
  {
   "cell_type": "code",
   "execution_count": null,
   "metadata": {
    "colab": {
     "base_uri": "https://localhost:8080/"
    },
    "executionInfo": {
     "elapsed": 2317,
     "status": "ok",
     "timestamp": 1688866486377,
     "user": {
      "displayName": "Lili Morones",
      "userId": "03662130427026750805"
     },
     "user_tz": 360
    },
    "id": "msYWN8pNCBSV",
    "outputId": "7574525a-791b-43df-b0e7-3720ed1cbfec"
   },
   "outputs": [
    {
     "name": "stderr",
     "output_type": "stream",
     "text": [
      "<ipython-input-15-cfbc4e4fd7d7>:12: DataConversionWarning: A column-vector y was passed when a 1d array was expected. Please change the shape of y to (n_samples,), for example using ravel().\n",
      "  modelo.fit(X_train, y_train)\n",
      "/usr/local/lib/python3.10/dist-packages/sklearn/ensemble/_forest.py:424: FutureWarning: `max_features='auto'` has been deprecated in 1.1 and will be removed in 1.3. To keep the past behaviour, explicitly set `max_features='sqrt'` or remove this parameter as it is also the default value for RandomForestClassifiers and ExtraTreesClassifiers.\n",
      "  warn(\n"
     ]
    },
    {
     "name": "stdout",
     "output_type": "stream",
     "text": [
      "Exactitud: 70.12765957446808% \n",
      "\n",
      "Matriz de confusión \n",
      ": [[166  18   3  27  15]\n",
      " [  6 178   0   2  29]\n",
      " [  8  13 203   7  10]\n",
      " [ 50  19   5 125  40]\n",
      " [  9  74   0  16 152]] \n",
      "\n",
      "Reporte de clasificación \n",
      ":               precision    recall  f1-score   support\n",
      "\n",
      "           0       0.69      0.72      0.71       229\n",
      "           1       0.59      0.83      0.69       215\n",
      "           2       0.96      0.84      0.90       241\n",
      "           3       0.71      0.52      0.60       239\n",
      "           4       0.62      0.61      0.61       251\n",
      "\n",
      "    accuracy                           0.70      1175\n",
      "   macro avg       0.71      0.70      0.70      1175\n",
      "weighted avg       0.72      0.70      0.70      1175\n",
      "\n"
     ]
    }
   ],
   "source": [
    "# Egresos3 (integrando la categoría fuga y voluntario a 'otro'), n_estimators: 300, max_depth: 7\n",
    "modelo_clas(df, 'MOTEGRE', modelo)"
   ]
  },
  {
   "cell_type": "code",
   "execution_count": null,
   "metadata": {
    "colab": {
     "base_uri": "https://localhost:8080/"
    },
    "executionInfo": {
     "elapsed": 2092,
     "status": "ok",
     "timestamp": 1688866802784,
     "user": {
      "displayName": "Lili Morones",
      "userId": "03662130427026750805"
     },
     "user_tz": 360
    },
    "id": "HOFU7GDLEa81",
    "outputId": "0b217883-bd67-4f12-ecdd-b9ded03b7593"
   },
   "outputs": [
    {
     "name": "stderr",
     "output_type": "stream",
     "text": [
      "<ipython-input-15-cfbc4e4fd7d7>:12: DataConversionWarning: A column-vector y was passed when a 1d array was expected. Please change the shape of y to (n_samples,), for example using ravel().\n",
      "  modelo.fit(X_train, y_train)\n",
      "/usr/local/lib/python3.10/dist-packages/sklearn/ensemble/_forest.py:424: FutureWarning: `max_features='auto'` has been deprecated in 1.1 and will be removed in 1.3. To keep the past behaviour, explicitly set `max_features='sqrt'` or remove this parameter as it is also the default value for RandomForestClassifiers and ExtraTreesClassifiers.\n",
      "  warn(\n"
     ]
    },
    {
     "name": "stdout",
     "output_type": "stream",
     "text": [
      "Exactitud: 72.3404255319149% \n",
      "\n",
      "Matriz de confusión \n",
      ": [[170  21   0  60]\n",
      " [  8 211   1  14]\n",
      " [ 10  33 152  25]\n",
      " [ 51  32   5 147]] \n",
      "\n",
      "Reporte de clasificación \n",
      ":               precision    recall  f1-score   support\n",
      "\n",
      "           0       0.71      0.68      0.69       251\n",
      "           1       0.71      0.90      0.79       234\n",
      "           2       0.96      0.69      0.80       220\n",
      "           3       0.60      0.63      0.61       235\n",
      "\n",
      "    accuracy                           0.72       940\n",
      "   macro avg       0.75      0.72      0.73       940\n",
      "weighted avg       0.74      0.72      0.72       940\n",
      "\n"
     ]
    }
   ],
   "source": [
    "# Egresos3 (integrando la categoría fuga, voluntario y traslado a 'otro'), n_estimators: 150, max_depth: 7\n",
    "modelo_clas(df, 'MOTEGRE', modelo)"
   ]
  },
  {
   "cell_type": "code",
   "execution_count": null,
   "metadata": {
    "colab": {
     "base_uri": "https://localhost:8080/"
    },
    "executionInfo": {
     "elapsed": 5318,
     "status": "ok",
     "timestamp": 1688867158275,
     "user": {
      "displayName": "Lili Morones",
      "userId": "03662130427026750805"
     },
     "user_tz": 360
    },
    "id": "QlNdzMHEEyQ7",
    "outputId": "e926c0a2-f750-4d55-ac9c-335fa413d16e"
   },
   "outputs": [
    {
     "name": "stderr",
     "output_type": "stream",
     "text": [
      "<ipython-input-15-cfbc4e4fd7d7>:12: DataConversionWarning: A column-vector y was passed when a 1d array was expected. Please change the shape of y to (n_samples,), for example using ravel().\n",
      "  modelo.fit(X_train, y_train)\n",
      "/usr/local/lib/python3.10/dist-packages/sklearn/ensemble/_forest.py:424: FutureWarning: `max_features='auto'` has been deprecated in 1.1 and will be removed in 1.3. To keep the past behaviour, explicitly set `max_features='sqrt'` or remove this parameter as it is also the default value for RandomForestClassifiers and ExtraTreesClassifiers.\n",
      "  warn(\n"
     ]
    },
    {
     "name": "stdout",
     "output_type": "stream",
     "text": [
      "Exactitud: 89.30246189917936% \n",
      "\n",
      "Matriz de confusión \n",
      ": [[1476  247]\n",
      " [ 118 1571]] \n",
      "\n",
      "Reporte de clasificación \n",
      ":               precision    recall  f1-score   support\n",
      "\n",
      "           0       0.93      0.86      0.89      1723\n",
      "           1       0.86      0.93      0.90      1689\n",
      "\n",
      "    accuracy                           0.89      3412\n",
      "   macro avg       0.90      0.89      0.89      3412\n",
      "weighted avg       0.90      0.89      0.89      3412\n",
      "\n"
     ]
    }
   ],
   "source": [
    "# Egresos3 (predecir solo defuncion o no), n_estimators: 150, max_depth: 7\n",
    "modelo_clas(df, 'MOTEGRE', modelo)"
   ]
  },
  {
   "cell_type": "code",
   "execution_count": null,
   "metadata": {
    "colab": {
     "base_uri": "https://localhost:8080/"
    },
    "executionInfo": {
     "elapsed": 2609,
     "status": "ok",
     "timestamp": 1688867914035,
     "user": {
      "displayName": "Lili Morones",
      "userId": "03662130427026750805"
     },
     "user_tz": 360
    },
    "id": "G2us2iiJGzr7",
    "outputId": "ef2f3c30-fcc7-4d47-de72-8d1a499a5f4f"
   },
   "outputs": [
    {
     "name": "stderr",
     "output_type": "stream",
     "text": [
      "<ipython-input-15-cfbc4e4fd7d7>:12: DataConversionWarning: A column-vector y was passed when a 1d array was expected. Please change the shape of y to (n_samples,), for example using ravel().\n",
      "  modelo.fit(X_train, y_train)\n",
      "/usr/local/lib/python3.10/dist-packages/sklearn/ensemble/_forest.py:424: FutureWarning: `max_features='auto'` has been deprecated in 1.1 and will be removed in 1.3. To keep the past behaviour, explicitly set `max_features='sqrt'` or remove this parameter as it is also the default value for RandomForestClassifiers and ExtraTreesClassifiers.\n",
      "  warn(\n"
     ]
    },
    {
     "name": "stdout",
     "output_type": "stream",
     "text": [
      "Exactitud: 85.39518900343643% \n",
      "\n",
      "Matriz de confusión \n",
      ": [[247  50]\n",
      " [ 35 250]] \n",
      "\n",
      "Reporte de clasificación \n",
      ":               precision    recall  f1-score   support\n",
      "\n",
      "           0       0.88      0.83      0.85       297\n",
      "           1       0.83      0.88      0.85       285\n",
      "\n",
      "    accuracy                           0.85       582\n",
      "   macro avg       0.85      0.85      0.85       582\n",
      "weighted avg       0.86      0.85      0.85       582\n",
      "\n"
     ]
    }
   ],
   "source": [
    "# Egresos2 usando solo valores disponibles de peso y talla (predecir solo defuncion o no), n_estimators: 150, max_depth: 7\n",
    "modelo_clas(df, 'MOTEGRE', modelo)"
   ]
  },
  {
   "cell_type": "code",
   "execution_count": null,
   "metadata": {
    "colab": {
     "base_uri": "https://localhost:8080/"
    },
    "executionInfo": {
     "elapsed": 17441,
     "status": "ok",
     "timestamp": 1688864416881,
     "user": {
      "displayName": "Lili Morones",
      "userId": "03662130427026750805"
     },
     "user_tz": 360
    },
    "id": "rfD6Kay4IU2o",
    "outputId": "e13c7609-137c-416d-a164-d5de1eb5774e"
   },
   "outputs": [
    {
     "name": "stderr",
     "output_type": "stream",
     "text": [
      "<ipython-input-15-cfbc4e4fd7d7>:12: DataConversionWarning: A column-vector y was passed when a 1d array was expected. Please change the shape of y to (n_samples,), for example using ravel().\n",
      "  modelo.fit(X_train, y_train)\n",
      "/usr/local/lib/python3.10/dist-packages/sklearn/ensemble/_forest.py:424: FutureWarning: `max_features='auto'` has been deprecated in 1.1 and will be removed in 1.3. To keep the past behaviour, explicitly set `max_features='sqrt'` or remove this parameter as it is also the default value for RandomForestClassifiers and ExtraTreesClassifiers.\n",
      "  warn(\n"
     ]
    },
    {
     "name": "stdout",
     "output_type": "stream",
     "text": [
      "Exactitud: 89.0909090909091% \n",
      "\n",
      "Matriz de confusión \n",
      ": [[1436  243]\n",
      " [ 129 1602]] \n",
      "\n",
      "Reporte de clasificación \n",
      ":               precision    recall  f1-score   support\n",
      "\n",
      "           0       0.92      0.86      0.89      1679\n",
      "           1       0.87      0.93      0.90      1731\n",
      "\n",
      "    accuracy                           0.89      3410\n",
      "   macro avg       0.89      0.89      0.89      3410\n",
      "weighted avg       0.89      0.89      0.89      3410\n",
      "\n"
     ]
    }
   ],
   "source": [
    "# Egresos_pt (predecir solo defuncion o no), n_estimators: 1000, max_depth: 7\n",
    "modelo_clas(df, 'MOTEGRE', modelo)"
   ]
  },
  {
   "cell_type": "code",
   "execution_count": null,
   "metadata": {
    "colab": {
     "base_uri": "https://localhost:8080/"
    },
    "executionInfo": {
     "elapsed": 12311,
     "status": "ok",
     "timestamp": 1688868367622,
     "user": {
      "displayName": "Lili Morones",
      "userId": "03662130427026750805"
     },
     "user_tz": 360
    },
    "id": "uPBEb9gMKivM",
    "outputId": "ac63371c-b44a-4783-f95d-d231cf4c5526"
   },
   "outputs": [
    {
     "name": "stderr",
     "output_type": "stream",
     "text": [
      "<ipython-input-15-cfbc4e4fd7d7>:12: DataConversionWarning: A column-vector y was passed when a 1d array was expected. Please change the shape of y to (n_samples,), for example using ravel().\n",
      "  modelo.fit(X_train, y_train)\n",
      "/usr/local/lib/python3.10/dist-packages/sklearn/ensemble/_forest.py:424: FutureWarning: `max_features='auto'` has been deprecated in 1.1 and will be removed in 1.3. To keep the past behaviour, explicitly set `max_features='sqrt'` or remove this parameter as it is also the default value for RandomForestClassifiers and ExtraTreesClassifiers.\n",
      "  warn(\n"
     ]
    },
    {
     "name": "stdout",
     "output_type": "stream",
     "text": [
      "Exactitud: 89.38926588525602% \n",
      "\n",
      "Matriz de confusión \n",
      ": [[1400  217]\n",
      " [ 127 1498]] \n",
      "\n",
      "Reporte de clasificación \n",
      ":               precision    recall  f1-score   support\n",
      "\n",
      "           0       0.92      0.87      0.89      1617\n",
      "           1       0.87      0.92      0.90      1625\n",
      "\n",
      "    accuracy                           0.89      3242\n",
      "   macro avg       0.90      0.89      0.89      3242\n",
      "weighted avg       0.90      0.89      0.89      3242\n",
      "\n"
     ]
    }
   ],
   "source": [
    "#Egresos3 con días de estancia máximo 30 días, n_estimators: 1000, max_depth: 7\n",
    "modelo_clas(df, 'MOTEGRE', modelo)"
   ]
  },
  {
   "cell_type": "code",
   "execution_count": null,
   "metadata": {
    "colab": {
     "base_uri": "https://localhost:8080/"
    },
    "executionInfo": {
     "elapsed": 4363,
     "status": "ok",
     "timestamp": 1688868777309,
     "user": {
      "displayName": "Lili Morones",
      "userId": "03662130427026750805"
     },
     "user_tz": 360
    },
    "id": "V5DVBaRCZuhs",
    "outputId": "4b0e2c20-1cbe-4e3c-864c-d1517cd1a5ca"
   },
   "outputs": [
    {
     "name": "stderr",
     "output_type": "stream",
     "text": [
      "<ipython-input-15-cfbc4e4fd7d7>:12: DataConversionWarning: A column-vector y was passed when a 1d array was expected. Please change the shape of y to (n_samples,), for example using ravel().\n",
      "  modelo.fit(X_train, y_train)\n",
      "/usr/local/lib/python3.10/dist-packages/sklearn/ensemble/_forest.py:424: FutureWarning: `max_features='auto'` has been deprecated in 1.1 and will be removed in 1.3. To keep the past behaviour, explicitly set `max_features='sqrt'` or remove this parameter as it is also the default value for RandomForestClassifiers and ExtraTreesClassifiers.\n",
      "  warn(\n"
     ]
    },
    {
     "name": "stdout",
     "output_type": "stream",
     "text": [
      "Exactitud: 88.21805392731535% \n",
      "\n",
      "Matriz de confusión \n",
      ": [[1471  252]\n",
      " [ 150 1539]] \n",
      "\n",
      "Reporte de clasificación \n",
      ":               precision    recall  f1-score   support\n",
      "\n",
      "           0       0.91      0.85      0.88      1723\n",
      "           1       0.86      0.91      0.88      1689\n",
      "\n",
      "    accuracy                           0.88      3412\n",
      "   macro avg       0.88      0.88      0.88      3412\n",
      "weighted avg       0.88      0.88      0.88      3412\n",
      "\n"
     ]
    }
   ],
   "source": [
    "#Egresos3 con variables de entrada, n_estimators: 1000, max_depth: 7\n",
    "modelo_clas(df, 'MOTEGRE', modelo)"
   ]
  },
  {
   "cell_type": "code",
   "execution_count": null,
   "metadata": {
    "colab": {
     "base_uri": "https://localhost:8080/"
    },
    "executionInfo": {
     "elapsed": 9076,
     "status": "ok",
     "timestamp": 1688869051492,
     "user": {
      "displayName": "Lili Morones",
      "userId": "03662130427026750805"
     },
     "user_tz": 360
    },
    "id": "JSpK_22raGWg",
    "outputId": "e846642a-a6bb-4a94-c120-895616315cc8"
   },
   "outputs": [
    {
     "name": "stderr",
     "output_type": "stream",
     "text": [
      "<ipython-input-15-cfbc4e4fd7d7>:12: DataConversionWarning: A column-vector y was passed when a 1d array was expected. Please change the shape of y to (n_samples,), for example using ravel().\n",
      "  modelo.fit(X_train, y_train)\n",
      "/usr/local/lib/python3.10/dist-packages/sklearn/ensemble/_forest.py:424: FutureWarning: `max_features='auto'` has been deprecated in 1.1 and will be removed in 1.3. To keep the past behaviour, explicitly set `max_features='sqrt'` or remove this parameter as it is also the default value for RandomForestClassifiers and ExtraTreesClassifiers.\n",
      "  warn(\n"
     ]
    },
    {
     "name": "stdout",
     "output_type": "stream",
     "text": [
      "Exactitud: 86.89917936694022% \n",
      "\n",
      "Matriz de confusión \n",
      ": [[1465  258]\n",
      " [ 189 1500]] \n",
      "\n",
      "Reporte de clasificación \n",
      ":               precision    recall  f1-score   support\n",
      "\n",
      "           0       0.89      0.85      0.87      1723\n",
      "           1       0.85      0.89      0.87      1689\n",
      "\n",
      "    accuracy                           0.87      3412\n",
      "   macro avg       0.87      0.87      0.87      3412\n",
      "weighted avg       0.87      0.87      0.87      3412\n",
      "\n"
     ]
    }
   ],
   "source": [
    "#Egresos3 con variables de mutual information, n_estimators: 1000, max_depth: 7\n",
    "modelo_clas(df, 'MOTEGRE', modelo)"
   ]
  },
  {
   "cell_type": "code",
   "execution_count": null,
   "metadata": {
    "colab": {
     "base_uri": "https://localhost:8080/"
    },
    "executionInfo": {
     "elapsed": 1081,
     "status": "ok",
     "timestamp": 1688869464509,
     "user": {
      "displayName": "Lili Morones",
      "userId": "03662130427026750805"
     },
     "user_tz": 360
    },
    "id": "M8ZtsWytcN01",
    "outputId": "85c4f2d3-e677-4ef2-f2a5-057d1618a33b"
   },
   "outputs": [
    {
     "name": "stderr",
     "output_type": "stream",
     "text": [
      "<ipython-input-15-cfbc4e4fd7d7>:12: DataConversionWarning: A column-vector y was passed when a 1d array was expected. Please change the shape of y to (n_samples,), for example using ravel().\n",
      "  modelo.fit(X_train, y_train)\n",
      "/usr/local/lib/python3.10/dist-packages/sklearn/ensemble/_forest.py:424: FutureWarning: `max_features='auto'` has been deprecated in 1.1 and will be removed in 1.3. To keep the past behaviour, explicitly set `max_features='sqrt'` or remove this parameter as it is also the default value for RandomForestClassifiers and ExtraTreesClassifiers.\n",
      "  warn(\n"
     ]
    },
    {
     "name": "stdout",
     "output_type": "stream",
     "text": [
      "Exactitud: 84.4574780058651% \n",
      "\n",
      "Matriz de confusión \n",
      ": [[1373  306]\n",
      " [ 224 1507]] \n",
      "\n",
      "Reporte de clasificación \n",
      ":               precision    recall  f1-score   support\n",
      "\n",
      "           0       0.86      0.82      0.84      1679\n",
      "           1       0.83      0.87      0.85      1731\n",
      "\n",
      "    accuracy                           0.84      3410\n",
      "   macro avg       0.85      0.84      0.84      3410\n",
      "weighted avg       0.85      0.84      0.84      3410\n",
      "\n"
     ]
    }
   ],
   "source": [
    "#Egresos_pt con variables numéricas, n_estimators: 1000, max_depth: 7\n",
    "modelo_clas(df, 'MOTEGRE', modelo)"
   ]
  },
  {
   "cell_type": "code",
   "execution_count": null,
   "metadata": {
    "colab": {
     "base_uri": "https://localhost:8080/"
    },
    "executionInfo": {
     "elapsed": 5650,
     "status": "ok",
     "timestamp": 1688950892288,
     "user": {
      "displayName": "Lili Morones",
      "userId": "03662130427026750805"
     },
     "user_tz": 360
    },
    "id": "-gbAZDx6edA2",
    "outputId": "eef0be07-ec37-4085-f08d-7f63dfa89fbc"
   },
   "outputs": [
    {
     "name": "stdout",
     "output_type": "stream",
     "text": [
      "Validación cruzada (exactitud): 88.95067897779514% \n",
      "\n",
      "Exactitud: 89.06799531066822% \n",
      "\n",
      "Matriz de confusión \n",
      ": [[1470  253]\n",
      " [ 120 1569]] \n",
      "\n",
      "Reporte de clasificación \n",
      ":               precision    recall  f1-score   support\n",
      "\n",
      "           0       0.92      0.85      0.89      1723\n",
      "           1       0.86      0.93      0.89      1689\n",
      "\n",
      "    accuracy                           0.89      3412\n",
      "   macro avg       0.89      0.89      0.89      3412\n",
      "weighted avg       0.89      0.89      0.89      3412\n",
      "\n"
     ]
    }
   ],
   "source": [
    "#Egresos3 con variables que parecen más importantes, 100,7\n",
    "modelo_clas(df, 'MOTEGRE', modelo)"
   ]
  },
  {
   "cell_type": "code",
   "execution_count": null,
   "metadata": {
    "colab": {
     "base_uri": "https://localhost:8080/"
    },
    "executionInfo": {
     "elapsed": 5089,
     "status": "ok",
     "timestamp": 1688950850099,
     "user": {
      "displayName": "Lili Morones",
      "userId": "03662130427026750805"
     },
     "user_tz": 360
    },
    "id": "OGnKnpnR3il_",
    "outputId": "acb90c37-a4be-42ec-d26a-cab04712738d"
   },
   "outputs": [
    {
     "name": "stdout",
     "output_type": "stream",
     "text": [
      "Validación cruzada (exactitud): 88.95067897779514% \n",
      "\n",
      "Exactitud: 89.06799531066822% \n",
      "\n",
      "Matriz de confusión \n",
      ": [[1470  253]\n",
      " [ 120 1569]] \n",
      "\n",
      "Reporte de clasificación \n",
      ":               precision    recall  f1-score   support\n",
      "\n",
      "           0       0.92      0.85      0.89      1723\n",
      "           1       0.86      0.93      0.89      1689\n",
      "\n",
      "    accuracy                           0.89      3412\n",
      "   macro avg       0.89      0.89      0.89      3412\n",
      "weighted avg       0.89      0.89      0.89      3412\n",
      "\n"
     ]
    }
   ],
   "source": [
    "#Egresos3 con 'variables' normalizadas 100,7\n",
    "modelo_clas(df, 'MOTEGRE', modelo)"
   ]
  },
  {
   "cell_type": "code",
   "execution_count": null,
   "metadata": {
    "colab": {
     "base_uri": "https://localhost:8080/"
    },
    "executionInfo": {
     "elapsed": 4689,
     "status": "ok",
     "timestamp": 1689008097261,
     "user": {
      "displayName": "Lili Morones",
      "userId": "03662130427026750805"
     },
     "user_tz": 360
    },
    "id": "eITJr_m2uTT5",
    "outputId": "e2872147-88e5-4662-95f7-54e9a1d04817"
   },
   "outputs": [
    {
     "name": "stdout",
     "output_type": "stream",
     "text": [
      "Validación cruzada (exactitud): 88.81864196976558% \n",
      "\n",
      "Exactitud: 90.00616903146206% \n",
      "\n",
      "Matriz de confusión \n",
      ": [[1408  209]\n",
      " [ 115 1510]] \n",
      "\n",
      "Reporte de clasificación \n",
      ":               precision    recall  f1-score   support\n",
      "\n",
      "           0       0.92      0.87      0.90      1617\n",
      "           1       0.88      0.93      0.90      1625\n",
      "\n",
      "    accuracy                           0.90      3242\n",
      "   macro avg       0.90      0.90      0.90      3242\n",
      "weighted avg       0.90      0.90      0.90      3242\n",
      "\n"
     ]
    }
   ],
   "source": [
    "#Egresos3 con variables que parecen más importantes, 30 días, 100,7\n",
    "modelo_clas(df, 'MOTEGRE', modelo)"
   ]
  },
  {
   "cell_type": "markdown",
   "metadata": {
    "id": "hBeGUCngxskG"
   },
   "source": [
    "### KNN"
   ]
  },
  {
   "cell_type": "code",
   "execution_count": null,
   "metadata": {
    "id": "CSCWmEMcjvt_"
   },
   "outputs": [],
   "source": []
  },
  {
   "cell_type": "code",
   "execution_count": null,
   "metadata": {
    "colab": {
     "base_uri": "https://localhost:8080/"
    },
    "executionInfo": {
     "elapsed": 5190,
     "status": "ok",
     "timestamp": 1689189834482,
     "user": {
      "displayName": "Lili Morones",
      "userId": "03662130427026750805"
     },
     "user_tz": 360
    },
    "id": "Fzf9MYVq4KIt",
    "outputId": "a8b399c3-9a60-4753-c4c5-96b26eef84ee"
   },
   "outputs": [
    {
     "name": "stdout",
     "output_type": "stream",
     "text": [
      "Mejores parámetros:\n",
      " {'n_neighbors': 5}\n",
      "Mejor score: \n",
      " 0.8515585671761438\n"
     ]
    }
   ],
   "source": [
    "modelo = KNeighborsClassifier()\n",
    "X = df5.drop('MOTEGRE', axis= 1)\n",
    "y = df5['MOTEGRE']\n",
    "mejores_parametros(modelo, knn_grid, X,y)"
   ]
  },
  {
   "cell_type": "code",
   "execution_count": null,
   "metadata": {
    "id": "w2JqMnzq2hJW"
   },
   "outputs": [],
   "source": [
    "# Crear un diccionario con los parámetros del modelo\n",
    "parametros_knn = {\n",
    "    'n_neighbors': 11,  # Número de vecinos a considerar (3 a 15)\n",
    "    'weights': 'uniform',  # Método para asignar pesos a los vecinos ('uniform' o 'distance')\n",
    "    'algorithm': 'auto',  # Algoritmo utilizado para calcular los vecinos más cercanos ('auto', 'ball_tree', 'kd_tree', 'brute')\n",
    "    #'leaf_size': 30,  # Tamaño de hoja para los algoritmos ball_tree o kd_tree (20 a 50)\n",
    "    'p': 2,  # Parámetro de distancia (1 para la distancia de Manhattan, 2 para la distancia euclidiana)\n",
    "}\n",
    "# Crear el modelo KNN con los parámetros del diccionario\n",
    "modelo = KNeighborsClassifier(**parametros_knn)\n"
   ]
  },
  {
   "cell_type": "code",
   "execution_count": null,
   "metadata": {
    "colab": {
     "base_uri": "https://localhost:8080/"
    },
    "executionInfo": {
     "elapsed": 565,
     "status": "ok",
     "timestamp": 1688579596444,
     "user": {
      "displayName": "Lili Morones",
      "userId": "03662130427026750805"
     },
     "user_tz": 360
    },
    "id": "KBfKZMBb2sWh",
    "outputId": "f9b1c3c7-1147-41f4-9945-f83891d8a9d0"
   },
   "outputs": [
    {
     "name": "stderr",
     "output_type": "stream",
     "text": [
      "/usr/local/lib/python3.10/dist-packages/sklearn/neighbors/_classification.py:215: DataConversionWarning: A column-vector y was passed when a 1d array was expected. Please change the shape of y to (n_samples,), for example using ravel().\n",
      "  return self._fit(X, y)\n"
     ]
    },
    {
     "name": "stdout",
     "output_type": "stream",
     "text": [
      "Exactitud: 60.63829787234043% \n",
      "\n",
      "Matriz de confusión \n",
      ": [[170  25  10  46]\n",
      " [ 33 166  11  24]\n",
      " [ 28  27 142  23]\n",
      " [ 82  32  29  92]] \n",
      "\n",
      "Reporte de clasificación \n",
      ":               precision    recall  f1-score   support\n",
      "\n",
      "           0       0.54      0.68      0.60       251\n",
      "           1       0.66      0.71      0.69       234\n",
      "           2       0.74      0.65      0.69       220\n",
      "           3       0.50      0.39      0.44       235\n",
      "\n",
      "    accuracy                           0.61       940\n",
      "   macro avg       0.61      0.61      0.60       940\n",
      "weighted avg       0.61      0.61      0.60       940\n",
      "\n"
     ]
    }
   ],
   "source": [
    "modelo_clas(df, 'MOTEGRE', modelo)"
   ]
  },
  {
   "cell_type": "markdown",
   "metadata": {
    "id": "kgVuQ0P06-vX"
   },
   "source": [
    "### SVM"
   ]
  },
  {
   "cell_type": "code",
   "execution_count": null,
   "metadata": {
    "colab": {
     "base_uri": "https://localhost:8080/"
    },
    "executionInfo": {
     "elapsed": 204254,
     "status": "ok",
     "timestamp": 1689190117965,
     "user": {
      "displayName": "Lili Morones",
      "userId": "03662130427026750805"
     },
     "user_tz": 360
    },
    "id": "47LbmahC8-I-",
    "outputId": "b89e79be-7403-4645-c1fa-847742ef787a"
   },
   "outputs": [
    {
     "name": "stdout",
     "output_type": "stream",
     "text": [
      "Mejores parámetros:\n",
      " {'C': 1000}\n",
      "Mejor score: \n",
      " 0.87746822073901\n"
     ]
    }
   ],
   "source": [
    "modelo = SVC()\n",
    "X = df5.drop('MOTEGRE', axis= 1)\n",
    "y = df5['MOTEGRE']\n",
    "mejores_parametros(modelo, svm_grid, X,y)"
   ]
  },
  {
   "cell_type": "code",
   "execution_count": null,
   "metadata": {
    "id": "bnrnewq87O6q"
   },
   "outputs": [],
   "source": [
    "parametros_svm = {\n",
    "    'C': 1000.0,  # Parámetro de regularización (mayor valor implica una regularización más débil) (0.1 a 1000)\n",
    "    'kernel': 'rbf',  # Función kernel utilizada ('linear', 'poly', 'rbf', 'sigmoid', entre otros)\n",
    "    'gamma': 'scale',  # Coeficiente gamma para 'rbf', 'poly' y 'sigmoid' ('scale' utiliza 1 / (n_features * X.var()) y 'auto' utiliza 1 / n_features)\n",
    "    #'degree': 3,  # Grado del polinomio para el kernel 'poly'\n",
    "    #'coef0': 0.0  # Término independiente en funciones kernel polinómicas y sigmoidales\n",
    "    'random_state':42\n",
    "}\n",
    "\n",
    "# Crear el modelo SVM con los parámetros del diccionario\n",
    "modelo = SVC(**parametros_svm)"
   ]
  },
  {
   "cell_type": "code",
   "execution_count": null,
   "metadata": {
    "colab": {
     "base_uri": "https://localhost:8080/"
    },
    "executionInfo": {
     "elapsed": 6277,
     "status": "ok",
     "timestamp": 1688579683542,
     "user": {
      "displayName": "Lili Morones",
      "userId": "03662130427026750805"
     },
     "user_tz": 360
    },
    "id": "_Ze6aeqX_pGr",
    "outputId": "34e70605-16fd-4b11-dbd4-1148ad74823e"
   },
   "outputs": [
    {
     "name": "stderr",
     "output_type": "stream",
     "text": [
      "/usr/local/lib/python3.10/dist-packages/sklearn/utils/validation.py:1143: DataConversionWarning: A column-vector y was passed when a 1d array was expected. Please change the shape of y to (n_samples, ), for example using ravel().\n",
      "  y = column_or_1d(y, warn=True)\n"
     ]
    },
    {
     "name": "stdout",
     "output_type": "stream",
     "text": [
      "Exactitud: 60.1063829787234% \n",
      "\n",
      "Matriz de confusión \n",
      ": [[157  27  25  42]\n",
      " [ 16 177  22  19]\n",
      " [ 30  23 138  29]\n",
      " [ 61  32  49  93]] \n",
      "\n",
      "Reporte de clasificación \n",
      ":               precision    recall  f1-score   support\n",
      "\n",
      "           0       0.59      0.63      0.61       251\n",
      "           1       0.68      0.76      0.72       234\n",
      "           2       0.59      0.63      0.61       220\n",
      "           3       0.51      0.40      0.44       235\n",
      "\n",
      "    accuracy                           0.60       940\n",
      "   macro avg       0.59      0.60      0.60       940\n",
      "weighted avg       0.59      0.60      0.60       940\n",
      "\n"
     ]
    }
   ],
   "source": [
    "modelo_clas(df, 'MOTEGRE', modelo)"
   ]
  },
  {
   "cell_type": "markdown",
   "metadata": {
    "id": "j9IJXXmg-yfA"
   },
   "source": [
    "### Naive Bayes"
   ]
  },
  {
   "cell_type": "code",
   "execution_count": null,
   "metadata": {
    "id": "ARbBMtBsAl5D"
   },
   "outputs": [],
   "source": [
    "# Crear el modelo NB con los parámetros del diccionario\n",
    "modelo = GaussianNB()"
   ]
  },
  {
   "cell_type": "code",
   "execution_count": null,
   "metadata": {
    "colab": {
     "base_uri": "https://localhost:8080/"
    },
    "executionInfo": {
     "elapsed": 712,
     "status": "ok",
     "timestamp": 1688579706715,
     "user": {
      "displayName": "Lili Morones",
      "userId": "03662130427026750805"
     },
     "user_tz": 360
    },
    "id": "mhBVrQEh_vqX",
    "outputId": "0c0d60e0-7383-4150-a637-65d7a47d812c"
   },
   "outputs": [
    {
     "name": "stdout",
     "output_type": "stream",
     "text": [
      "Exactitud: 59.25531914893617% \n",
      "\n",
      "Matriz de confusión \n",
      ": [[180  13  19  39]\n",
      " [  9 146  32  47]\n",
      " [ 21  18 150  31]\n",
      " [ 72  25  57  81]] \n",
      "\n",
      "Reporte de clasificación \n",
      ":               precision    recall  f1-score   support\n",
      "\n",
      "           0       0.64      0.72      0.68       251\n",
      "           1       0.72      0.62      0.67       234\n",
      "           2       0.58      0.68      0.63       220\n",
      "           3       0.41      0.34      0.37       235\n",
      "\n",
      "    accuracy                           0.59       940\n",
      "   macro avg       0.59      0.59      0.59       940\n",
      "weighted avg       0.59      0.59      0.59       940\n",
      "\n"
     ]
    },
    {
     "name": "stderr",
     "output_type": "stream",
     "text": [
      "/usr/local/lib/python3.10/dist-packages/sklearn/utils/validation.py:1143: DataConversionWarning: A column-vector y was passed when a 1d array was expected. Please change the shape of y to (n_samples, ), for example using ravel().\n",
      "  y = column_or_1d(y, warn=True)\n"
     ]
    }
   ],
   "source": [
    "modelo_clas(df, 'MOTEGRE', modelo)"
   ]
  },
  {
   "cell_type": "markdown",
   "metadata": {
    "id": "zvsol8ROeWt4"
   },
   "source": [
    "### Gradient boosting"
   ]
  },
  {
   "cell_type": "code",
   "execution_count": null,
   "metadata": {
    "colab": {
     "base_uri": "https://localhost:8080/"
    },
    "executionInfo": {
     "elapsed": 290294,
     "status": "ok",
     "timestamp": 1689267747141,
     "user": {
      "displayName": "Lili Morones",
      "userId": "03662130427026750805"
     },
     "user_tz": 360
    },
    "id": "Fv9Eg3vphUgG",
    "outputId": "641de15b-8da7-4acd-a4b9-0d9716daf7f5"
   },
   "outputs": [
    {
     "name": "stdout",
     "output_type": "stream",
     "text": [
      "Mejores parámetros:\n",
      " {'max_depth': 3, 'n_estimators': 150}\n",
      "Mejor score: \n",
      " 0.9062861115920844\n"
     ]
    }
   ],
   "source": [
    "modelo = XGBClassifier()\n",
    "X = df5.drop('MOTEGRE', axis= 1)\n",
    "y = df5['MOTEGRE']\n",
    "mejores_parametros(modelo, xgb_grid, X,y)"
   ]
  },
  {
   "cell_type": "code",
   "execution_count": 44,
   "metadata": {
    "executionInfo": {
     "elapsed": 236,
     "status": "ok",
     "timestamp": 1689971242492,
     "user": {
      "displayName": "Lili Morones",
      "userId": "03662130427026750805"
     },
     "user_tz": 360
    },
    "id": "jzDwJnUceZkq"
   },
   "outputs": [],
   "source": [
    "parametros_xgb = {\n",
    "    'n_estimators': 150,  # Número de árboles en el modelo\n",
    "    'learning_rate': 0.3,  # Tasa de aprendizaje\n",
    "    'max_depth': 3,  # Profundidad máxima de cada árbol\n",
    "    'min_child_weight': 2,\n",
    "    #'subsample': 1,  # Proporción de muestras utilizadas para entrenar cada árbol\n",
    "    #'colsample_bytree': 1,  # Proporción de características utilizadas para entrenar cada árbol\n",
    "    #'gamma': 0,  # Valor de corte mínimo para dividir un nodo\n",
    "    'random_state': 42,  # Semilla aleatoria para reproducibilidad\n",
    "}\n",
    "\n",
    "modelo = XGBClassifier(**parametros_xgb)"
   ]
  },
  {
   "cell_type": "code",
   "execution_count": null,
   "metadata": {
    "colab": {
     "base_uri": "https://localhost:8080/"
    },
    "executionInfo": {
     "elapsed": 14966,
     "status": "ok",
     "timestamp": 1689189652880,
     "user": {
      "displayName": "Lili Morones",
      "userId": "03662130427026750805"
     },
     "user_tz": 360
    },
    "id": "r1-enuBF4Job",
    "outputId": "e8e73bc8-3d29-4e5c-b7c6-2be1a00514d8"
   },
   "outputs": [
    {
     "name": "stdout",
     "output_type": "stream",
     "text": [
      "Validación cruzada (exactitud): 90.24526325398344% \n",
      "\n",
      "Matriz de confusión \n",
      ": [[1451  166]\n",
      " [ 115 1510]] \n",
      "\n",
      "Reporte de clasificación \n",
      ":               precision    recall  f1-score   support\n",
      "\n",
      "           0       0.93      0.90      0.91      1617\n",
      "           1       0.90      0.93      0.91      1625\n",
      "\n",
      "    accuracy                           0.91      3242\n",
      "   macro avg       0.91      0.91      0.91      3242\n",
      "weighted avg       0.91      0.91      0.91      3242\n",
      "\n"
     ]
    }
   ],
   "source": [
    "#Variables importantes 30 DÍAS, 300, 3\n",
    "modelo_clas(df, 'MOTEGRE', modelo)"
   ]
  },
  {
   "cell_type": "code",
   "execution_count": null,
   "metadata": {
    "colab": {
     "base_uri": "https://localhost:8080/"
    },
    "executionInfo": {
     "elapsed": 16375,
     "status": "ok",
     "timestamp": 1689008441308,
     "user": {
      "displayName": "Lili Morones",
      "userId": "03662130427026750805"
     },
     "user_tz": 360
    },
    "id": "uv5JFatPG7Wl",
    "outputId": "55ce1509-54fc-41ee-86e5-a027ffad256a"
   },
   "outputs": [
    {
     "name": "stdout",
     "output_type": "stream",
     "text": [
      "Validación cruzada (exactitud): 90.21632392878499% \n",
      "\n",
      "Exactitud: 91.57072368421053% \n",
      "\n",
      "Matriz de confusión \n",
      ": [[1081  122]\n",
      " [  83 1146]] \n",
      "\n",
      "Reporte de clasificación \n",
      ":               precision    recall  f1-score   support\n",
      "\n",
      "           0       0.93      0.90      0.91      1203\n",
      "           1       0.90      0.93      0.92      1229\n",
      "\n",
      "    accuracy                           0.92      2432\n",
      "   macro avg       0.92      0.92      0.92      2432\n",
      "weighted avg       0.92      0.92      0.92      2432\n",
      "\n"
     ]
    }
   ],
   "source": [
    "#Variables importantes 300,3 con prueba de 85%\n",
    "modelo_clas(df, 'MOTEGRE', modelo, train_size = 0.85)"
   ]
  },
  {
   "cell_type": "code",
   "execution_count": null,
   "metadata": {
    "colab": {
     "base_uri": "https://localhost:8080/"
    },
    "executionInfo": {
     "elapsed": 161,
     "status": "ok",
     "timestamp": 1689011991475,
     "user": {
      "displayName": "Lili Morones",
      "userId": "03662130427026750805"
     },
     "user_tz": 360
    },
    "id": "oBkEnIrF9aeO",
    "outputId": "071f19d0-72e3-4ef8-b61f-860e6435a6b4"
   },
   "outputs": [
    {
     "data": {
      "text/plain": [
       "Index(['CLUES', 'DIAS_ESTA', 'EDAD', 'DERHAB', 'MUNIC', 'PROCED', 'DIAG_INI',\n",
       "       'AFECPRIN', 'MOTEGRE', 'NUMPROMED', 'NUMAFEC', 'MAL_DIAG', 'ANEST_GRAL',\n",
       "       'QUIRURGICO', 'SEXO_M', 'VEZ_SUBSECUENTE', 'TIPSERV_NORMAL', 'INFEC_SI',\n",
       "       'DIABETES_SI', 'HIPERTENSION_SI', 'OBESIDAD_SI'],\n",
       "      dtype='object')"
      ]
     },
     "execution_count": 124,
     "metadata": {},
     "output_type": "execute_result"
    }
   ],
   "source": [
    "#Intentar reducir variables\n",
    "df.columns"
   ]
  },
  {
   "cell_type": "code",
   "execution_count": null,
   "metadata": {
    "id": "yzXREkRE9Tjo"
   },
   "outputs": [],
   "source": [
    "df2 = df.drop(['DERHAB', 'MUNIC', 'MAL_DIAG', 'ANEST_GRAL', 'TIPSERV_NORMAL',\n",
    "               'DIABETES_SI', 'HIPERTENSION_SI', 'OBESIDAD_SI'], axis = 1)"
   ]
  },
  {
   "cell_type": "code",
   "execution_count": null,
   "metadata": {
    "colab": {
     "base_uri": "https://localhost:8080/"
    },
    "executionInfo": {
     "elapsed": 199,
     "status": "ok",
     "timestamp": 1689121201445,
     "user": {
      "displayName": "Lili Morones",
      "userId": "03662130427026750805"
     },
     "user_tz": 360
    },
    "id": "8c49ggvGeAm6",
    "outputId": "2b64e97f-f0d2-43e5-9f09-5401d88dcebf"
   },
   "outputs": [
    {
     "data": {
      "text/plain": [
       "Index(['CLUES', 'DIAS_ESTA', 'EDAD', 'PROCED', 'DIAG_INI', 'AFECPRIN',\n",
       "       'MOTEGRE', 'NUMPROMED', 'NUMAFEC', 'QUIRURGICO', 'SEXO_M',\n",
       "       'VEZ_SUBSECUENTE', 'INFEC_SI'],\n",
       "      dtype='object')"
      ]
     },
     "execution_count": 51,
     "metadata": {},
     "output_type": "execute_result"
    }
   ],
   "source": [
    "df2.columns"
   ]
  },
  {
   "cell_type": "code",
   "execution_count": null,
   "metadata": {
    "colab": {
     "base_uri": "https://localhost:8080/"
    },
    "executionInfo": {
     "elapsed": 16365,
     "status": "ok",
     "timestamp": 1689185047234,
     "user": {
      "displayName": "Lili Morones",
      "userId": "03662130427026750805"
     },
     "user_tz": 360
    },
    "id": "RC83qlqq9dGT",
    "outputId": "3ff854be-643c-4cec-8b10-228405a8baa9"
   },
   "outputs": [
    {
     "name": "stdout",
     "output_type": "stream",
     "text": [
      "Validación cruzada (exactitud): 90.14502303069082% \n",
      "\n",
      "Matriz de confusión \n",
      ": [[1450  167]\n",
      " [ 116 1509]] \n",
      "\n",
      "Reporte de clasificación \n",
      ":               precision    recall  f1-score   support\n",
      "\n",
      "           0       0.93      0.90      0.91      1617\n",
      "           1       0.90      0.93      0.91      1625\n",
      "\n",
      "    accuracy                           0.91      3242\n",
      "   macro avg       0.91      0.91      0.91      3242\n",
      "weighted avg       0.91      0.91      0.91      3242\n",
      "\n"
     ]
    }
   ],
   "source": [
    "#Pruebas de reducción de variables 300,5\n",
    "modelo_clas(df2, 'MOTEGRE', modelo)"
   ]
  },
  {
   "cell_type": "code",
   "execution_count": null,
   "metadata": {
    "id": "n3pJ52Kk9whA"
   },
   "outputs": [],
   "source": [
    "df3 = df2.drop(['DIAS_ESTA', 'AFECPRIN','NUMPROMED', 'QUIRURGICO','INFEC_SI'], axis = 1)"
   ]
  },
  {
   "cell_type": "code",
   "execution_count": null,
   "metadata": {
    "colab": {
     "base_uri": "https://localhost:8080/"
    },
    "executionInfo": {
     "elapsed": 20386,
     "status": "ok",
     "timestamp": 1689012298779,
     "user": {
      "displayName": "Lili Morones",
      "userId": "03662130427026750805"
     },
     "user_tz": 360
    },
    "id": "zZasQj6z96xG",
    "outputId": "98c9a04f-1c4e-4cc8-d166-80abf7b15ed2"
   },
   "outputs": [
    {
     "name": "stdout",
     "output_type": "stream",
     "text": [
      "Validación cruzada (exactitud): 89.91369028946623% \n",
      "\n",
      "Exactitud: 90.37631091918568% \n",
      "\n",
      "Matriz de confusión \n",
      ": [[1421  196]\n",
      " [ 116 1509]] \n",
      "\n",
      "Reporte de clasificación \n",
      ":               precision    recall  f1-score   support\n",
      "\n",
      "           0       0.92      0.88      0.90      1617\n",
      "           1       0.89      0.93      0.91      1625\n",
      "\n",
      "    accuracy                           0.90      3242\n",
      "   macro avg       0.90      0.90      0.90      3242\n",
      "weighted avg       0.90      0.90      0.90      3242\n",
      "\n"
     ]
    }
   ],
   "source": [
    "#Pruebas de reducción de variables\n",
    "modelo_clas(df3, 'MOTEGRE', modelo)"
   ]
  },
  {
   "cell_type": "code",
   "execution_count": null,
   "metadata": {
    "colab": {
     "base_uri": "https://localhost:8080/"
    },
    "executionInfo": {
     "elapsed": 17268,
     "status": "ok",
     "timestamp": 1689096788354,
     "user": {
      "displayName": "Lili Morones",
      "userId": "03662130427026750805"
     },
     "user_tz": 360
    },
    "id": "iwzmveK7_-4E",
    "outputId": "ee794575-d733-4994-a47e-9dbefe9325c1"
   },
   "outputs": [
    {
     "name": "stdout",
     "output_type": "stream",
     "text": [
      "Validación cruzada (exactitud): 89.70547892864991% \n",
      "\n",
      "Exactitud: 90.99321406539174% \n",
      "\n",
      "Matriz de confusión \n",
      ": [[1435  182]\n",
      " [ 110 1515]] \n",
      "\n",
      "Reporte de clasificación \n",
      ":               precision    recall  f1-score   support\n",
      "\n",
      "           0       0.93      0.89      0.91      1617\n",
      "           1       0.89      0.93      0.91      1625\n",
      "\n",
      "    accuracy                           0.91      3242\n",
      "   macro avg       0.91      0.91      0.91      3242\n",
      "weighted avg       0.91      0.91      0.91      3242\n",
      "\n"
     ]
    }
   ],
   "source": [
    "df4 = df2.drop(['CLUES'], axis = 1)\n",
    "modelo_clas(df4, 'MOTEGRE', modelo)"
   ]
  },
  {
   "cell_type": "code",
   "execution_count": 45,
   "metadata": {
    "executionInfo": {
     "elapsed": 205,
     "status": "ok",
     "timestamp": 1689971278407,
     "user": {
      "displayName": "Lili Morones",
      "userId": "03662130427026750805"
     },
     "user_tz": 360
    },
    "id": "aS3vPFQ42E4P"
   },
   "outputs": [],
   "source": [
    "df5 = df.copy()\n",
    "df5['NUM_DHO'] = df5[['DIABETES_SI', 'HIPERTENSION_SI', 'OBESIDAD_SI']].sum(axis=1)\n",
    "df5 = df5.drop(['DERHAB', 'MUNIC', 'MAL_DIAG', 'ANEST_GRAL', 'TIPSERV_NORMAL',\n",
    "               'DIABETES_SI', 'HIPERTENSION_SI', 'OBESIDAD_SI'], axis = 1)\n",
    "#df5 = df5[df5['DIAS_ESTA']<=30]"
   ]
  },
  {
   "cell_type": "code",
   "execution_count": 46,
   "metadata": {
    "executionInfo": {
     "elapsed": 212,
     "status": "ok",
     "timestamp": 1689971297218,
     "user": {
      "displayName": "Lili Morones",
      "userId": "03662130427026750805"
     },
     "user_tz": 360
    },
    "id": "fR17_F15Wp_I"
   },
   "outputs": [],
   "source": [
    "parametros_xgb = {\n",
    "    'n_estimators': 150,  # Número de árboles en el modelo\n",
    "    'learning_rate': 0.3,  # Tasa de aprendizaje\n",
    "    'max_depth': 3,  # Profundidad máxima de cada árbol\n",
    "    'random_state': 42,  # Semilla aleatoria para reproducibilidad\n",
    "}\n",
    "\n",
    "modelo = XGBClassifier(**parametros_xgb)"
   ]
  },
  {
   "cell_type": "code",
   "execution_count": 47,
   "metadata": {
    "colab": {
     "base_uri": "https://localhost:8080/"
    },
    "executionInfo": {
     "elapsed": 7590,
     "status": "ok",
     "timestamp": 1689971309864,
     "user": {
      "displayName": "Lili Morones",
      "userId": "03662130427026750805"
     },
     "user_tz": 360
    },
    "id": "KkedheZY2N1u",
    "outputId": "5f567f81-588d-4948-d7ac-1191c8049934"
   },
   "outputs": [
    {
     "name": "stdout",
     "output_type": "stream",
     "text": [
      "Validación cruzada (exactitud): 90.62861115920843% \n",
      "\n",
      "Matriz de confusión: \n",
      " [[1533  190]\n",
      " [ 130 1559]] \n",
      "\n",
      "Reporte de clasificación: \n",
      "               precision    recall  f1-score   support\n",
      "\n",
      "           0       0.92      0.89      0.91      1723\n",
      "           1       0.89      0.92      0.91      1689\n",
      "\n",
      "    accuracy                           0.91      3412\n",
      "   macro avg       0.91      0.91      0.91      3412\n",
      "weighted avg       0.91      0.91      0.91      3412\n",
      "\n"
     ]
    }
   ],
   "source": [
    "modelo_clas(df5, 'MOTEGRE', modelo)"
   ]
  },
  {
   "cell_type": "markdown",
   "metadata": {
    "id": "wzv8C1gKK0o8"
   },
   "source": [
    "#### Probar manualmente el modelo"
   ]
  },
  {
   "cell_type": "code",
   "execution_count": null,
   "metadata": {
    "colab": {
     "base_uri": "https://localhost:8080/"
    },
    "executionInfo": {
     "elapsed": 194,
     "status": "ok",
     "timestamp": 1689128566263,
     "user": {
      "displayName": "Lili Morones",
      "userId": "03662130427026750805"
     },
     "user_tz": 360
    },
    "id": "GG50-pK06Gov",
    "outputId": "eb26ecda-c957-4016-eeac-672daf590c18"
   },
   "outputs": [
    {
     "data": {
      "text/plain": [
       "Index(['CLUES', 'DIAS_ESTA', 'EDAD', 'PROCED', 'DIAG_INI', 'AFECPRIN',\n",
       "       'MOTEGRE', 'NUMPROMED', 'NUMAFEC', 'QUIRURGICO', 'SEXO_M',\n",
       "       'VEZ_SUBSECUENTE', 'INFEC_SI', 'NUM_DHO'],\n",
       "      dtype='object')"
      ]
     },
     "execution_count": 109,
     "metadata": {},
     "output_type": "execute_result"
    }
   ],
   "source": [
    "df5.columns"
   ]
  },
  {
   "cell_type": "code",
   "execution_count": null,
   "metadata": {
    "colab": {
     "base_uri": "https://localhost:8080/"
    },
    "executionInfo": {
     "elapsed": 516,
     "status": "ok",
     "timestamp": 1689272379261,
     "user": {
      "displayName": "Lili Morones",
      "userId": "03662130427026750805"
     },
     "user_tz": 360
    },
    "id": "5aaT1JZv67sJ",
    "outputId": "0e3e413e-e24f-464b-a523-40f98927cf82"
   },
   "outputs": [
    {
     "name": "stdout",
     "output_type": "stream",
     "text": [
      "CENTENARIO HOSPITAL MIGUEL HIDALGO: 0\n",
      "HOSPITAL GENERAL CALVILLO: 1\n",
      "HOSPITAL GENERAL PABELLÓN DE ARTEAGA: 2\n",
      "HOSPITAL GENERAL RINCÓN DE ROMOS: 3\n",
      "HOSPITAL GENERAL TERCER MILENIO: 4\n"
     ]
    }
   ],
   "source": [
    "num_etiquetas('CLUES', etiquetas)"
   ]
  },
  {
   "cell_type": "code",
   "execution_count": null,
   "metadata": {
    "colab": {
     "base_uri": "https://localhost:8080/"
    },
    "executionInfo": {
     "elapsed": 314,
     "status": "ok",
     "timestamp": 1689275301632,
     "user": {
      "displayName": "Lili Morones",
      "userId": "03662130427026750805"
     },
     "user_tz": 360
    },
    "id": "gS5aTliO6r9o",
    "outputId": "f09812b3-324d-4646-f2cb-7959fd480695"
   },
   "outputs": [
    {
     "name": "stdout",
     "output_type": "stream",
     "text": [
      "Motivo de egreso: [1]\n"
     ]
    }
   ],
   "source": [
    "#Prueba CHMH, 1 día estancia, 40 años, referido del HGC, padece ERC,\n",
    "#se le han hecho 3 procedimientos, tiene 0 comorbilidades, nO ha tenido cirugías,\n",
    "#es mujer, atención subsecuente, no tuvo infección, no tiene diabetes, hipertensión y obesidad\n",
    "prueba = [0, 1, 40, 3, 293, 281, 3, 0, 0, 1, 1, 0, 0]\n",
    "prueba = np.array(prueba).reshape(1, -1)  # Convertir a formato adecuado\n",
    "prediccion = modelo.predict(prueba)\n",
    "print(\"Motivo de egreso:\", prediccion)"
   ]
  },
  {
   "cell_type": "code",
   "execution_count": null,
   "metadata": {
    "colab": {
     "base_uri": "https://localhost:8080/"
    },
    "executionInfo": {
     "elapsed": 293,
     "status": "ok",
     "timestamp": 1689275116191,
     "user": {
      "displayName": "Lili Morones",
      "userId": "03662130427026750805"
     },
     "user_tz": 360
    },
    "id": "27DyoCVEi2K_",
    "outputId": "803065ca-280f-47aa-a815-109d7447e777"
   },
   "outputs": [
    {
     "name": "stdout",
     "output_type": "stream",
     "text": [
      "Motivo de egreso: [0]\n"
     ]
    }
   ],
   "source": [
    "#Prueba CHMH, 3 días estancia, 50 años, referido del HGC, padece ERC,\n",
    "#se le han hecho 7 procedimientos, tiene 0 comorbilidades, 1 cirugías,\n",
    "#es mujer, atención subsecuente, tuvo infección, no tiene diabetes, hipertensión y obesidad\n",
    "prueba = [0, 3, 40, 3, 293, 281, 7, 0, 1, 1, 1, 1, 0]\n",
    "prueba = np.array(prueba).reshape(1, -1)  # Convertir a formato adecuado\n",
    "prediccion = modelo.predict(prueba)\n",
    "print(\"Motivo de egreso:\", prediccion)"
   ]
  },
  {
   "cell_type": "code",
   "execution_count": null,
   "metadata": {
    "colab": {
     "base_uri": "https://localhost:8080/"
    },
    "executionInfo": {
     "elapsed": 417,
     "status": "ok",
     "timestamp": 1689275155510,
     "user": {
      "displayName": "Lili Morones",
      "userId": "03662130427026750805"
     },
     "user_tz": 360
    },
    "id": "VvThUOb7mluh",
    "outputId": "9065ec83-1178-4c11-d681-605904944c01"
   },
   "outputs": [
    {
     "name": "stdout",
     "output_type": "stream",
     "text": [
      "Motivo de egreso: [1]\n"
     ]
    }
   ],
   "source": [
    "#Prueba CHMH, 5 días estancia, 50 años, referido del HGC, padece ERC,\n",
    "#se le han hecho 9 procedimientos, tiene 0 comorbilidades, 1 cirugías,\n",
    "#es mujer, atención subsecuente, tuvo infección, no tiene diabetes, hipertensión y obesidad\n",
    "prueba = [0, 5, 50, 3, 293, 281, 9, 0, 1, 1, 1, 1, 0]\n",
    "prueba = np.array(prueba).reshape(1, -1)  # Convertir a formato adecuado\n",
    "prediccion = modelo.predict(prueba)\n",
    "print(\"Motivo de egreso:\", prediccion)"
   ]
  },
  {
   "cell_type": "code",
   "execution_count": null,
   "metadata": {
    "colab": {
     "base_uri": "https://localhost:8080/"
    },
    "executionInfo": {
     "elapsed": 780,
     "status": "ok",
     "timestamp": 1689274130573,
     "user": {
      "displayName": "Lili Morones",
      "userId": "03662130427026750805"
     },
     "user_tz": 360
    },
    "id": "Z3LztqvtlJdn",
    "outputId": "ac3f6a16-3957-4dec-dbdb-0669e4ff61f4"
   },
   "outputs": [
    {
     "name": "stdout",
     "output_type": "stream",
     "text": [
      "Motivo de egreso: [1]\n"
     ]
    }
   ],
   "source": [
    "#Prueba CHMH, 5 días estancia, 40 años, referido del HGC, padece ERC,\n",
    "#se le han hecho 7 procedimientos, tiene 0 comorbilidades, 1 cirugías,\n",
    "#es mujer, atención subsecuente, tuvo infección, no tiene diabetes, hipertensión y obesidad\n",
    "prueba = [0, 5, 40, 3, 293, 281, 7, 0, 1, 1, 1, 1, 0]\n",
    "prueba = np.array(prueba).reshape(1, -1)  # Convertir a formato adecuado\n",
    "prediccion = modelo.predict(prueba)\n",
    "print(\"Motivo de egreso:\", prediccion)"
   ]
  },
  {
   "cell_type": "code",
   "execution_count": null,
   "metadata": {
    "colab": {
     "base_uri": "https://localhost:8080/"
    },
    "executionInfo": {
     "elapsed": 203,
     "status": "ok",
     "timestamp": 1689271990044,
     "user": {
      "displayName": "Lili Morones",
      "userId": "03662130427026750805"
     },
     "user_tz": 360
    },
    "id": "ajbWbOiwcErU",
    "outputId": "2e574472-371f-4eb8-ccfd-1e35054531bd"
   },
   "outputs": [
    {
     "name": "stdout",
     "output_type": "stream",
     "text": [
      "Motivo de egreso: [0]\n"
     ]
    }
   ],
   "source": [
    "#Prueba HGTM, 1 día estancia, 28 años, procede de referido, padece ERC,\n",
    "#se le han hecho 2 procedimientos, tiene 0 comorbilidades, 0 cirugías,\n",
    "#es mujer, atención primera, no tuvo infección, no tiene diabetes, hipertensión ni obesidad\n",
    "prueba = [4, 1, 28, 3, 293, 281, 2, 0, 0, 1, 0, 0, 0]\n",
    "prueba = np.array(prueba).reshape(1, -1)  # Convertir a formato adecuado\n",
    "prediccion = modelo.predict(prueba)\n",
    "print(\"Motivo de egreso:\", prediccion)"
   ]
  },
  {
   "cell_type": "code",
   "execution_count": null,
   "metadata": {
    "colab": {
     "base_uri": "https://localhost:8080/"
    },
    "executionInfo": {
     "elapsed": 191,
     "status": "ok",
     "timestamp": 1689187201368,
     "user": {
      "displayName": "Lili Morones",
      "userId": "03662130427026750805"
     },
     "user_tz": 360
    },
    "id": "53gh66N5dfxH",
    "outputId": "e7552565-6459-4d67-93a3-5c9032c0b791"
   },
   "outputs": [
    {
     "name": "stdout",
     "output_type": "stream",
     "text": [
      "Motivo de egreso: [0]\n"
     ]
    }
   ],
   "source": [
    "#Prueba CHMH, 3 días estancia, 9 años, procede de referido, padece leucemia,\n",
    "#se le han hecho 4 procedimientos,tiene 1 comorbilidad, ha tenido cirugía,\n",
    "#es hombre, atención primera, no tuvo infección, tiene diabetes\n",
    "prueba = [0, 5, 9, 3, 547, 532, 4, 1, 0, 0, 0, 0, 1]\n",
    "prueba = np.array(prueba).reshape(1, -1)  # Convertir a formato adecuado\n",
    "prediccion = modelo.predict(prueba)\n",
    "print(\"Motivo de egreso:\", prediccion)"
   ]
  },
  {
   "cell_type": "code",
   "execution_count": null,
   "metadata": {
    "colab": {
     "base_uri": "https://localhost:8080/"
    },
    "executionInfo": {
     "elapsed": 187,
     "status": "ok",
     "timestamp": 1689187244436,
     "user": {
      "displayName": "Lili Morones",
      "userId": "03662130427026750805"
     },
     "user_tz": 360
    },
    "id": "HujMWtD7gScN",
    "outputId": "14b07cf6-e5bb-4a92-8d23-efebbbc66b12"
   },
   "outputs": [
    {
     "name": "stdout",
     "output_type": "stream",
     "text": [
      "Motivo de egreso: [1]\n"
     ]
    }
   ],
   "source": [
    "#Prueba HGC, 1 día estancia, 12 años, procede de OTRO, padece leucemia,\n",
    "#se le han hecho 3 procedimientos, tiene 2 comorbilidades, 0 cirugía,\n",
    "#es mujer, atención subsecuente, tuvo infección, tiene obesidad\n",
    "prueba = [1, 1, 12, 2, 533, 547, 3, 2, 0, 1, 1, 1, 1]\n",
    "prueba = np.array(prueba).reshape(1, -1)  # Convertir a formato adecuado\n",
    "prediccion = modelo.predict(prueba)\n",
    "print(\"Motivo de egreso:\", prediccion)"
   ]
  },
  {
   "cell_type": "markdown",
   "metadata": {
    "id": "MSt_p3ZeK67H"
   },
   "source": [
    "#### Graficar el modelo"
   ]
  },
  {
   "cell_type": "code",
   "execution_count": null,
   "metadata": {
    "colab": {
     "base_uri": "https://localhost:8080/",
     "height": 181
    },
    "executionInfo": {
     "elapsed": 4335,
     "status": "ok",
     "timestamp": 1689187263479,
     "user": {
      "displayName": "Lili Morones",
      "userId": "03662130427026750805"
     },
     "user_tz": 360
    },
    "id": "sSHwLIVfK9W-",
    "outputId": "b1ac4eda-e592-447f-bf2f-75ae183c98c7"
   },
   "outputs": [
    {
     "data": {
      "image/png": "[encoded data removed]",
      "text/plain": [
       "<Figure size 2000x1000 with 1 Axes>"
      ]
     },
     "metadata": {},
     "output_type": "display_data"
    }
   ],
   "source": [
    "# Graficar uno de los árboles creados para comprender su estructura\n",
    "num_tree = 250\n",
    "plt.figure(figsize=(20, 10))\n",
    "xgboost.plot_tree(modelo, num_trees=num_tree, ax=plt.gca())\n",
    "# Guardar la figura en un archivo PNG con alta resolución\n",
    "plt.savefig(\"arbol_xgboost.png\", dpi=300)\n",
    "plt.show()"
   ]
  },
  {
   "cell_type": "code",
   "execution_count": null,
   "metadata": {
    "colab": {
     "base_uri": "https://localhost:8080/",
     "height": 489
    },
    "executionInfo": {
     "elapsed": 631,
     "status": "ok",
     "timestamp": 1689277224451,
     "user": {
      "displayName": "Lili Morones",
      "userId": "03662130427026750805"
     },
     "user_tz": 360
    },
    "id": "nr9NTHSDLFxE",
    "outputId": "a984b5e4-9418-4553-f9d2-f4e29759022b"
   },
   "outputs": [
    {
     "data": {
      "text/plain": [
       "<Figure size 1400x800 with 0 Axes>"
      ]
     },
     "metadata": {},
     "output_type": "display_data"
    },
    {
     "data": {
      "image/png": "[encoded data removed]",
      "text/plain": [
       "<Figure size 640x480 with 1 Axes>"
      ]
     },
     "metadata": {},
     "output_type": "display_data"
    }
   ],
   "source": [
    "# Graficar la importancia de las variables para el modelo\n",
    "plt.figure(figsize=(14, 8))\n",
    "xgboost.plot_importance(modelo)\n",
    "plt.show()"
   ]
  },
  {
   "cell_type": "code",
   "execution_count": null,
   "metadata": {
    "colab": {
     "base_uri": "https://localhost:8080/"
    },
    "executionInfo": {
     "elapsed": 10402,
     "status": "ok",
     "timestamp": 1689187427873,
     "user": {
      "displayName": "Lili Morones",
      "userId": "03662130427026750805"
     },
     "user_tz": 360
    },
    "id": "KFwF6mLsaTPr",
    "outputId": "2ad1dae1-e04d-4582-b4ae-e1471de42dfd"
   },
   "outputs": [
    {
     "name": "stdout",
     "output_type": "stream",
     "text": [
      "Validación cruzada (exactitud): 88.91895355534338% \n",
      "\n",
      "Matriz de confusión \n",
      ": [[1435  182]\n",
      " [ 146 1479]] \n",
      "\n",
      "Reporte de clasificación \n",
      ":               precision    recall  f1-score   support\n",
      "\n",
      "           0       0.91      0.89      0.90      1617\n",
      "           1       0.89      0.91      0.90      1625\n",
      "\n",
      "    accuracy                           0.90      3242\n",
      "   macro avg       0.90      0.90      0.90      3242\n",
      "weighted avg       0.90      0.90      0.90      3242\n",
      "\n"
     ]
    }
   ],
   "source": [
    "df6 = df5.drop(['CLUES', 'PROCED', 'QUIRURGICO', 'NUM_DHO', 'SEXO_M', 'VEZ_SUBSECUENTE', 'INFEC_SI'], axis = 1)\n",
    "modelo_clas(df6, 'MOTEGRE', modelo)"
   ]
  },
  {
   "cell_type": "markdown",
   "metadata": {
    "id": "Ndk6q_mArWdo"
   },
   "source": [
    "## Predecir los días de estancia"
   ]
  },
  {
   "cell_type": "code",
   "execution_count": null,
   "metadata": {
    "colab": {
     "base_uri": "https://localhost:8080/"
    },
    "executionInfo": {
     "elapsed": 212,
     "status": "ok",
     "timestamp": 1689618603198,
     "user": {
      "displayName": "Lili Morones",
      "userId": "03662130427026750805"
     },
     "user_tz": 360
    },
    "id": "iHJF7Vn7HJTV",
    "outputId": "95fd1e43-e6c4-4fc1-9579-006900bc5ed7"
   },
   "outputs": [
    {
     "data": {
      "text/plain": [
       "Index(['CLUES', 'DIAS_ESTA', 'EDAD', 'PESO', 'TALLA', 'DERHAB', 'MUNIC',\n",
       "       'PROCED', 'DIAG_INI', 'AFECPRIN', 'CAUSAEXT', 'MOTEGRE', 'NUMPROMED',\n",
       "       'NUMAFEC', 'MAL_DIAG', 'ANEST_GRAL', 'QUIRURGICO', 'INGRE_DIA',\n",
       "       'INGRE_MES', 'INGRE_ANIO', 'SEXO_M', 'VEZ_SUBSECUENTE',\n",
       "       'TIPSERV_NORMAL', 'INFEC_SI', 'DIABETES_SI', 'HIPERTENSION_SI',\n",
       "       'OBESIDAD_SI', 'IMC'],\n",
       "      dtype='object')"
      ]
     },
     "execution_count": 55,
     "metadata": {},
     "output_type": "execute_result"
    }
   ],
   "source": [
    "egresos_pt.columns"
   ]
  },
  {
   "cell_type": "code",
   "execution_count": null,
   "metadata": {
    "id": "0GKdAklRzTwY"
   },
   "outputs": [],
   "source": [
    "#Egresos2 tiene todas las variables codificadas\n",
    "#Egresos_pt tiene las variables de peso y talla imputadas, sin ID, CAT_EDAD, CAT_DIASESTA, con IMC\n",
    "#Egresos3 no tiene variables de peso, talla, id\n",
    "egresos3 = egresos2.drop(['ID', 'PESO', 'TALLA', 'IMC', 'EGRESO_ANIO', 'EGRESO_MES', 'EGRESO_DIA', 'CAUSAEXT',\n",
    "                          'CAT_EDAD', 'CAT_DIASESTA'], axis = 1)\n",
    "egresos_pt.drop(['EGRESO_ANIO', 'EGRESO_MES', 'EGRESO_DIA', 'CAUSAEXT'], axis = 1, inplace = True)\n",
    "variables = ['CLUES', 'DIAS_ESTA', 'EDAD', 'DERHAB', 'MUNIC',\n",
    "       'PROCED', 'DIAG_INI', 'AFECPRIN', 'NUMPROMED',\n",
    "       'NUMAFEC', 'MAL_DIAG', 'ANEST_GRAL',\n",
    "       'QUIRURGICO', 'SEXO_M', 'VEZ_SUBSECUENTE',\n",
    "       'TIPSERV_NORMAL', 'INFEC_SI', 'DIABETES_SI', 'HIPERTENSION_SI',\n",
    "       'OBESIDAD_SI']\n",
    "variables_entrada = ['CLUES', 'EDAD', 'DERHAB', 'MUNIC',\n",
    "       'PROCED', 'DIAG_INI', 'DIAS_ESTA', 'NUMAFEC', 'INGRE_DIA', 'INGRE_MES', 'INGRE_ANIO',\n",
    "       'SEXO_M', 'VEZ_SUBSECUENTE', 'TIPSERV_NORMAL', 'DIABETES_SI', 'HIPERTENSION_SI',\n",
    "       'OBESIDAD_SI']\n",
    "variables_mi = ['PROCED', 'DIAG_INI', 'AFECPRIN', 'NUMPROMED', 'NUMAFEC', 'PESO', 'TALLA', 'IMC', 'EDAD', 'DIAS_ESTA']\n",
    "variables_num = ['EDAD', 'DIAS_ESTA', 'NUMAFEC', 'NUMPROMED', 'PESO', 'TALLA', 'IMC']"
   ]
  },
  {
   "cell_type": "code",
   "execution_count": null,
   "metadata": {
    "id": "s9gF-CvoLOY6"
   },
   "outputs": [],
   "source": [
    "#Dataset solo con pacientes con neumonía #642\n",
    "#Dataset solo con enfermos renales #293\n",
    "#df = egresos2[(egresos2['PESO']!=999) & (egresos2['TALLA']!=999)] #--> peso y talla originales\n",
    "#df.drop(['ID'], axis = 1, inplace = True)\n",
    "#Pacientes dentro del top10 de enfermedades más comunes\n",
    "#diagnosticos_comunes = egresos4['DIAG_INI'].value_counts().nlargest(10).index.tolist()\n",
    "#df = egresos4[egresos4['DIAG_INI'].isin(diagnosticos_comunes)]\n",
    "#df = egresos3.copy()\n",
    "#df = df[variables_entrada]\n",
    "#df = df[variables_mi]\n",
    "#df['MOTEGRE'] = df['MOTEGRE'].replace({2:4, 3:2, 4:3, 5:4, 6:5})\n",
    "#df['MOTEGRE'] = df['MOTEGRE'].replace({4:2, 6:2, 5:4})\n",
    "#df['MOTEGRE'] = df['MOTEGRE'].replace({4:2, 5:2, 6:2})\n",
    "#df['MOTEGRE'] = df['MOTEGRE'].replace({2:0, 3:0, 4:0, 5:0, 6:0})\n",
    "#df = balancear_muestras(df, 'MOTEGRE')"
   ]
  },
  {
   "cell_type": "code",
   "execution_count": null,
   "metadata": {
    "id": "8sVXY3c1U2Bo"
   },
   "outputs": [],
   "source": [
    "#df = egresos2[(egresos2['PESO']!=999) & (egresos2['TALLA']!=999)]\n",
    "df = egresos3.copy()\n",
    "#df = df[df['DIAS_ESTA']<=10]\n",
    "#df = df[variables_entrada]"
   ]
  },
  {
   "cell_type": "markdown",
   "metadata": {
    "id": "XmKSgvYwrbBp"
   },
   "source": [
    "### Random Forest"
   ]
  },
  {
   "cell_type": "code",
   "execution_count": null,
   "metadata": {
    "id": "b_44H44xRVpY"
   },
   "outputs": [],
   "source": [
    "X = df.drop(['DIAS_ESTA'], axis = 1)\n",
    "y = df['DIAS_ESTA']"
   ]
  },
  {
   "cell_type": "code",
   "execution_count": null,
   "metadata": {
    "id": "W9U4QcxuSlgG"
   },
   "outputs": [],
   "source": [
    "modelo = RandomForestRegressor()\n",
    "mejores_parametros(modelo, rf_grid, X,y)"
   ]
  },
  {
   "cell_type": "code",
   "execution_count": null,
   "metadata": {
    "id": "RNq3xXHktnnJ"
   },
   "outputs": [],
   "source": [
    "parametros_rf = {\n",
    "    'n_estimators': 500,  # Número de árboles en el bosque\n",
    "    'criterion': 'squared_error',  # Criterio utilizado para evaluar la calidad de una división\n",
    "    'max_depth': 5,  # Profundidad máxima de cada árbol\n",
    "    'min_samples_split': 2,  # Número mínimo de muestras requeridas para dividir un nodo interno\n",
    "    'min_samples_leaf': 1,  # Número mínimo de muestras requeridas en cada hoja del árbol\n",
    "    'max_features': 'auto',  # Número máximo de características consideradas en cada división\n",
    "    'bootstrap': True,  # Si se debe realizar muestreo bootstrap al construir árboles\n",
    "    'random_state': 42  # Semilla para reproducibilidad de resultados\n",
    "}\n",
    "\n",
    "modelo = RandomForestRegressor(**parametros_rf)"
   ]
  },
  {
   "cell_type": "code",
   "execution_count": null,
   "metadata": {
    "colab": {
     "base_uri": "https://localhost:8080/"
    },
    "executionInfo": {
     "elapsed": 276693,
     "status": "ok",
     "timestamp": 1688955625698,
     "user": {
      "displayName": "Lili Morones",
      "userId": "03662130427026750805"
     },
     "user_tz": 360
    },
    "id": "CMT4EB5EVGtO",
    "outputId": "5c31b5a4-b908-44a8-e8ae-eb85d3495176"
   },
   "outputs": [
    {
     "name": "stdout",
     "output_type": "stream",
     "text": [
      "Mean Squared Error (MSE) 31.42\n",
      "Root Mean Squared Error (RMSE) 5.61\n",
      "Mean Absolute Error 0.67\n",
      "R2 Score 0.47\n"
     ]
    }
   ],
   "source": [
    "#Egresos3 500,5\n",
    "modelo_reg(df, 'DIAS_ESTA', modelo)"
   ]
  },
  {
   "cell_type": "code",
   "execution_count": null,
   "metadata": {
    "colab": {
     "base_uri": "https://localhost:8080/"
    },
    "executionInfo": {
     "elapsed": 249201,
     "status": "ok",
     "timestamp": 1688956689062,
     "user": {
      "displayName": "Lili Morones",
      "userId": "03662130427026750805"
     },
     "user_tz": 360
    },
    "id": "NOn0DsY-pLKl",
    "outputId": "594ca00f-4a4c-4814-d8a7-c936e628daf0"
   },
   "outputs": [
    {
     "name": "stdout",
     "output_type": "stream",
     "text": [
      "Mean Squared Error (MSE) 2.18\n",
      "Root Mean Squared Error (RMSE) 1.48\n",
      "Mean Absolute Error 0.51\n",
      "R2 Score 0.83\n"
     ]
    }
   ],
   "source": [
    "#Egresos3 500,5 con días menor o igual a 30\n",
    "modelo_reg(df, 'DIAS_ESTA', modelo)"
   ]
  },
  {
   "cell_type": "code",
   "execution_count": null,
   "metadata": {
    "colab": {
     "base_uri": "https://localhost:8080/"
    },
    "executionInfo": {
     "elapsed": 368580,
     "status": "ok",
     "timestamp": 1688955307553,
     "user": {
      "displayName": "Lili Morones",
      "userId": "03662130427026750805"
     },
     "user_tz": 360
    },
    "id": "QgigSotwWfVI",
    "outputId": "0de0657a-d3d8-4c1c-f177-27a688e5df03"
   },
   "outputs": [
    {
     "name": "stdout",
     "output_type": "stream",
     "text": [
      "Mean Squared Error (MSE) 61.40\n",
      "Root Mean Squared Error (RMSE) 7.84\n",
      "Mean Absolute Error 2.13\n",
      "R2 Score 0.11\n"
     ]
    }
   ],
   "source": [
    "#Egresos_pt\n",
    "modelo_reg(df, 'DIAS_ESTA', modelo)"
   ]
  },
  {
   "cell_type": "code",
   "execution_count": null,
   "metadata": {
    "colab": {
     "base_uri": "https://localhost:8080/"
    },
    "executionInfo": {
     "elapsed": 369050,
     "status": "ok",
     "timestamp": 1688957116065,
     "user": {
      "displayName": "Lili Morones",
      "userId": "03662130427026750805"
     },
     "user_tz": 360
    },
    "id": "e3vmR1MWpPBN",
    "outputId": "8f6b49e6-a042-46c5-e725-8b89dd218c79"
   },
   "outputs": [
    {
     "name": "stdout",
     "output_type": "stream",
     "text": [
      "Mean Squared Error (MSE) 9.08\n",
      "Root Mean Squared Error (RMSE) 3.01\n",
      "Mean Absolute Error 1.69\n",
      "R2 Score 0.30\n"
     ]
    }
   ],
   "source": [
    "#Egresos_pt con días menor o igual a 30\n",
    "modelo_reg(df, 'DIAS_ESTA', modelo)"
   ]
  },
  {
   "cell_type": "code",
   "execution_count": null,
   "metadata": {
    "colab": {
     "base_uri": "https://localhost:8080/"
    },
    "executionInfo": {
     "elapsed": 58897,
     "status": "ok",
     "timestamp": 1688957247674,
     "user": {
      "displayName": "Lili Morones",
      "userId": "03662130427026750805"
     },
     "user_tz": 360
    },
    "id": "gqtdRVFosHmo",
    "outputId": "73dd13a5-12cc-4c71-9338-733e15638daf"
   },
   "outputs": [
    {
     "name": "stdout",
     "output_type": "stream",
     "text": [
      "Mean Squared Error (MSE) 2.25\n",
      "Root Mean Squared Error (RMSE) 1.50\n",
      "Mean Absolute Error 0.60\n",
      "R2 Score 0.84\n"
     ]
    }
   ],
   "source": [
    "#Egresos 2 con variables existentes de peso y talla, días menores a 30\n",
    "modelo_reg(df, 'DIAS_ESTA', modelo)"
   ]
  },
  {
   "cell_type": "code",
   "execution_count": null,
   "metadata": {
    "colab": {
     "base_uri": "https://localhost:8080/"
    },
    "executionInfo": {
     "elapsed": 183506,
     "status": "ok",
     "timestamp": 1688958311606,
     "user": {
      "displayName": "Lili Morones",
      "userId": "03662130427026750805"
     },
     "user_tz": 360
    },
    "id": "nSGvskIvWuyr",
    "outputId": "bd3c0ada-46a9-4bd4-e2ca-14b949078397"
   },
   "outputs": [
    {
     "name": "stdout",
     "output_type": "stream",
     "text": [
      "Mean Squared Error (MSE) 8.99\n",
      "Root Mean Squared Error (RMSE) 3.00\n",
      "Mean Absolute Error 1.69\n",
      "R2 Score 0.31\n"
     ]
    }
   ],
   "source": [
    "#Egresos 3 con variables, días menores a 30\n",
    "modelo_reg(df, 'DIAS_ESTA', modelo)"
   ]
  },
  {
   "cell_type": "code",
   "execution_count": null,
   "metadata": {
    "colab": {
     "base_uri": "https://localhost:8080/"
    },
    "executionInfo": {
     "elapsed": 228870,
     "status": "ok",
     "timestamp": 1688958620908,
     "user": {
      "displayName": "Lili Morones",
      "userId": "03662130427026750805"
     },
     "user_tz": 360
    },
    "id": "ADAsdbvfW6Gn",
    "outputId": "ed8fada1-9ac2-4d94-a787-d1439a0ee1c6"
   },
   "outputs": [
    {
     "name": "stdout",
     "output_type": "stream",
     "text": [
      "Mean Squared Error (MSE) 9.20\n",
      "Root Mean Squared Error (RMSE) 3.03\n",
      "Mean Absolute Error 1.69\n",
      "R2 Score 0.29\n"
     ]
    }
   ],
   "source": [
    "#Egresos 3 con variables de entrada, días menores a 30\n",
    "modelo_reg(df, 'DIAS_ESTA', modelo)"
   ]
  },
  {
   "cell_type": "code",
   "execution_count": null,
   "metadata": {
    "colab": {
     "base_uri": "https://localhost:8080/"
    },
    "executionInfo": {
     "elapsed": 26701,
     "status": "ok",
     "timestamp": 1688957507358,
     "user": {
      "displayName": "Lili Morones",
      "userId": "03662130427026750805"
     },
     "user_tz": 360
    },
    "id": "bBoxzURyW8jG",
    "outputId": "1ad723e3-cdd1-48a0-d909-d2740c76b3e9"
   },
   "outputs": [
    {
     "name": "stdout",
     "output_type": "stream",
     "text": [
      "Mean Squared Error (MSE) 9.88\n",
      "Root Mean Squared Error (RMSE) 3.14\n",
      "Mean Absolute Error 1.87\n",
      "R2 Score 0.31\n"
     ]
    }
   ],
   "source": [
    "#Egresos 2 con variables mi\n",
    "modelo_reg(df, 'DIAS_ESTA', modelo)"
   ]
  },
  {
   "cell_type": "code",
   "execution_count": null,
   "metadata": {
    "colab": {
     "base_uri": "https://localhost:8080/"
    },
    "executionInfo": {
     "elapsed": 41902,
     "status": "ok",
     "timestamp": 1688957618562,
     "user": {
      "displayName": "Lili Morones",
      "userId": "03662130427026750805"
     },
     "user_tz": 360
    },
    "id": "x0rEDa-FW-9h",
    "outputId": "47c58752-ed89-4b68-96bc-68f268aeae92"
   },
   "outputs": [
    {
     "name": "stdout",
     "output_type": "stream",
     "text": [
      "Mean Squared Error (MSE) 10.06\n",
      "Root Mean Squared Error (RMSE) 3.17\n",
      "Mean Absolute Error 1.93\n",
      "R2 Score 0.29\n"
     ]
    }
   ],
   "source": [
    "#Egresos 2 con variables num\n",
    "modelo_reg(df, 'DIAS_ESTA', modelo)"
   ]
  },
  {
   "cell_type": "code",
   "execution_count": null,
   "metadata": {
    "colab": {
     "base_uri": "https://localhost:8080/"
    },
    "executionInfo": {
     "elapsed": 205482,
     "status": "ok",
     "timestamp": 1688958042467,
     "user": {
      "displayName": "Lili Morones",
      "userId": "03662130427026750805"
     },
     "user_tz": 360
    },
    "id": "WoVK6sqXXDr7",
    "outputId": "ceb20bc3-9939-436d-93ce-cc1e4abdb49f"
   },
   "outputs": [
    {
     "name": "stdout",
     "output_type": "stream",
     "text": [
      "Mean Squared Error (MSE) 0.23\n",
      "Root Mean Squared Error (RMSE) 0.48\n",
      "Mean Absolute Error 0.24\n",
      "R2 Score 0.94\n"
     ]
    }
   ],
   "source": [
    "#Egresos 3 con 10 días o menos\n",
    "modelo_reg(df, 'DIAS_ESTA', modelo)"
   ]
  },
  {
   "cell_type": "code",
   "execution_count": null,
   "metadata": {
    "colab": {
     "base_uri": "https://localhost:8080/"
    },
    "executionInfo": {
     "elapsed": 45572,
     "status": "ok",
     "timestamp": 1688957802121,
     "user": {
      "displayName": "Lili Morones",
      "userId": "03662130427026750805"
     },
     "user_tz": 360
    },
    "id": "ITMHgcfeuIlS",
    "outputId": "fe214a2a-e83a-4188-de4f-ff3992402225"
   },
   "outputs": [
    {
     "name": "stdout",
     "output_type": "stream",
     "text": [
      "Mean Squared Error (MSE) 0.29\n",
      "Root Mean Squared Error (RMSE) 0.53\n",
      "Mean Absolute Error 0.30\n",
      "R2 Score 0.94\n"
     ]
    }
   ],
   "source": [
    "#Egresos 2 con 10 días o menos\n",
    "modelo_reg(df, 'DIAS_ESTA', modelo)"
   ]
  },
  {
   "cell_type": "markdown",
   "metadata": {
    "id": "tzXO2HGI0w49"
   },
   "source": [
    "### Gradient Boosting"
   ]
  },
  {
   "cell_type": "code",
   "execution_count": null,
   "metadata": {
    "colab": {
     "base_uri": "https://localhost:8080/"
    },
    "executionInfo": {
     "elapsed": 74699,
     "status": "ok",
     "timestamp": 1688415474929,
     "user": {
      "displayName": "Lili Morones",
      "userId": "03662130427026750805"
     },
     "user_tz": 360
    },
    "id": "kjcirsmRSJsr",
    "outputId": "a60ebcde-e654-493d-d139-2e78c34a8785"
   },
   "outputs": [
    {
     "name": "stdout",
     "output_type": "stream",
     "text": [
      "Mejores parámetros:\n",
      " {'max_depth': 3, 'n_estimators': 100}\n",
      "Mejor score: \n",
      " -70.03389285543574\n"
     ]
    }
   ],
   "source": [
    "modelo = XGBRegressor()\n",
    "mejores_parametros(modelo, rf_grid, X,y)"
   ]
  },
  {
   "cell_type": "code",
   "execution_count": null,
   "metadata": {
    "id": "eT5FRkH901oX"
   },
   "outputs": [],
   "source": [
    "parametros_xgb = {\n",
    "    'n_estimators': 500,  # Número de árboles en el modelo\n",
    "    'learning_rate': 0.1,  # Tasa de aprendizaje\n",
    "    'max_depth': 5,  # Profundidad máxima de cada árbol\n",
    "    'subsample': 1,  # Proporción de muestras utilizadas para entrenar cada árbol\n",
    "    'colsample_bytree': 1,  # Proporción de características utilizadas para entrenar cada árbol\n",
    "    'gamma': 0,  # Valor de corte mínimo para dividir un nodo\n",
    "    'random_state': 42,  # Semilla aleatoria para reproducibilidad\n",
    "}\n",
    "\n",
    "modelo = XGBRegressor(**parametros_xgb)"
   ]
  },
  {
   "cell_type": "code",
   "execution_count": null,
   "metadata": {
    "colab": {
     "base_uri": "https://localhost:8080/"
    },
    "executionInfo": {
     "elapsed": 161642,
     "status": "ok",
     "timestamp": 1688958977163,
     "user": {
      "displayName": "Lili Morones",
      "userId": "03662130427026750805"
     },
     "user_tz": 360
    },
    "id": "3ye6W5zf07qx",
    "outputId": "d36a069a-7b91-4670-bf1f-1cef3b49c078"
   },
   "outputs": [
    {
     "name": "stdout",
     "output_type": "stream",
     "text": [
      "Mean Squared Error (MSE) 0.22\n",
      "Root Mean Squared Error (RMSE) 0.47\n",
      "Mean Absolute Error 0.24\n",
      "R2 Score 0.94\n"
     ]
    }
   ],
   "source": [
    "modelo_reg(df, 'DIAS_ESTA', modelo)"
   ]
  },
  {
   "cell_type": "code",
   "execution_count": null,
   "metadata": {
    "colab": {
     "base_uri": "https://localhost:8080/"
    },
    "executionInfo": {
     "elapsed": 109612,
     "status": "ok",
     "timestamp": 1688959380580,
     "user": {
      "displayName": "Lili Morones",
      "userId": "03662130427026750805"
     },
     "user_tz": 360
    },
    "id": "aIm5l3cnzweU",
    "outputId": "aec29cbb-4ed9-4425-f24b-407d0ff36ab6"
   },
   "outputs": [
    {
     "name": "stdout",
     "output_type": "stream",
     "text": [
      "Mean Squared Error (MSE) 2.20\n",
      "Root Mean Squared Error (RMSE) 1.48\n",
      "Mean Absolute Error 0.90\n",
      "R2 Score 0.45\n"
     ]
    }
   ],
   "source": [
    "modelo_reg(df, 'DIAS_ESTA', modelo)"
   ]
  },
  {
   "cell_type": "code",
   "execution_count": null,
   "metadata": {
    "colab": {
     "base_uri": "https://localhost:8080/"
    },
    "executionInfo": {
     "elapsed": 1167,
     "status": "ok",
     "timestamp": 1688959069344,
     "user": {
      "displayName": "Lili Morones",
      "userId": "03662130427026750805"
     },
     "user_tz": 360
    },
    "id": "YUfYbq81zfLU",
    "outputId": "c828bd1e-8333-42a1-bfe6-4b00218cd1ec"
   },
   "outputs": [
    {
     "data": {
      "text/plain": [
       "Index(['CLUES', 'DIAS_ESTA', 'EDAD', 'DERHAB', 'MUNIC', 'PROCED', 'DIAG_INI',\n",
       "       'AFECPRIN', 'CAUSAEXT', 'MOTEGRE', 'NUMPROMED', 'NUMAFEC', 'CAT_EDAD',\n",
       "       'CAT_DIASESTA', 'MAL_DIAG', 'ANEST_GRAL', 'QUIRURGICO', 'INGRE_DIA',\n",
       "       'INGRE_MES', 'INGRE_ANIO', 'SEXO_M', 'VEZ_SUBSECUENTE',\n",
       "       'TIPSERV_NORMAL', 'INFEC_SI', 'DIABETES_SI', 'HIPERTENSION_SI',\n",
       "       'OBESIDAD_SI'],\n",
       "      dtype='object')"
      ]
     },
     "execution_count": 201,
     "metadata": {},
     "output_type": "execute_result"
    }
   ],
   "source": [
    "egresos3.columns"
   ]
  },
  {
   "cell_type": "markdown",
   "metadata": {
    "id": "C-sG8rWC3vsg"
   },
   "source": [
    "###Jenkspy"
   ]
  },
  {
   "cell_type": "code",
   "execution_count": null,
   "metadata": {
    "colab": {
     "base_uri": "https://localhost:8080/"
    },
    "executionInfo": {
     "elapsed": 5292,
     "status": "ok",
     "timestamp": 1689648096974,
     "user": {
      "displayName": "Lili Morones",
      "userId": "03662130427026750805"
     },
     "user_tz": 360
    },
    "id": "6m2aVPpB331X",
    "outputId": "c2a5afc4-92d6-4193-ceb6-8ee599e69c14"
   },
   "outputs": [
    {
     "name": "stdout",
     "output_type": "stream",
     "text": [
      "Collecting jenkspy\n",
      "  Downloading jenkspy-0.3.3-cp310-cp310-manylinux_2_17_x86_64.manylinux2014_x86_64.whl (523 kB)\n",
      "\u001b[?25l     \u001b[90m━━━━━━━━━━━━━━━━━━━━━━━━━━━━━━━━━━━━━━━━\u001b[0m \u001b[32m0.0/523.3 kB\u001b[0m \u001b[31m?\u001b[0m eta \u001b[36m-:--:--\u001b[0m\r",
      "\u001b[2K     \u001b[91m━━━━━━━━━━━━━━━━━━━━━━━━━━━━━━━━━━━━━\u001b[0m\u001b[91m╸\u001b[0m \u001b[32m522.2/523.3 kB\u001b[0m \u001b[31m20.5 MB/s\u001b[0m eta \u001b[36m0:00:01\u001b[0m\r",
      "\u001b[2K     \u001b[90m━━━━━━━━━━━━━━━━━━━━━━━━━━━━━━━━━━━━━━\u001b[0m \u001b[32m523.3/523.3 kB\u001b[0m \u001b[31m14.0 MB/s\u001b[0m eta \u001b[36m0:00:00\u001b[0m\n",
      "\u001b[?25hRequirement already satisfied: numpy in /usr/local/lib/python3.10/dist-packages (from jenkspy) (1.22.4)\n",
      "Installing collected packages: jenkspy\n",
      "Successfully installed jenkspy-0.3.3\n"
     ]
    }
   ],
   "source": [
    "!pip install jenkspy"
   ]
  },
  {
   "cell_type": "code",
   "execution_count": null,
   "metadata": {
    "colab": {
     "base_uri": "https://localhost:8080/",
     "height": 177
    },
    "executionInfo": {
     "elapsed": 527659,
     "status": "ok",
     "timestamp": 1689648628217,
     "user": {
      "displayName": "Lili Morones",
      "userId": "03662130427026750805"
     },
     "user_tz": 360
    },
    "id": "KQck3nrf7Q9S",
    "outputId": "eb5b3e13-55ba-40ca-e28f-1a02cf390e19"
   },
   "outputs": [
    {
     "name": "stdout",
     "output_type": "stream",
     "text": [
      "[0 0 0 ... 0 1 0]\n",
      "[array([1, 1, 1, ..., 1, 1, 1]), array([ 8,  7,  7, ..., 11, 12,  9]), array([30, 31, 32, ..., 59, 74, 32]), array([160, 369, 365, 371, 368, 366, 183, 177, 164, 168, 283, 221, 372,\n",
      "       225, 368, 365, 274, 448, 346, 172, 368, 210, 218, 321, 365, 170,\n",
      "       181, 218, 184, 175, 209, 178, 204, 172, 323]), array([1838,  743, 1096, 1098,  783, 1110, 1096])]\n",
      "[0, 6, 26, 150, 448, 1838]\n",
      "[6, 26, 150, 448]\n"
     ]
    },
    {
     "data": {
      "application/vnd.google.colaboratory.intrinsic+json": {
       "type": "string"
      },
      "text/plain": [
       "'print(jnb.predict(15)) # Predict the group of a value\\nprint(jnb.predict([2.5, 3.5, 6.5])) # Predict the group of several values\\nprint(jnb.group([2.5, 3.5, 6.5])) # Group the elements into there groups'"
      ]
     },
     "execution_count": 40,
     "metadata": {},
     "output_type": "execute_result"
    }
   ],
   "source": [
    "from jenkspy import JenksNaturalBreaks\n",
    "\n",
    "jnb = JenksNaturalBreaks(5) # Asking for 5 clusters\n",
    "\n",
    "jnb.fit(df['DIAS_ESTA']) # Create the clusters according to values in 'DIAS_ESTA'\n",
    "print(jnb.labels_) # Labels for fitted data\n",
    "print(jnb.groups_) # Content of each group\n",
    "print(jnb.breaks_) # Break values (including min and max)\n",
    "print(jnb.inner_breaks_) # Inner breaks (ie breaks_[1:-1])\n",
    "\n",
    "\"\"\"print(jnb.predict(15)) # Predict the group of a value\n",
    "print(jnb.predict([2.5, 3.5, 6.5])) # Predict the group of several values\n",
    "print(jnb.group([2.5, 3.5, 6.5])) # Group the elements into there groups\"\"\""
   ]
  },
  {
   "cell_type": "code",
   "execution_count": null,
   "metadata": {
    "id": "peobnbmF-NLb"
   },
   "outputs": [],
   "source": [
    "df['DIAS_LABEL'] = jnb.labels_\n",
    "df.drop(['DIAS_ESTA'], axis = 1, inplace = True)"
   ]
  },
  {
   "cell_type": "code",
   "execution_count": null,
   "metadata": {
    "id": "lmyIAbKQ-r3q"
   },
   "outputs": [],
   "source": [
    "X = df.drop(['DIAS_LABEL'], axis = 1)\n",
    "y = df['DIAS_LABEL']"
   ]
  },
  {
   "cell_type": "code",
   "execution_count": null,
   "metadata": {
    "id": "NPBRd6m0-1bJ"
   },
   "outputs": [],
   "source": [
    "parametros_xgb = {\n",
    "    'n_estimators': 500,  # Número de árboles en el modelo\n",
    "    'learning_rate': 0.3,  # Tasa de aprendizaje\n",
    "    'max_depth': 5,  # Profundidad máxima de cada árbol\n",
    "    #'subsample': 1,  # Proporción de muestras utilizadas para entrenar cada árbol\n",
    "    #'colsample_bytree': 1,  # Proporción de características utilizadas para entrenar cada árbol\n",
    "    #'gamma': 0,  # Valor de corte mínimo para dividir un nodo\n",
    "    'random_state': 42,  # Semilla aleatoria para reproducibilidad\n",
    "}"
   ]
  },
  {
   "cell_type": "code",
   "execution_count": null,
   "metadata": {
    "id": "5cmEj_xN4U8F"
   },
   "outputs": [],
   "source": [
    "#modelo = XGBRegressor(**parametros_xgb)\n",
    "modelo = XGBClassifier(**parametros_xgb)"
   ]
  },
  {
   "cell_type": "code",
   "execution_count": null,
   "metadata": {
    "colab": {
     "base_uri": "https://localhost:8080/",
     "height": 311
    },
    "executionInfo": {
     "elapsed": 3025623,
     "status": "error",
     "timestamp": 1689651700869,
     "user": {
      "displayName": "Lili Morones",
      "userId": "03662130427026750805"
     },
     "user_tz": 360
    },
    "id": "1RmLgssw4Jy_",
    "outputId": "ad4bd727-fe92-4135-8564-45e0a7e74f92"
   },
   "outputs": [
    {
     "ename": "KeyboardInterrupt",
     "evalue": "ignored",
     "output_type": "error",
     "traceback": [
      "\u001b[0;31m---------------------------------------------------------------------------\u001b[0m",
      "\u001b[0;31mKeyboardInterrupt\u001b[0m                         Traceback (most recent call last)",
      "\u001b[0;32m<ipython-input-45-30d2292354e5>\u001b[0m in \u001b[0;36m<cell line: 1>\u001b[0;34m()\u001b[0m\n\u001b[0;32m----> 1\u001b[0;31m \u001b[0mmodelo_clas\u001b[0m\u001b[0;34m(\u001b[0m\u001b[0mdf\u001b[0m\u001b[0;34m,\u001b[0m \u001b[0;34m'DIAS_LABEL'\u001b[0m\u001b[0;34m,\u001b[0m \u001b[0mmodelo\u001b[0m\u001b[0;34m)\u001b[0m\u001b[0;34m\u001b[0m\u001b[0;34m\u001b[0m\u001b[0m\n\u001b[0m",
      "\u001b[0;32m<ipython-input-16-e14936681417>\u001b[0m in \u001b[0;36mmodelo_clas\u001b[0;34m(data, objetivo, modelo, train_size, cv)\u001b[0m\n\u001b[1;32m     38\u001b[0m             )\n\u001b[1;32m     39\u001b[0m     \u001b[0;31m#Mostrar métricas de evaluación\u001b[0m\u001b[0;34m\u001b[0m\u001b[0;34m\u001b[0m\u001b[0m\n\u001b[0;32m---> 40\u001b[0;31m     \u001b[0mcv_scores\u001b[0m \u001b[0;34m=\u001b[0m \u001b[0mcross_val_score\u001b[0m\u001b[0;34m(\u001b[0m\u001b[0mmodelo\u001b[0m\u001b[0;34m,\u001b[0m \u001b[0mX_train\u001b[0m\u001b[0;34m,\u001b[0m \u001b[0my_train\u001b[0m\u001b[0;34m,\u001b[0m \u001b[0mcv\u001b[0m\u001b[0;34m=\u001b[0m\u001b[0mcv\u001b[0m\u001b[0;34m,\u001b[0m \u001b[0mscoring\u001b[0m\u001b[0;34m=\u001b[0m\u001b[0;34m\"accuracy\"\u001b[0m\u001b[0;34m)\u001b[0m \u001b[0;31m# Realizar validación cruzada y mostrar las métricas promedio\u001b[0m\u001b[0;34m\u001b[0m\u001b[0;34m\u001b[0m\u001b[0m\n\u001b[0m\u001b[1;32m     41\u001b[0m     \u001b[0mprint\u001b[0m\u001b[0;34m(\u001b[0m\u001b[0;34mf\"Validación cruzada (exactitud): {100*cv_scores.mean()}% \\n\"\u001b[0m\u001b[0;34m)\u001b[0m\u001b[0;34m\u001b[0m\u001b[0;34m\u001b[0m\u001b[0m\n\u001b[1;32m     42\u001b[0m     \u001b[0mprint\u001b[0m\u001b[0;34m(\u001b[0m\u001b[0;34mf'Matriz de confusión: \\n {cm} \\n'\u001b[0m\u001b[0;34m)\u001b[0m\u001b[0;34m\u001b[0m\u001b[0;34m\u001b[0m\u001b[0m\n",
      "\u001b[0;32m/usr/local/lib/python3.10/dist-packages/sklearn/model_selection/_validation.py\u001b[0m in \u001b[0;36mcross_val_score\u001b[0;34m(estimator, X, y, groups, scoring, cv, n_jobs, verbose, fit_params, pre_dispatch, error_score)\u001b[0m\n\u001b[1;32m    513\u001b[0m     \u001b[0mscorer\u001b[0m \u001b[0;34m=\u001b[0m \u001b[0mcheck_scoring\u001b[0m\u001b[0;34m(\u001b[0m\u001b[0mestimator\u001b[0m\u001b[0;34m,\u001b[0m \u001b[0mscoring\u001b[0m\u001b[0;34m=\u001b[0m\u001b[0mscoring\u001b[0m\u001b[0;34m)\u001b[0m\u001b[0;34m\u001b[0m\u001b[0;34m\u001b[0m\u001b[0m\n\u001b[1;32m    514\u001b[0m \u001b[0;34m\u001b[0m\u001b[0m\n\u001b[0;32m--> 515\u001b[0;31m     cv_results = cross_validate(\n\u001b[0m\u001b[1;32m    516\u001b[0m         \u001b[0mestimator\u001b[0m\u001b[0;34m=\u001b[0m\u001b[0mestimator\u001b[0m\u001b[0;34m,\u001b[0m\u001b[0;34m\u001b[0m\u001b[0;34m\u001b[0m\u001b[0m\n\u001b[1;32m    517\u001b[0m         \u001b[0mX\u001b[0m\u001b[0;34m=\u001b[0m\u001b[0mX\u001b[0m\u001b[0;34m,\u001b[0m\u001b[0;34m\u001b[0m\u001b[0;34m\u001b[0m\u001b[0m\n",
      "\u001b[0;32m/usr/local/lib/python3.10/dist-packages/sklearn/model_selection/_validation.py\u001b[0m in \u001b[0;36mcross_validate\u001b[0;34m(estimator, X, y, groups, scoring, cv, n_jobs, verbose, fit_params, pre_dispatch, return_train_score, return_estimator, error_score)\u001b[0m\n\u001b[1;32m    264\u001b[0m     \u001b[0;31m# independent, and that it is pickle-able.\u001b[0m\u001b[0;34m\u001b[0m\u001b[0;34m\u001b[0m\u001b[0m\n\u001b[1;32m    265\u001b[0m     \u001b[0mparallel\u001b[0m \u001b[0;34m=\u001b[0m \u001b[0mParallel\u001b[0m\u001b[0;34m(\u001b[0m\u001b[0mn_jobs\u001b[0m\u001b[0;34m=\u001b[0m\u001b[0mn_jobs\u001b[0m\u001b[0;34m,\u001b[0m \u001b[0mverbose\u001b[0m\u001b[0;34m=\u001b[0m\u001b[0mverbose\u001b[0m\u001b[0;34m,\u001b[0m \u001b[0mpre_dispatch\u001b[0m\u001b[0;34m=\u001b[0m\u001b[0mpre_dispatch\u001b[0m\u001b[0;34m)\u001b[0m\u001b[0;34m\u001b[0m\u001b[0;34m\u001b[0m\u001b[0m\n\u001b[0;32m--> 266\u001b[0;31m     results = parallel(\n\u001b[0m\u001b[1;32m    267\u001b[0m         delayed(_fit_and_score)(\n\u001b[1;32m    268\u001b[0m             \u001b[0mclone\u001b[0m\u001b[0;34m(\u001b[0m\u001b[0mestimator\u001b[0m\u001b[0;34m)\u001b[0m\u001b[0;34m,\u001b[0m\u001b[0;34m\u001b[0m\u001b[0;34m\u001b[0m\u001b[0m\n",
      "\u001b[0;32m/usr/local/lib/python3.10/dist-packages/sklearn/utils/parallel.py\u001b[0m in \u001b[0;36m__call__\u001b[0;34m(self, iterable)\u001b[0m\n\u001b[1;32m     61\u001b[0m             \u001b[0;32mfor\u001b[0m \u001b[0mdelayed_func\u001b[0m\u001b[0;34m,\u001b[0m \u001b[0margs\u001b[0m\u001b[0;34m,\u001b[0m \u001b[0mkwargs\u001b[0m \u001b[0;32min\u001b[0m \u001b[0miterable\u001b[0m\u001b[0;34m\u001b[0m\u001b[0;34m\u001b[0m\u001b[0m\n\u001b[1;32m     62\u001b[0m         )\n\u001b[0;32m---> 63\u001b[0;31m         \u001b[0;32mreturn\u001b[0m \u001b[0msuper\u001b[0m\u001b[0;34m(\u001b[0m\u001b[0;34m)\u001b[0m\u001b[0;34m.\u001b[0m\u001b[0m__call__\u001b[0m\u001b[0;34m(\u001b[0m\u001b[0miterable_with_config\u001b[0m\u001b[0;34m)\u001b[0m\u001b[0;34m\u001b[0m\u001b[0;34m\u001b[0m\u001b[0m\n\u001b[0m\u001b[1;32m     64\u001b[0m \u001b[0;34m\u001b[0m\u001b[0m\n\u001b[1;32m     65\u001b[0m \u001b[0;34m\u001b[0m\u001b[0m\n",
      "\u001b[0;32m/usr/local/lib/python3.10/dist-packages/joblib/parallel.py\u001b[0m in \u001b[0;36m__call__\u001b[0;34m(self, iterable)\u001b[0m\n\u001b[1;32m   1853\u001b[0m             \u001b[0moutput\u001b[0m \u001b[0;34m=\u001b[0m \u001b[0mself\u001b[0m\u001b[0;34m.\u001b[0m\u001b[0m_get_sequential_output\u001b[0m\u001b[0;34m(\u001b[0m\u001b[0miterable\u001b[0m\u001b[0;34m)\u001b[0m\u001b[0;34m\u001b[0m\u001b[0;34m\u001b[0m\u001b[0m\n\u001b[1;32m   1854\u001b[0m             \u001b[0mnext\u001b[0m\u001b[0;34m(\u001b[0m\u001b[0moutput\u001b[0m\u001b[0;34m)\u001b[0m\u001b[0;34m\u001b[0m\u001b[0;34m\u001b[0m\u001b[0m\n\u001b[0;32m-> 1855\u001b[0;31m             \u001b[0;32mreturn\u001b[0m \u001b[0moutput\u001b[0m \u001b[0;32mif\u001b[0m \u001b[0mself\u001b[0m\u001b[0;34m.\u001b[0m\u001b[0mreturn_generator\u001b[0m \u001b[0;32melse\u001b[0m \u001b[0mlist\u001b[0m\u001b[0;34m(\u001b[0m\u001b[0moutput\u001b[0m\u001b[0;34m)\u001b[0m\u001b[0;34m\u001b[0m\u001b[0;34m\u001b[0m\u001b[0m\n\u001b[0m\u001b[1;32m   1856\u001b[0m \u001b[0;34m\u001b[0m\u001b[0m\n\u001b[1;32m   1857\u001b[0m         \u001b[0;31m# Let's create an ID that uniquely identifies the current call. If the\u001b[0m\u001b[0;34m\u001b[0m\u001b[0;34m\u001b[0m\u001b[0m\n",
      "\u001b[0;32m/usr/local/lib/python3.10/dist-packages/joblib/parallel.py\u001b[0m in \u001b[0;36m_get_sequential_output\u001b[0;34m(self, iterable)\u001b[0m\n\u001b[1;32m   1782\u001b[0m                 \u001b[0mself\u001b[0m\u001b[0;34m.\u001b[0m\u001b[0mn_dispatched_batches\u001b[0m \u001b[0;34m+=\u001b[0m \u001b[0;36m1\u001b[0m\u001b[0;34m\u001b[0m\u001b[0;34m\u001b[0m\u001b[0m\n\u001b[1;32m   1783\u001b[0m                 \u001b[0mself\u001b[0m\u001b[0;34m.\u001b[0m\u001b[0mn_dispatched_tasks\u001b[0m \u001b[0;34m+=\u001b[0m \u001b[0;36m1\u001b[0m\u001b[0;34m\u001b[0m\u001b[0;34m\u001b[0m\u001b[0m\n\u001b[0;32m-> 1784\u001b[0;31m                 \u001b[0mres\u001b[0m \u001b[0;34m=\u001b[0m \u001b[0mfunc\u001b[0m\u001b[0;34m(\u001b[0m\u001b[0;34m*\u001b[0m\u001b[0margs\u001b[0m\u001b[0;34m,\u001b[0m \u001b[0;34m**\u001b[0m\u001b[0mkwargs\u001b[0m\u001b[0;34m)\u001b[0m\u001b[0;34m\u001b[0m\u001b[0;34m\u001b[0m\u001b[0m\n\u001b[0m\u001b[1;32m   1785\u001b[0m                 \u001b[0mself\u001b[0m\u001b[0;34m.\u001b[0m\u001b[0mn_completed_tasks\u001b[0m \u001b[0;34m+=\u001b[0m \u001b[0;36m1\u001b[0m\u001b[0;34m\u001b[0m\u001b[0;34m\u001b[0m\u001b[0m\n\u001b[1;32m   1786\u001b[0m                 \u001b[0mself\u001b[0m\u001b[0;34m.\u001b[0m\u001b[0mprint_progress\u001b[0m\u001b[0;34m(\u001b[0m\u001b[0;34m)\u001b[0m\u001b[0;34m\u001b[0m\u001b[0;34m\u001b[0m\u001b[0m\n",
      "\u001b[0;32m/usr/local/lib/python3.10/dist-packages/sklearn/utils/parallel.py\u001b[0m in \u001b[0;36m__call__\u001b[0;34m(self, *args, **kwargs)\u001b[0m\n\u001b[1;32m    121\u001b[0m             \u001b[0mconfig\u001b[0m \u001b[0;34m=\u001b[0m \u001b[0;34m{\u001b[0m\u001b[0;34m}\u001b[0m\u001b[0;34m\u001b[0m\u001b[0;34m\u001b[0m\u001b[0m\n\u001b[1;32m    122\u001b[0m         \u001b[0;32mwith\u001b[0m \u001b[0mconfig_context\u001b[0m\u001b[0;34m(\u001b[0m\u001b[0;34m**\u001b[0m\u001b[0mconfig\u001b[0m\u001b[0;34m)\u001b[0m\u001b[0;34m:\u001b[0m\u001b[0;34m\u001b[0m\u001b[0;34m\u001b[0m\u001b[0m\n\u001b[0;32m--> 123\u001b[0;31m             \u001b[0;32mreturn\u001b[0m \u001b[0mself\u001b[0m\u001b[0;34m.\u001b[0m\u001b[0mfunction\u001b[0m\u001b[0;34m(\u001b[0m\u001b[0;34m*\u001b[0m\u001b[0margs\u001b[0m\u001b[0;34m,\u001b[0m \u001b[0;34m**\u001b[0m\u001b[0mkwargs\u001b[0m\u001b[0;34m)\u001b[0m\u001b[0;34m\u001b[0m\u001b[0;34m\u001b[0m\u001b[0m\n\u001b[0m",
      "\u001b[0;32m/usr/local/lib/python3.10/dist-packages/sklearn/model_selection/_validation.py\u001b[0m in \u001b[0;36m_fit_and_score\u001b[0;34m(estimator, X, y, scorer, train, test, verbose, parameters, fit_params, return_train_score, return_parameters, return_n_test_samples, return_times, return_estimator, split_progress, candidate_progress, error_score)\u001b[0m\n\u001b[1;32m    684\u001b[0m             \u001b[0mestimator\u001b[0m\u001b[0;34m.\u001b[0m\u001b[0mfit\u001b[0m\u001b[0;34m(\u001b[0m\u001b[0mX_train\u001b[0m\u001b[0;34m,\u001b[0m \u001b[0;34m**\u001b[0m\u001b[0mfit_params\u001b[0m\u001b[0;34m)\u001b[0m\u001b[0;34m\u001b[0m\u001b[0;34m\u001b[0m\u001b[0m\n\u001b[1;32m    685\u001b[0m         \u001b[0;32melse\u001b[0m\u001b[0;34m:\u001b[0m\u001b[0;34m\u001b[0m\u001b[0;34m\u001b[0m\u001b[0m\n\u001b[0;32m--> 686\u001b[0;31m             \u001b[0mestimator\u001b[0m\u001b[0;34m.\u001b[0m\u001b[0mfit\u001b[0m\u001b[0;34m(\u001b[0m\u001b[0mX_train\u001b[0m\u001b[0;34m,\u001b[0m \u001b[0my_train\u001b[0m\u001b[0;34m,\u001b[0m \u001b[0;34m**\u001b[0m\u001b[0mfit_params\u001b[0m\u001b[0;34m)\u001b[0m\u001b[0;34m\u001b[0m\u001b[0;34m\u001b[0m\u001b[0m\n\u001b[0m\u001b[1;32m    687\u001b[0m \u001b[0;34m\u001b[0m\u001b[0m\n\u001b[1;32m    688\u001b[0m     \u001b[0;32mexcept\u001b[0m \u001b[0mException\u001b[0m\u001b[0;34m:\u001b[0m\u001b[0;34m\u001b[0m\u001b[0;34m\u001b[0m\u001b[0m\n",
      "\u001b[0;32m/usr/local/lib/python3.10/dist-packages/xgboost/core.py\u001b[0m in \u001b[0;36minner_f\u001b[0;34m(*args, **kwargs)\u001b[0m\n\u001b[1;32m    618\u001b[0m             \u001b[0;32mfor\u001b[0m \u001b[0mk\u001b[0m\u001b[0;34m,\u001b[0m \u001b[0marg\u001b[0m \u001b[0;32min\u001b[0m \u001b[0mzip\u001b[0m\u001b[0;34m(\u001b[0m\u001b[0msig\u001b[0m\u001b[0;34m.\u001b[0m\u001b[0mparameters\u001b[0m\u001b[0;34m,\u001b[0m \u001b[0margs\u001b[0m\u001b[0;34m)\u001b[0m\u001b[0;34m:\u001b[0m\u001b[0;34m\u001b[0m\u001b[0;34m\u001b[0m\u001b[0m\n\u001b[1;32m    619\u001b[0m                 \u001b[0mkwargs\u001b[0m\u001b[0;34m[\u001b[0m\u001b[0mk\u001b[0m\u001b[0;34m]\u001b[0m \u001b[0;34m=\u001b[0m \u001b[0marg\u001b[0m\u001b[0;34m\u001b[0m\u001b[0;34m\u001b[0m\u001b[0m\n\u001b[0;32m--> 620\u001b[0;31m             \u001b[0;32mreturn\u001b[0m \u001b[0mfunc\u001b[0m\u001b[0;34m(\u001b[0m\u001b[0;34m**\u001b[0m\u001b[0mkwargs\u001b[0m\u001b[0;34m)\u001b[0m\u001b[0;34m\u001b[0m\u001b[0;34m\u001b[0m\u001b[0m\n\u001b[0m\u001b[1;32m    621\u001b[0m \u001b[0;34m\u001b[0m\u001b[0m\n\u001b[1;32m    622\u001b[0m         \u001b[0;32mreturn\u001b[0m \u001b[0minner_f\u001b[0m\u001b[0;34m\u001b[0m\u001b[0;34m\u001b[0m\u001b[0m\n",
      "\u001b[0;32m/usr/local/lib/python3.10/dist-packages/xgboost/sklearn.py\u001b[0m in \u001b[0;36mfit\u001b[0;34m(self, X, y, sample_weight, base_margin, eval_set, eval_metric, early_stopping_rounds, verbose, xgb_model, sample_weight_eval_set, base_margin_eval_set, feature_weights, callbacks)\u001b[0m\n\u001b[1;32m   1488\u001b[0m             )\n\u001b[1;32m   1489\u001b[0m \u001b[0;34m\u001b[0m\u001b[0m\n\u001b[0;32m-> 1490\u001b[0;31m             self._Booster = train(\n\u001b[0m\u001b[1;32m   1491\u001b[0m                 \u001b[0mparams\u001b[0m\u001b[0;34m,\u001b[0m\u001b[0;34m\u001b[0m\u001b[0;34m\u001b[0m\u001b[0m\n\u001b[1;32m   1492\u001b[0m                 \u001b[0mtrain_dmatrix\u001b[0m\u001b[0;34m,\u001b[0m\u001b[0;34m\u001b[0m\u001b[0;34m\u001b[0m\u001b[0m\n",
      "\u001b[0;32m/usr/local/lib/python3.10/dist-packages/xgboost/core.py\u001b[0m in \u001b[0;36minner_f\u001b[0;34m(*args, **kwargs)\u001b[0m\n\u001b[1;32m    618\u001b[0m             \u001b[0;32mfor\u001b[0m \u001b[0mk\u001b[0m\u001b[0;34m,\u001b[0m \u001b[0marg\u001b[0m \u001b[0;32min\u001b[0m \u001b[0mzip\u001b[0m\u001b[0;34m(\u001b[0m\u001b[0msig\u001b[0m\u001b[0;34m.\u001b[0m\u001b[0mparameters\u001b[0m\u001b[0;34m,\u001b[0m \u001b[0margs\u001b[0m\u001b[0;34m)\u001b[0m\u001b[0;34m:\u001b[0m\u001b[0;34m\u001b[0m\u001b[0;34m\u001b[0m\u001b[0m\n\u001b[1;32m    619\u001b[0m                 \u001b[0mkwargs\u001b[0m\u001b[0;34m[\u001b[0m\u001b[0mk\u001b[0m\u001b[0;34m]\u001b[0m \u001b[0;34m=\u001b[0m \u001b[0marg\u001b[0m\u001b[0;34m\u001b[0m\u001b[0;34m\u001b[0m\u001b[0m\n\u001b[0;32m--> 620\u001b[0;31m             \u001b[0;32mreturn\u001b[0m \u001b[0mfunc\u001b[0m\u001b[0;34m(\u001b[0m\u001b[0;34m**\u001b[0m\u001b[0mkwargs\u001b[0m\u001b[0;34m)\u001b[0m\u001b[0;34m\u001b[0m\u001b[0;34m\u001b[0m\u001b[0m\n\u001b[0m\u001b[1;32m    621\u001b[0m \u001b[0;34m\u001b[0m\u001b[0m\n\u001b[1;32m    622\u001b[0m         \u001b[0;32mreturn\u001b[0m \u001b[0minner_f\u001b[0m\u001b[0;34m\u001b[0m\u001b[0;34m\u001b[0m\u001b[0m\n",
      "\u001b[0;32m/usr/local/lib/python3.10/dist-packages/xgboost/training.py\u001b[0m in \u001b[0;36mtrain\u001b[0;34m(params, dtrain, num_boost_round, evals, obj, feval, maximize, early_stopping_rounds, evals_result, verbose_eval, xgb_model, callbacks, custom_metric)\u001b[0m\n\u001b[1;32m    183\u001b[0m         \u001b[0;32mif\u001b[0m \u001b[0mcb_container\u001b[0m\u001b[0;34m.\u001b[0m\u001b[0mbefore_iteration\u001b[0m\u001b[0;34m(\u001b[0m\u001b[0mbst\u001b[0m\u001b[0;34m,\u001b[0m \u001b[0mi\u001b[0m\u001b[0;34m,\u001b[0m \u001b[0mdtrain\u001b[0m\u001b[0;34m,\u001b[0m \u001b[0mevals\u001b[0m\u001b[0;34m)\u001b[0m\u001b[0;34m:\u001b[0m\u001b[0;34m\u001b[0m\u001b[0;34m\u001b[0m\u001b[0m\n\u001b[1;32m    184\u001b[0m             \u001b[0;32mbreak\u001b[0m\u001b[0;34m\u001b[0m\u001b[0;34m\u001b[0m\u001b[0m\n\u001b[0;32m--> 185\u001b[0;31m         \u001b[0mbst\u001b[0m\u001b[0;34m.\u001b[0m\u001b[0mupdate\u001b[0m\u001b[0;34m(\u001b[0m\u001b[0mdtrain\u001b[0m\u001b[0;34m,\u001b[0m \u001b[0mi\u001b[0m\u001b[0;34m,\u001b[0m \u001b[0mobj\u001b[0m\u001b[0;34m)\u001b[0m\u001b[0;34m\u001b[0m\u001b[0;34m\u001b[0m\u001b[0m\n\u001b[0m\u001b[1;32m    186\u001b[0m         \u001b[0;32mif\u001b[0m \u001b[0mcb_container\u001b[0m\u001b[0;34m.\u001b[0m\u001b[0mafter_iteration\u001b[0m\u001b[0;34m(\u001b[0m\u001b[0mbst\u001b[0m\u001b[0;34m,\u001b[0m \u001b[0mi\u001b[0m\u001b[0;34m,\u001b[0m \u001b[0mdtrain\u001b[0m\u001b[0;34m,\u001b[0m \u001b[0mevals\u001b[0m\u001b[0;34m)\u001b[0m\u001b[0;34m:\u001b[0m\u001b[0;34m\u001b[0m\u001b[0;34m\u001b[0m\u001b[0m\n\u001b[1;32m    187\u001b[0m             \u001b[0;32mbreak\u001b[0m\u001b[0;34m\u001b[0m\u001b[0;34m\u001b[0m\u001b[0m\n",
      "\u001b[0;32m/usr/local/lib/python3.10/dist-packages/xgboost/core.py\u001b[0m in \u001b[0;36mupdate\u001b[0;34m(self, dtrain, iteration, fobj)\u001b[0m\n\u001b[1;32m   1916\u001b[0m \u001b[0;34m\u001b[0m\u001b[0m\n\u001b[1;32m   1917\u001b[0m         \u001b[0;32mif\u001b[0m \u001b[0mfobj\u001b[0m \u001b[0;32mis\u001b[0m \u001b[0;32mNone\u001b[0m\u001b[0;34m:\u001b[0m\u001b[0;34m\u001b[0m\u001b[0;34m\u001b[0m\u001b[0m\n\u001b[0;32m-> 1918\u001b[0;31m             _check_call(_LIB.XGBoosterUpdateOneIter(self.handle,\n\u001b[0m\u001b[1;32m   1919\u001b[0m                                                     \u001b[0mctypes\u001b[0m\u001b[0;34m.\u001b[0m\u001b[0mc_int\u001b[0m\u001b[0;34m(\u001b[0m\u001b[0miteration\u001b[0m\u001b[0;34m)\u001b[0m\u001b[0;34m,\u001b[0m\u001b[0;34m\u001b[0m\u001b[0;34m\u001b[0m\u001b[0m\n\u001b[1;32m   1920\u001b[0m                                                     dtrain.handle))\n",
      "\u001b[0;31mKeyboardInterrupt\u001b[0m: "
     ]
    }
   ],
   "source": [
    "modelo_clas(df, 'DIAS_LABEL', modelo)"
   ]
  },
  {
   "cell_type": "code",
   "execution_count": null,
   "metadata": {
    "colab": {
     "base_uri": "https://localhost:8080/"
    },
    "executionInfo": {
     "elapsed": 175098,
     "status": "ok",
     "timestamp": 1689618188032,
     "user": {
      "displayName": "Lili Morones",
      "userId": "03662130427026750805"
     },
     "user_tz": 360
    },
    "id": "TgwQAWdx-1Xz",
    "outputId": "7e777c2f-b066-4075-9ecf-5c88f4c7c5bd"
   },
   "outputs": [
    {
     "name": "stdout",
     "output_type": "stream",
     "text": [
      "Mean Squared Error (MSE) 0.08\n",
      "Root Mean Squared Error (RMSE) 0.28\n",
      "Mean Absolute Error 0.14\n",
      "R2 Score 0.36\n"
     ]
    }
   ],
   "source": [
    "modelo_reg(df, 'DIAS_LABEL', modelo)"
   ]
  },
  {
   "cell_type": "markdown",
   "metadata": {
    "id": "qUi-XbIExUzs"
   },
   "source": [
    "## PCA"
   ]
  },
  {
   "cell_type": "markdown",
   "metadata": {
    "id": "bHXkZsJ6xd5W"
   },
   "source": [
    "Falta intentar PCA, entrenar gradient boosting, mover los parámetros para predecir los días de estancia, predecir con valores manuales, graficar los modelos"
   ]
  },
  {
   "cell_type": "code",
   "execution_count": null,
   "metadata": {
    "colab": {
     "base_uri": "https://localhost:8080/"
    },
    "executionInfo": {
     "elapsed": 24954,
     "status": "ok",
     "timestamp": 1689014792634,
     "user": {
      "displayName": "Lili Morones",
      "userId": "03662130427026750805"
     },
     "user_tz": 360
    },
    "id": "qRgCSWA5xWPr",
    "outputId": "a179897e-4bdc-4a12-c9b2-8f0874647540"
   },
   "outputs": [
    {
     "name": "stdout",
     "output_type": "stream",
     "text": [
      "Validación cruzada (exactitud): 90.14502303069082% \n",
      "\n",
      "Exactitud: 88.34053053670574% \n",
      "\n",
      "Matriz de confusión \n",
      ": [[1383  234]\n",
      " [ 144 1481]] \n",
      "\n",
      "Reporte de clasificación \n",
      ":               precision    recall  f1-score   support\n",
      "\n",
      "           0       0.91      0.86      0.88      1617\n",
      "           1       0.86      0.91      0.89      1625\n",
      "\n",
      "    accuracy                           0.88      3242\n",
      "   macro avg       0.88      0.88      0.88      3242\n",
      "weighted avg       0.88      0.88      0.88      3242\n",
      "\n"
     ]
    }
   ],
   "source": [
    "from sklearn.decomposition import PCA\n",
    "from sklearn.pipeline import Pipeline\n",
    "\n",
    "# Define el número de componentes principales deseado\n",
    "n_components = 12\n",
    "\n",
    "# Crea la tubería con PCA y el modelo Random Forest\n",
    "pipeline = Pipeline([\n",
    "    ('pca', PCA(n_components=n_components)),\n",
    "    ('rf', RandomForestClassifier(n_estimators = 300, max_depth = 5))\n",
    "])\n",
    "\n",
    "X = df2.drop(['MOTEGRE'], axis = 1)\n",
    "y = df2['MOTEGRE']\n",
    "\n",
    "X_train, X_test, y_train, y_test = train_test_split(X, y,\n",
    "                                                    train_size = 0.8,\n",
    "                                                    random_state = 42)\n",
    "# Entrena el modelo\n",
    "pipeline.fit(X_train, y_train)\n",
    "\n",
    "# Predice con el modelo entrenado\n",
    "pred = pipeline.predict(X_test)\n",
    "\n",
    "#Crear métricas de evaluación\n",
    "cm = confusion_matrix(y_test, pred)\n",
    "cr = classification_report(y_test, pred)\n",
    "accuracy = accuracy_score(\n",
    "        y_true    = y_test,\n",
    "        y_pred    = pred,\n",
    "        normalize = True\n",
    "        )\n",
    "#Mostrar méricas de evaluación\n",
    "# Realizar validación cruzada y mostrar las métricas promedio\n",
    "cv_scores = cross_val_score(modelo, X_train, y_train, cv=5, scoring=\"accuracy\")\n",
    "print(f\"Validación cruzada (exactitud): {100*cv_scores.mean()}% \\n\")\n",
    "print(f\"Exactitud: {100*accuracy}% \\n\")\n",
    "print(f'Matriz de confusión \\n: {cm} \\n')\n",
    "print(f'Reporte de clasificación \\n: {cr}')\n"
   ]
  }
 ],
 "metadata": {
  "colab": {
   "authorship_tag": "ABX9TyMjnhD+s6srQ8Al2/xlpbr+",
   "collapsed_sections": [
    "j5M_XRqPlFNh",
    "iNPjvx8LaxjB",
    "fEYY7IgBGWGu",
    "yUXk1Nb2OOa_",
    "z-Z-Hxj0m43O",
    "L5zZmKyqPcGV",
    "YqluHrFFZD3H",
    "j9IJXXmg-yfA",
    "XmKSgvYwrbBp",
    "qUi-XbIExUzs"
   ],
   "provenance": [],
   "toc_visible": true
  },
  "kernelspec": {
   "display_name": "Python 3 (ipykernel)",
   "language": "python",
   "name": "python3"
  },
  "language_info": {
   "codemirror_mode": {
    "name": "ipython",
    "version": 3
   },
   "file_extension": ".py",
   "mimetype": "text/x-python",
   "name": "python",
   "nbconvert_exporter": "python",
   "pygments_lexer": "ipython3",
   "version": "3.9.12"
  }
 },
 "nbformat": 4,
 "nbformat_minor": 1
}
