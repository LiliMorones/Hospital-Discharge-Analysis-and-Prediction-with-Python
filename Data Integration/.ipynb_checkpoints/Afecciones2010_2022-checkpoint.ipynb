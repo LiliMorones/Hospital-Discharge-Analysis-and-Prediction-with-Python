{
 "cells": [
  {
   "cell_type": "markdown",
   "id": "b68c170b",
   "metadata": {},
   "source": [
    "# Affections Data Integration 2010-2022"
   ]
  },
  {
   "cell_type": "markdown",
   "id": "69d92a5f",
   "metadata": {},
   "source": [
    "## Import libraries"
   ]
  },
  {
   "cell_type": "code",
   "execution_count": 1,
   "id": "563750b2",
   "metadata": {},
   "outputs": [],
   "source": [
    "import pandas as pd\n",
    "import numpy as np"
   ]
  },
  {
   "cell_type": "markdown",
   "id": "ddf31884",
   "metadata": {},
   "source": [
    "## Load databases from Affections"
   ]
  },
  {
   "cell_type": "code",
   "execution_count": 2,
   "id": "f2d45efe",
   "metadata": {},
   "outputs": [
    {
     "data": {
      "text/html": [
       "<div>\n",
       "<style scoped>\n",
       "    .dataframe tbody tr th:only-of-type {\n",
       "        vertical-align: middle;\n",
       "    }\n",
       "\n",
       "    .dataframe tbody tr th {\n",
       "        vertical-align: top;\n",
       "    }\n",
       "\n",
       "    .dataframe thead th {\n",
       "        text-align: right;\n",
       "    }\n",
       "</style>\n",
       "<table border=\"1\" class=\"dataframe\">\n",
       "  <thead>\n",
       "    <tr style=\"text-align: right;\">\n",
       "      <th></th>\n",
       "      <th>AFEC</th>\n",
       "      <th>NUMAFEC</th>\n",
       "      <th>ID2</th>\n",
       "    </tr>\n",
       "  </thead>\n",
       "  <tbody>\n",
       "    <tr>\n",
       "      <th>0</th>\n",
       "      <td>S029</td>\n",
       "      <td>2</td>\n",
       "      <td>399</td>\n",
       "    </tr>\n",
       "    <tr>\n",
       "      <th>1</th>\n",
       "      <td>S529</td>\n",
       "      <td>3</td>\n",
       "      <td>399</td>\n",
       "    </tr>\n",
       "    <tr>\n",
       "      <th>2</th>\n",
       "      <td>I10X</td>\n",
       "      <td>1</td>\n",
       "      <td>399</td>\n",
       "    </tr>\n",
       "    <tr>\n",
       "      <th>3</th>\n",
       "      <td>Z301</td>\n",
       "      <td>1</td>\n",
       "      <td>25245</td>\n",
       "    </tr>\n",
       "    <tr>\n",
       "      <th>4</th>\n",
       "      <td>Z301</td>\n",
       "      <td>1</td>\n",
       "      <td>25569</td>\n",
       "    </tr>\n",
       "  </tbody>\n",
       "</table>\n",
       "</div>"
      ],
      "text/plain": [
       "   AFEC  NUMAFEC    ID2\n",
       "0  S029        2    399\n",
       "1  S529        3    399\n",
       "2  I10X        1    399\n",
       "3  Z301        1  25245\n",
       "4  Z301        1  25569"
      ]
     },
     "execution_count": 2,
     "metadata": {},
     "output_type": "execute_result"
    }
   ],
   "source": [
    "file = '../../Data/Databases/Data Integration/afecciones2010_2013.csv'\n",
    "a10_13 = pd.read_csv(file, on_bad_lines='skip')\n",
    "a10_13.head()"
   ]
  },
  {
   "cell_type": "code",
   "execution_count": 3,
   "id": "0c97dc06",
   "metadata": {},
   "outputs": [
    {
     "data": {
      "text/html": [
       "<div>\n",
       "<style scoped>\n",
       "    .dataframe tbody tr th:only-of-type {\n",
       "        vertical-align: middle;\n",
       "    }\n",
       "\n",
       "    .dataframe tbody tr th {\n",
       "        vertical-align: top;\n",
       "    }\n",
       "\n",
       "    .dataframe thead th {\n",
       "        text-align: right;\n",
       "    }\n",
       "</style>\n",
       "<table border=\"1\" class=\"dataframe\">\n",
       "  <thead>\n",
       "    <tr style=\"text-align: right;\">\n",
       "      <th></th>\n",
       "      <th>AFEC</th>\n",
       "      <th>NUMAFEC</th>\n",
       "      <th>ID2</th>\n",
       "    </tr>\n",
       "  </thead>\n",
       "  <tbody>\n",
       "    <tr>\n",
       "      <th>0</th>\n",
       "      <td>K802</td>\n",
       "      <td>1</td>\n",
       "      <td>108995</td>\n",
       "    </tr>\n",
       "    <tr>\n",
       "      <th>1</th>\n",
       "      <td>K810</td>\n",
       "      <td>2</td>\n",
       "      <td>108995</td>\n",
       "    </tr>\n",
       "    <tr>\n",
       "      <th>2</th>\n",
       "      <td>A099</td>\n",
       "      <td>1</td>\n",
       "      <td>108377</td>\n",
       "    </tr>\n",
       "    <tr>\n",
       "      <th>3</th>\n",
       "      <td>E86X</td>\n",
       "      <td>2</td>\n",
       "      <td>108377</td>\n",
       "    </tr>\n",
       "    <tr>\n",
       "      <th>4</th>\n",
       "      <td>E119</td>\n",
       "      <td>1</td>\n",
       "      <td>108380</td>\n",
       "    </tr>\n",
       "  </tbody>\n",
       "</table>\n",
       "</div>"
      ],
      "text/plain": [
       "   AFEC  NUMAFEC     ID2\n",
       "0  K802        1  108995\n",
       "1  K810        2  108995\n",
       "2  A099        1  108377\n",
       "3  E86X        2  108377\n",
       "4  E119        1  108380"
      ]
     },
     "execution_count": 3,
     "metadata": {},
     "output_type": "execute_result"
    }
   ],
   "source": [
    "file = '../../Data/Databases/Data Integration/afecciones2014_2015.csv'\n",
    "a14_15 = pd.read_csv(file, on_bad_lines='skip')\n",
    "a14_15.head()"
   ]
  },
  {
   "cell_type": "code",
   "execution_count": 4,
   "id": "b5724df0",
   "metadata": {},
   "outputs": [
    {
     "data": {
      "text/html": [
       "<div>\n",
       "<style scoped>\n",
       "    .dataframe tbody tr th:only-of-type {\n",
       "        vertical-align: middle;\n",
       "    }\n",
       "\n",
       "    .dataframe tbody tr th {\n",
       "        vertical-align: top;\n",
       "    }\n",
       "\n",
       "    .dataframe thead th {\n",
       "        text-align: right;\n",
       "    }\n",
       "</style>\n",
       "<table border=\"1\" class=\"dataframe\">\n",
       "  <thead>\n",
       "    <tr style=\"text-align: right;\">\n",
       "      <th></th>\n",
       "      <th>AFEC</th>\n",
       "      <th>NUMAFEC</th>\n",
       "      <th>ID2</th>\n",
       "    </tr>\n",
       "  </thead>\n",
       "  <tbody>\n",
       "    <tr>\n",
       "      <th>0</th>\n",
       "      <td>N185</td>\n",
       "      <td>1</td>\n",
       "      <td>161767</td>\n",
       "    </tr>\n",
       "    <tr>\n",
       "      <th>1</th>\n",
       "      <td>N185</td>\n",
       "      <td>1</td>\n",
       "      <td>161768</td>\n",
       "    </tr>\n",
       "    <tr>\n",
       "      <th>2</th>\n",
       "      <td>N185</td>\n",
       "      <td>1</td>\n",
       "      <td>161769</td>\n",
       "    </tr>\n",
       "    <tr>\n",
       "      <th>3</th>\n",
       "      <td>N185</td>\n",
       "      <td>1</td>\n",
       "      <td>161770</td>\n",
       "    </tr>\n",
       "    <tr>\n",
       "      <th>4</th>\n",
       "      <td>N185</td>\n",
       "      <td>1</td>\n",
       "      <td>161771</td>\n",
       "    </tr>\n",
       "  </tbody>\n",
       "</table>\n",
       "</div>"
      ],
      "text/plain": [
       "   AFEC  NUMAFEC     ID2\n",
       "0  N185        1  161767\n",
       "1  N185        1  161768\n",
       "2  N185        1  161769\n",
       "3  N185        1  161770\n",
       "4  N185        1  161771"
      ]
     },
     "execution_count": 4,
     "metadata": {},
     "output_type": "execute_result"
    }
   ],
   "source": [
    "file = '../../Data/Databases/Data Integration/afecciones2016_2017.csv'\n",
    "a16_17 = pd.read_csv(file, on_bad_lines='skip')\n",
    "a16_17.head()"
   ]
  },
  {
   "cell_type": "code",
   "execution_count": 5,
   "id": "be37d50b",
   "metadata": {},
   "outputs": [
    {
     "data": {
      "text/html": [
       "<div>\n",
       "<style scoped>\n",
       "    .dataframe tbody tr th:only-of-type {\n",
       "        vertical-align: middle;\n",
       "    }\n",
       "\n",
       "    .dataframe tbody tr th {\n",
       "        vertical-align: top;\n",
       "    }\n",
       "\n",
       "    .dataframe thead th {\n",
       "        text-align: right;\n",
       "    }\n",
       "</style>\n",
       "<table border=\"1\" class=\"dataframe\">\n",
       "  <thead>\n",
       "    <tr style=\"text-align: right;\">\n",
       "      <th></th>\n",
       "      <th>AFEC</th>\n",
       "      <th>NUMAFEC</th>\n",
       "      <th>ID2</th>\n",
       "    </tr>\n",
       "  </thead>\n",
       "  <tbody>\n",
       "    <tr>\n",
       "      <th>0</th>\n",
       "      <td>K409</td>\n",
       "      <td>1</td>\n",
       "      <td>213685</td>\n",
       "    </tr>\n",
       "    <tr>\n",
       "      <th>1</th>\n",
       "      <td>Q379</td>\n",
       "      <td>1</td>\n",
       "      <td>218203</td>\n",
       "    </tr>\n",
       "    <tr>\n",
       "      <th>2</th>\n",
       "      <td>H259</td>\n",
       "      <td>1</td>\n",
       "      <td>219671</td>\n",
       "    </tr>\n",
       "    <tr>\n",
       "      <th>3</th>\n",
       "      <td>K409</td>\n",
       "      <td>1</td>\n",
       "      <td>220424</td>\n",
       "    </tr>\n",
       "    <tr>\n",
       "      <th>4</th>\n",
       "      <td>H509</td>\n",
       "      <td>1</td>\n",
       "      <td>214441</td>\n",
       "    </tr>\n",
       "  </tbody>\n",
       "</table>\n",
       "</div>"
      ],
      "text/plain": [
       "   AFEC  NUMAFEC     ID2\n",
       "0  K409        1  213685\n",
       "1  Q379        1  218203\n",
       "2  H259        1  219671\n",
       "3  K409        1  220424\n",
       "4  H509        1  214441"
      ]
     },
     "execution_count": 5,
     "metadata": {},
     "output_type": "execute_result"
    }
   ],
   "source": [
    "file = '../../Data/Databases/Data Integration/afecciones2018_2019.csv'\n",
    "a18_19 = pd.read_csv(file, on_bad_lines='skip')\n",
    "a18_19.head()"
   ]
  },
  {
   "cell_type": "code",
   "execution_count": 6,
   "id": "076ba176",
   "metadata": {},
   "outputs": [
    {
     "data": {
      "text/html": [
       "<div>\n",
       "<style scoped>\n",
       "    .dataframe tbody tr th:only-of-type {\n",
       "        vertical-align: middle;\n",
       "    }\n",
       "\n",
       "    .dataframe tbody tr th {\n",
       "        vertical-align: top;\n",
       "    }\n",
       "\n",
       "    .dataframe thead th {\n",
       "        text-align: right;\n",
       "    }\n",
       "</style>\n",
       "<table border=\"1\" class=\"dataframe\">\n",
       "  <thead>\n",
       "    <tr style=\"text-align: right;\">\n",
       "      <th></th>\n",
       "      <th>AFEC</th>\n",
       "      <th>NUMAFEC</th>\n",
       "      <th>ID2</th>\n",
       "    </tr>\n",
       "  </thead>\n",
       "  <tbody>\n",
       "    <tr>\n",
       "      <th>0</th>\n",
       "      <td>E46X</td>\n",
       "      <td>3</td>\n",
       "      <td>257904</td>\n",
       "    </tr>\n",
       "    <tr>\n",
       "      <th>1</th>\n",
       "      <td>G934</td>\n",
       "      <td>4</td>\n",
       "      <td>257904</td>\n",
       "    </tr>\n",
       "    <tr>\n",
       "      <th>2</th>\n",
       "      <td>K922</td>\n",
       "      <td>5</td>\n",
       "      <td>257904</td>\n",
       "    </tr>\n",
       "    <tr>\n",
       "      <th>3</th>\n",
       "      <td>N179</td>\n",
       "      <td>6</td>\n",
       "      <td>257904</td>\n",
       "    </tr>\n",
       "    <tr>\n",
       "      <th>4</th>\n",
       "      <td>R18X</td>\n",
       "      <td>7</td>\n",
       "      <td>257904</td>\n",
       "    </tr>\n",
       "  </tbody>\n",
       "</table>\n",
       "</div>"
      ],
      "text/plain": [
       "   AFEC  NUMAFEC     ID2\n",
       "0  E46X        3  257904\n",
       "1  G934        4  257904\n",
       "2  K922        5  257904\n",
       "3  N179        6  257904\n",
       "4  R18X        7  257904"
      ]
     },
     "execution_count": 6,
     "metadata": {},
     "output_type": "execute_result"
    }
   ],
   "source": [
    "file = '../../Data/Databases/Data Integration/afecciones2020_2021.csv'\n",
    "a20_21 = pd.read_csv(file, on_bad_lines='skip')\n",
    "a20_21.head()"
   ]
  },
  {
   "cell_type": "code",
   "execution_count": 7,
   "id": "df48d1cb",
   "metadata": {},
   "outputs": [
    {
     "data": {
      "text/html": [
       "<div>\n",
       "<style scoped>\n",
       "    .dataframe tbody tr th:only-of-type {\n",
       "        vertical-align: middle;\n",
       "    }\n",
       "\n",
       "    .dataframe tbody tr th {\n",
       "        vertical-align: top;\n",
       "    }\n",
       "\n",
       "    .dataframe thead th {\n",
       "        text-align: right;\n",
       "    }\n",
       "</style>\n",
       "<table border=\"1\" class=\"dataframe\">\n",
       "  <thead>\n",
       "    <tr style=\"text-align: right;\">\n",
       "      <th></th>\n",
       "      <th>AFEC</th>\n",
       "      <th>NUMAFEC</th>\n",
       "      <th>ID2</th>\n",
       "    </tr>\n",
       "  </thead>\n",
       "  <tbody>\n",
       "    <tr>\n",
       "      <th>0</th>\n",
       "      <td>U071</td>\n",
       "      <td>1</td>\n",
       "      <td>298043</td>\n",
       "    </tr>\n",
       "    <tr>\n",
       "      <th>1</th>\n",
       "      <td>R69X</td>\n",
       "      <td>1</td>\n",
       "      <td>298044</td>\n",
       "    </tr>\n",
       "    <tr>\n",
       "      <th>2</th>\n",
       "      <td>R69X</td>\n",
       "      <td>1</td>\n",
       "      <td>298045</td>\n",
       "    </tr>\n",
       "    <tr>\n",
       "      <th>3</th>\n",
       "      <td>R69X</td>\n",
       "      <td>1</td>\n",
       "      <td>298046</td>\n",
       "    </tr>\n",
       "    <tr>\n",
       "      <th>4</th>\n",
       "      <td>C910</td>\n",
       "      <td>1</td>\n",
       "      <td>298047</td>\n",
       "    </tr>\n",
       "  </tbody>\n",
       "</table>\n",
       "</div>"
      ],
      "text/plain": [
       "   AFEC  NUMAFEC     ID2\n",
       "0  U071        1  298043\n",
       "1  R69X        1  298044\n",
       "2  R69X        1  298045\n",
       "3  R69X        1  298046\n",
       "4  C910        1  298047"
      ]
     },
     "execution_count": 7,
     "metadata": {},
     "output_type": "execute_result"
    }
   ],
   "source": [
    "file = '../../Data/Databases/Data Integration/afecciones2022.csv'\n",
    "a22 = pd.read_csv(file, on_bad_lines='skip')\n",
    "a22.head()"
   ]
  },
  {
   "cell_type": "markdown",
   "id": "87a318ae",
   "metadata": {},
   "source": [
    "## Integrate Databases"
   ]
  },
  {
   "cell_type": "code",
   "execution_count": 9,
   "id": "35b1a104",
   "metadata": {},
   "outputs": [
    {
     "data": {
      "text/html": [
       "<div>\n",
       "<style scoped>\n",
       "    .dataframe tbody tr th:only-of-type {\n",
       "        vertical-align: middle;\n",
       "    }\n",
       "\n",
       "    .dataframe tbody tr th {\n",
       "        vertical-align: top;\n",
       "    }\n",
       "\n",
       "    .dataframe thead th {\n",
       "        text-align: right;\n",
       "    }\n",
       "</style>\n",
       "<table border=\"1\" class=\"dataframe\">\n",
       "  <thead>\n",
       "    <tr style=\"text-align: right;\">\n",
       "      <th></th>\n",
       "      <th>AFEC</th>\n",
       "      <th>NUMAFEC</th>\n",
       "      <th>ID2</th>\n",
       "    </tr>\n",
       "  </thead>\n",
       "  <tbody>\n",
       "    <tr>\n",
       "      <th>0</th>\n",
       "      <td>S029</td>\n",
       "      <td>2</td>\n",
       "      <td>399</td>\n",
       "    </tr>\n",
       "    <tr>\n",
       "      <th>1</th>\n",
       "      <td>S529</td>\n",
       "      <td>3</td>\n",
       "      <td>399</td>\n",
       "    </tr>\n",
       "    <tr>\n",
       "      <th>2</th>\n",
       "      <td>I10X</td>\n",
       "      <td>1</td>\n",
       "      <td>399</td>\n",
       "    </tr>\n",
       "    <tr>\n",
       "      <th>3</th>\n",
       "      <td>Z301</td>\n",
       "      <td>1</td>\n",
       "      <td>25245</td>\n",
       "    </tr>\n",
       "    <tr>\n",
       "      <th>4</th>\n",
       "      <td>Z301</td>\n",
       "      <td>1</td>\n",
       "      <td>25569</td>\n",
       "    </tr>\n",
       "    <tr>\n",
       "      <th>...</th>\n",
       "      <td>...</td>\n",
       "      <td>...</td>\n",
       "      <td>...</td>\n",
       "    </tr>\n",
       "    <tr>\n",
       "      <th>30433</th>\n",
       "      <td>R69X</td>\n",
       "      <td>1</td>\n",
       "      <td>321258</td>\n",
       "    </tr>\n",
       "    <tr>\n",
       "      <th>30434</th>\n",
       "      <td>O000</td>\n",
       "      <td>1</td>\n",
       "      <td>321259</td>\n",
       "    </tr>\n",
       "    <tr>\n",
       "      <th>30435</th>\n",
       "      <td>R69X</td>\n",
       "      <td>1</td>\n",
       "      <td>321260</td>\n",
       "    </tr>\n",
       "    <tr>\n",
       "      <th>30436</th>\n",
       "      <td>R69X</td>\n",
       "      <td>1</td>\n",
       "      <td>321261</td>\n",
       "    </tr>\n",
       "    <tr>\n",
       "      <th>30437</th>\n",
       "      <td>R69X</td>\n",
       "      <td>1</td>\n",
       "      <td>321262</td>\n",
       "    </tr>\n",
       "  </tbody>\n",
       "</table>\n",
       "<p>335486 rows × 3 columns</p>\n",
       "</div>"
      ],
      "text/plain": [
       "       AFEC  NUMAFEC     ID2\n",
       "0      S029        2     399\n",
       "1      S529        3     399\n",
       "2      I10X        1     399\n",
       "3      Z301        1   25245\n",
       "4      Z301        1   25569\n",
       "...     ...      ...     ...\n",
       "30433  R69X        1  321258\n",
       "30434  O000        1  321259\n",
       "30435  R69X        1  321260\n",
       "30436  R69X        1  321261\n",
       "30437  R69X        1  321262\n",
       "\n",
       "[335486 rows x 3 columns]"
      ]
     },
     "execution_count": 9,
     "metadata": {},
     "output_type": "execute_result"
    }
   ],
   "source": [
    "afecciones = pd.concat([a10_13, a14_15, a16_17, a18_19, a20_21, a22])\n",
    "afecciones"
   ]
  },
  {
   "cell_type": "markdown",
   "id": "bc0677be",
   "metadata": {},
   "source": [
    "## Rename ID Column"
   ]
  },
  {
   "cell_type": "code",
   "execution_count": 10,
   "id": "1865de5b",
   "metadata": {},
   "outputs": [
    {
     "data": {
      "text/html": [
       "<div>\n",
       "<style scoped>\n",
       "    .dataframe tbody tr th:only-of-type {\n",
       "        vertical-align: middle;\n",
       "    }\n",
       "\n",
       "    .dataframe tbody tr th {\n",
       "        vertical-align: top;\n",
       "    }\n",
       "\n",
       "    .dataframe thead th {\n",
       "        text-align: right;\n",
       "    }\n",
       "</style>\n",
       "<table border=\"1\" class=\"dataframe\">\n",
       "  <thead>\n",
       "    <tr style=\"text-align: right;\">\n",
       "      <th></th>\n",
       "      <th>ID</th>\n",
       "      <th>NUMAFEC</th>\n",
       "      <th>AFEC</th>\n",
       "    </tr>\n",
       "  </thead>\n",
       "  <tbody>\n",
       "    <tr>\n",
       "      <th>0</th>\n",
       "      <td>399</td>\n",
       "      <td>2</td>\n",
       "      <td>S029</td>\n",
       "    </tr>\n",
       "    <tr>\n",
       "      <th>1</th>\n",
       "      <td>399</td>\n",
       "      <td>3</td>\n",
       "      <td>S529</td>\n",
       "    </tr>\n",
       "    <tr>\n",
       "      <th>2</th>\n",
       "      <td>399</td>\n",
       "      <td>1</td>\n",
       "      <td>I10X</td>\n",
       "    </tr>\n",
       "    <tr>\n",
       "      <th>3</th>\n",
       "      <td>25245</td>\n",
       "      <td>1</td>\n",
       "      <td>Z301</td>\n",
       "    </tr>\n",
       "    <tr>\n",
       "      <th>4</th>\n",
       "      <td>25569</td>\n",
       "      <td>1</td>\n",
       "      <td>Z301</td>\n",
       "    </tr>\n",
       "  </tbody>\n",
       "</table>\n",
       "</div>"
      ],
      "text/plain": [
       "      ID  NUMAFEC  AFEC\n",
       "0    399        2  S029\n",
       "1    399        3  S529\n",
       "2    399        1  I10X\n",
       "3  25245        1  Z301\n",
       "4  25569        1  Z301"
      ]
     },
     "execution_count": 10,
     "metadata": {},
     "output_type": "execute_result"
    }
   ],
   "source": [
    "afecciones.rename(columns={'ID2':'ID'},inplace=True)\n",
    "afecciones = afecciones[['ID', 'NUMAFEC', 'AFEC']]\n",
    "afecciones.head()"
   ]
  },
  {
   "cell_type": "markdown",
   "id": "50ebaf4d",
   "metadata": {},
   "source": [
    "## Drop Duplicates"
   ]
  },
  {
   "cell_type": "code",
   "execution_count": 11,
   "id": "b32ef2c9",
   "metadata": {},
   "outputs": [
    {
     "data": {
      "text/plain": [
       "1"
      ]
     },
     "execution_count": 11,
     "metadata": {},
     "output_type": "execute_result"
    }
   ],
   "source": [
    "afecciones.duplicated().sum()"
   ]
  },
  {
   "cell_type": "code",
   "execution_count": 12,
   "id": "3a4b87e8",
   "metadata": {},
   "outputs": [
    {
     "name": "stderr",
     "output_type": "stream",
     "text": [
      "C:\\Users\\lili_\\AppData\\Local\\Temp\\ipykernel_13968\\4086228903.py:1: SettingWithCopyWarning: \n",
      "A value is trying to be set on a copy of a slice from a DataFrame\n",
      "\n",
      "See the caveats in the documentation: https://pandas.pydata.org/pandas-docs/stable/user_guide/indexing.html#returning-a-view-versus-a-copy\n",
      "  afecciones.drop_duplicates(inplace = True)\n"
     ]
    },
    {
     "data": {
      "text/plain": [
       "(335485, 3)"
      ]
     },
     "execution_count": 12,
     "metadata": {},
     "output_type": "execute_result"
    }
   ],
   "source": [
    "afecciones.drop_duplicates(inplace = True)\n",
    "afecciones.shape"
   ]
  },
  {
   "cell_type": "markdown",
   "id": "464a1c9e",
   "metadata": {},
   "source": [
    "## Exportar data to csv"
   ]
  },
  {
   "cell_type": "code",
   "execution_count": 13,
   "id": "3a32f4fc",
   "metadata": {},
   "outputs": [],
   "source": [
    "from pathlib import Path \n",
    "#Afecciones\n",
    "filepath = Path('../../Data/Databases/Data Integration/afecciones2010_2022.csv')  \n",
    "filepath.parent.mkdir(parents=True, exist_ok=True)  \n",
    "afecciones.to_csv(filepath, index = False)"
   ]
  }
 ],
 "metadata": {
  "kernelspec": {
   "display_name": "Python 3 (ipykernel)",
   "language": "python",
   "name": "python3"
  },
  "language_info": {
   "codemirror_mode": {
    "name": "ipython",
    "version": 3
   },
   "file_extension": ".py",
   "mimetype": "text/x-python",
   "name": "python",
   "nbconvert_exporter": "python",
   "pygments_lexer": "ipython3",
   "version": "3.9.12"
  }
 },
 "nbformat": 4,
 "nbformat_minor": 5
}
