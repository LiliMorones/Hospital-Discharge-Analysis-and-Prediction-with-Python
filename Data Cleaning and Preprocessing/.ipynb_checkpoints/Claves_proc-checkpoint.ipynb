{
 "cells": [
  {
   "cell_type": "markdown",
   "id": "0b531b36",
   "metadata": {},
   "source": [
    "## Importar librerías"
   ]
  },
  {
   "cell_type": "code",
   "execution_count": 1,
   "id": "4c2f453c",
   "metadata": {},
   "outputs": [],
   "source": [
    "import pandas as pd\n",
    "import numpy as np"
   ]
  },
  {
   "cell_type": "markdown",
   "id": "8f1af79c",
   "metadata": {},
   "source": [
    "## Cargar bases de datos"
   ]
  },
  {
   "cell_type": "code",
   "execution_count": 2,
   "id": "853bd900",
   "metadata": {},
   "outputs": [
    {
     "data": {
      "text/html": [
       "<div>\n",
       "<style scoped>\n",
       "    .dataframe tbody tr th:only-of-type {\n",
       "        vertical-align: middle;\n",
       "    }\n",
       "\n",
       "    .dataframe tbody tr th {\n",
       "        vertical-align: top;\n",
       "    }\n",
       "\n",
       "    .dataframe thead th {\n",
       "        text-align: right;\n",
       "    }\n",
       "</style>\n",
       "<table border=\"1\" class=\"dataframe\">\n",
       "  <thead>\n",
       "    <tr style=\"text-align: right;\">\n",
       "      <th></th>\n",
       "      <th>ID</th>\n",
       "      <th>NUMPROMED</th>\n",
       "      <th>TIPO</th>\n",
       "      <th>PROMED</th>\n",
       "      <th>ANEST</th>\n",
       "      <th>QUIROF</th>\n",
       "      <th>QH</th>\n",
       "      <th>QM</th>\n",
       "    </tr>\n",
       "  </thead>\n",
       "  <tbody>\n",
       "    <tr>\n",
       "      <th>0</th>\n",
       "      <td>10952</td>\n",
       "      <td>1</td>\n",
       "      <td>Q</td>\n",
       "      <td>5411</td>\n",
       "      <td>2</td>\n",
       "      <td>1</td>\n",
       "      <td>99.0</td>\n",
       "      <td>99.0</td>\n",
       "    </tr>\n",
       "    <tr>\n",
       "      <th>1</th>\n",
       "      <td>23436</td>\n",
       "      <td>1</td>\n",
       "      <td>Q</td>\n",
       "      <td>5411</td>\n",
       "      <td>2</td>\n",
       "      <td>1</td>\n",
       "      <td>1.0</td>\n",
       "      <td>0.0</td>\n",
       "    </tr>\n",
       "    <tr>\n",
       "      <th>2</th>\n",
       "      <td>23659</td>\n",
       "      <td>1</td>\n",
       "      <td>Q</td>\n",
       "      <td>5411</td>\n",
       "      <td>2</td>\n",
       "      <td>1</td>\n",
       "      <td>1.0</td>\n",
       "      <td>0.0</td>\n",
       "    </tr>\n",
       "    <tr>\n",
       "      <th>3</th>\n",
       "      <td>23789</td>\n",
       "      <td>1</td>\n",
       "      <td>Q</td>\n",
       "      <td>5411</td>\n",
       "      <td>1</td>\n",
       "      <td>1</td>\n",
       "      <td>99.0</td>\n",
       "      <td>99.0</td>\n",
       "    </tr>\n",
       "    <tr>\n",
       "      <th>4</th>\n",
       "      <td>24367</td>\n",
       "      <td>1</td>\n",
       "      <td>Q</td>\n",
       "      <td>5411</td>\n",
       "      <td>2</td>\n",
       "      <td>1</td>\n",
       "      <td>1.0</td>\n",
       "      <td>0.0</td>\n",
       "    </tr>\n",
       "  </tbody>\n",
       "</table>\n",
       "</div>"
      ],
      "text/plain": [
       "      ID  NUMPROMED TIPO PROMED  ANEST  QUIROF    QH    QM\n",
       "0  10952          1    Q   5411      2       1  99.0  99.0\n",
       "1  23436          1    Q   5411      2       1   1.0   0.0\n",
       "2  23659          1    Q   5411      2       1   1.0   0.0\n",
       "3  23789          1    Q   5411      1       1  99.0  99.0\n",
       "4  24367          1    Q   5411      2       1   1.0   0.0"
      ]
     },
     "execution_count": 2,
     "metadata": {},
     "output_type": "execute_result"
    }
   ],
   "source": [
    "#Cargar base de datos procedimientos\n",
    "file = '../../Registros/Bases de datos/2010_2022/procedimientos2010_2022.csv'\n",
    "procedimientos = pd.read_csv(file, on_bad_lines='skip')\n",
    "procedimientos.head()"
   ]
  },
  {
   "cell_type": "code",
   "execution_count": 3,
   "id": "8073bf08",
   "metadata": {},
   "outputs": [
    {
     "data": {
      "text/plain": [
       "(519460, 8)"
      ]
     },
     "execution_count": 3,
     "metadata": {},
     "output_type": "execute_result"
    }
   ],
   "source": [
    "procedimientos.shape"
   ]
  },
  {
   "cell_type": "code",
   "execution_count": 4,
   "id": "05aca83d",
   "metadata": {},
   "outputs": [
    {
     "data": {
      "text/html": [
       "<div>\n",
       "<style scoped>\n",
       "    .dataframe tbody tr th:only-of-type {\n",
       "        vertical-align: middle;\n",
       "    }\n",
       "\n",
       "    .dataframe tbody tr th {\n",
       "        vertical-align: top;\n",
       "    }\n",
       "\n",
       "    .dataframe thead th {\n",
       "        text-align: right;\n",
       "    }\n",
       "</style>\n",
       "<table border=\"1\" class=\"dataframe\">\n",
       "  <thead>\n",
       "    <tr style=\"text-align: right;\">\n",
       "      <th></th>\n",
       "      <th>CONSEC</th>\n",
       "      <th>CAPITULO</th>\n",
       "      <th>CATALOG_KEY</th>\n",
       "      <th>PRO_NOMBRE</th>\n",
       "      <th>PRO_CVE_EDIA</th>\n",
       "      <th>PRO_EDAD_IA</th>\n",
       "      <th>PRO_CVE_EDFA</th>\n",
       "      <th>PRO_EDAD_FA</th>\n",
       "      <th>SEX_TYPE</th>\n",
       "      <th>PROCEDIMIENTO_TYPE</th>\n",
       "      <th>PRO_PRINCIPAL</th>\n",
       "      <th>ACTUALIZACIONES_CIE-9MC</th>\n",
       "      <th>YEAR_MODIFI</th>\n",
       "      <th>YEAR_APLICACION</th>\n",
       "      <th>POR_NIVELA</th>\n",
       "      <th>PRO_SECCION</th>\n",
       "      <th>PRO_CATEGORIA</th>\n",
       "      <th>PRO_SUBCATEG</th>\n",
       "      <th>PRO_GRUPO_LC</th>\n",
       "    </tr>\n",
       "  </thead>\n",
       "  <tbody>\n",
       "    <tr>\n",
       "      <th>0</th>\n",
       "      <td>1</td>\n",
       "      <td>0</td>\n",
       "      <td>00</td>\n",
       "      <td>PROCEDIMIENTOS E INTERVENCIONES, NO CLASIFICAD...</td>\n",
       "      <td>0</td>\n",
       "      <td>0</td>\n",
       "      <td>0</td>\n",
       "      <td>0</td>\n",
       "      <td>0</td>\n",
       "      <td>NaN</td>\n",
       "      <td>NaN</td>\n",
       "      <td>NO</td>\n",
       "      <td>NO</td>\n",
       "      <td>NO</td>\n",
       "      <td>3</td>\n",
       "      <td>0</td>\n",
       "      <td>NaN</td>\n",
       "      <td>NaN</td>\n",
       "      <td>NaN</td>\n",
       "    </tr>\n",
       "    <tr>\n",
       "      <th>1</th>\n",
       "      <td>2</td>\n",
       "      <td>0</td>\n",
       "      <td>000</td>\n",
       "      <td>ULTRASONIDO TERAPÉUTICO</td>\n",
       "      <td>0</td>\n",
       "      <td>0</td>\n",
       "      <td>0</td>\n",
       "      <td>0</td>\n",
       "      <td>0</td>\n",
       "      <td>NaN</td>\n",
       "      <td>NO</td>\n",
       "      <td>NO</td>\n",
       "      <td>NO</td>\n",
       "      <td>NO</td>\n",
       "      <td>2</td>\n",
       "      <td>0</td>\n",
       "      <td>000</td>\n",
       "      <td>NaN</td>\n",
       "      <td>NaN</td>\n",
       "    </tr>\n",
       "    <tr>\n",
       "      <th>2</th>\n",
       "      <td>3</td>\n",
       "      <td>0</td>\n",
       "      <td>0001</td>\n",
       "      <td>ULTRASONIDO TERAPÉUTICO DE VASOS DE CABEZA Y C...</td>\n",
       "      <td>0</td>\n",
       "      <td>0</td>\n",
       "      <td>0</td>\n",
       "      <td>0</td>\n",
       "      <td>0</td>\n",
       "      <td>T</td>\n",
       "      <td>SI</td>\n",
       "      <td>NO</td>\n",
       "      <td>NO</td>\n",
       "      <td>NO</td>\n",
       "      <td>1</td>\n",
       "      <td>0</td>\n",
       "      <td>000</td>\n",
       "      <td>0001</td>\n",
       "      <td>63.1</td>\n",
       "    </tr>\n",
       "    <tr>\n",
       "      <th>3</th>\n",
       "      <td>4</td>\n",
       "      <td>0</td>\n",
       "      <td>0002</td>\n",
       "      <td>ULTRASONIDO TERAPÉUTICO CARDÍACO</td>\n",
       "      <td>0</td>\n",
       "      <td>0</td>\n",
       "      <td>0</td>\n",
       "      <td>0</td>\n",
       "      <td>0</td>\n",
       "      <td>T</td>\n",
       "      <td>SI</td>\n",
       "      <td>NO</td>\n",
       "      <td>NO</td>\n",
       "      <td>NO</td>\n",
       "      <td>1</td>\n",
       "      <td>0</td>\n",
       "      <td>000</td>\n",
       "      <td>0002</td>\n",
       "      <td>63.1</td>\n",
       "    </tr>\n",
       "    <tr>\n",
       "      <th>4</th>\n",
       "      <td>5</td>\n",
       "      <td>0</td>\n",
       "      <td>0003</td>\n",
       "      <td>ULTRASONIDO TERAPÉUTICO DE VASOS PERIFÉRICOS</td>\n",
       "      <td>0</td>\n",
       "      <td>0</td>\n",
       "      <td>0</td>\n",
       "      <td>0</td>\n",
       "      <td>0</td>\n",
       "      <td>T</td>\n",
       "      <td>SI</td>\n",
       "      <td>NO</td>\n",
       "      <td>NO</td>\n",
       "      <td>NO</td>\n",
       "      <td>1</td>\n",
       "      <td>0</td>\n",
       "      <td>000</td>\n",
       "      <td>0003</td>\n",
       "      <td>63.1</td>\n",
       "    </tr>\n",
       "  </tbody>\n",
       "</table>\n",
       "</div>"
      ],
      "text/plain": [
       "   CONSEC  CAPITULO CATALOG_KEY  \\\n",
       "0       1         0          00   \n",
       "1       2         0         000   \n",
       "2       3         0        0001   \n",
       "3       4         0        0002   \n",
       "4       5         0        0003   \n",
       "\n",
       "                                          PRO_NOMBRE  PRO_CVE_EDIA  \\\n",
       "0  PROCEDIMIENTOS E INTERVENCIONES, NO CLASIFICAD...             0   \n",
       "1                            ULTRASONIDO TERAPÉUTICO             0   \n",
       "2  ULTRASONIDO TERAPÉUTICO DE VASOS DE CABEZA Y C...             0   \n",
       "3                   ULTRASONIDO TERAPÉUTICO CARDÍACO             0   \n",
       "4       ULTRASONIDO TERAPÉUTICO DE VASOS PERIFÉRICOS             0   \n",
       "\n",
       "   PRO_EDAD_IA  PRO_CVE_EDFA  PRO_EDAD_FA  SEX_TYPE PROCEDIMIENTO_TYPE  \\\n",
       "0            0             0            0         0                NaN   \n",
       "1            0             0            0         0                NaN   \n",
       "2            0             0            0         0                  T   \n",
       "3            0             0            0         0                  T   \n",
       "4            0             0            0         0                  T   \n",
       "\n",
       "  PRO_PRINCIPAL ACTUALIZACIONES_CIE-9MC YEAR_MODIFI YEAR_APLICACION  \\\n",
       "0           NaN                      NO          NO              NO   \n",
       "1            NO                      NO          NO              NO   \n",
       "2            SI                      NO          NO              NO   \n",
       "3            SI                      NO          NO              NO   \n",
       "4            SI                      NO          NO              NO   \n",
       "\n",
       "   POR_NIVELA  PRO_SECCION PRO_CATEGORIA PRO_SUBCATEG  PRO_GRUPO_LC  \n",
       "0           3            0           NaN          NaN           NaN  \n",
       "1           2            0           000          NaN           NaN  \n",
       "2           1            0           000         0001          63.1  \n",
       "3           1            0           000         0002          63.1  \n",
       "4           1            0           000         0003          63.1  "
      ]
     },
     "execution_count": 4,
     "metadata": {},
     "output_type": "execute_result"
    }
   ],
   "source": [
    "#Cargar base de datos de claves procedimientos\n",
    "file = '../../Registros/Claves/CLAVES_PROC.xlsx'\n",
    "claves = pd.read_excel(file)\n",
    "claves.head()"
   ]
  },
  {
   "cell_type": "markdown",
   "id": "7cf8c01a",
   "metadata": {},
   "source": [
    "## Cambiar claves de procedimientos médicos"
   ]
  },
  {
   "cell_type": "code",
   "execution_count": 5,
   "id": "cb3cf83d",
   "metadata": {},
   "outputs": [],
   "source": [
    "#Seleccionar los primeros 3 caracteres (procedimiento general)\n",
    "procedimientos['PROMED'] = procedimientos['PROMED'].str[:3]"
   ]
  },
  {
   "cell_type": "code",
   "execution_count": 6,
   "id": "39d2b802",
   "metadata": {},
   "outputs": [
    {
     "data": {
      "text/html": [
       "<div>\n",
       "<style scoped>\n",
       "    .dataframe tbody tr th:only-of-type {\n",
       "        vertical-align: middle;\n",
       "    }\n",
       "\n",
       "    .dataframe tbody tr th {\n",
       "        vertical-align: top;\n",
       "    }\n",
       "\n",
       "    .dataframe thead th {\n",
       "        text-align: right;\n",
       "    }\n",
       "</style>\n",
       "<table border=\"1\" class=\"dataframe\">\n",
       "  <thead>\n",
       "    <tr style=\"text-align: right;\">\n",
       "      <th></th>\n",
       "      <th>ID</th>\n",
       "      <th>NUMPROMED</th>\n",
       "      <th>TIPO</th>\n",
       "      <th>PROMED</th>\n",
       "      <th>ANEST</th>\n",
       "      <th>QUIROF</th>\n",
       "      <th>QH</th>\n",
       "      <th>QM</th>\n",
       "    </tr>\n",
       "  </thead>\n",
       "  <tbody>\n",
       "    <tr>\n",
       "      <th>0</th>\n",
       "      <td>10952</td>\n",
       "      <td>1</td>\n",
       "      <td>Q</td>\n",
       "      <td>541</td>\n",
       "      <td>2</td>\n",
       "      <td>1</td>\n",
       "      <td>99.0</td>\n",
       "      <td>99.0</td>\n",
       "    </tr>\n",
       "    <tr>\n",
       "      <th>1</th>\n",
       "      <td>23436</td>\n",
       "      <td>1</td>\n",
       "      <td>Q</td>\n",
       "      <td>541</td>\n",
       "      <td>2</td>\n",
       "      <td>1</td>\n",
       "      <td>1.0</td>\n",
       "      <td>0.0</td>\n",
       "    </tr>\n",
       "    <tr>\n",
       "      <th>2</th>\n",
       "      <td>23659</td>\n",
       "      <td>1</td>\n",
       "      <td>Q</td>\n",
       "      <td>541</td>\n",
       "      <td>2</td>\n",
       "      <td>1</td>\n",
       "      <td>1.0</td>\n",
       "      <td>0.0</td>\n",
       "    </tr>\n",
       "    <tr>\n",
       "      <th>3</th>\n",
       "      <td>23789</td>\n",
       "      <td>1</td>\n",
       "      <td>Q</td>\n",
       "      <td>541</td>\n",
       "      <td>1</td>\n",
       "      <td>1</td>\n",
       "      <td>99.0</td>\n",
       "      <td>99.0</td>\n",
       "    </tr>\n",
       "    <tr>\n",
       "      <th>4</th>\n",
       "      <td>24367</td>\n",
       "      <td>1</td>\n",
       "      <td>Q</td>\n",
       "      <td>541</td>\n",
       "      <td>2</td>\n",
       "      <td>1</td>\n",
       "      <td>1.0</td>\n",
       "      <td>0.0</td>\n",
       "    </tr>\n",
       "  </tbody>\n",
       "</table>\n",
       "</div>"
      ],
      "text/plain": [
       "      ID  NUMPROMED TIPO PROMED  ANEST  QUIROF    QH    QM\n",
       "0  10952          1    Q    541      2       1  99.0  99.0\n",
       "1  23436          1    Q    541      2       1   1.0   0.0\n",
       "2  23659          1    Q    541      2       1   1.0   0.0\n",
       "3  23789          1    Q    541      1       1  99.0  99.0\n",
       "4  24367          1    Q    541      2       1   1.0   0.0"
      ]
     },
     "execution_count": 6,
     "metadata": {},
     "output_type": "execute_result"
    }
   ],
   "source": [
    "procedimientos.head()"
   ]
  },
  {
   "cell_type": "code",
   "execution_count": 7,
   "id": "e71b0fda",
   "metadata": {},
   "outputs": [
    {
     "data": {
      "text/html": [
       "<div>\n",
       "<style scoped>\n",
       "    .dataframe tbody tr th:only-of-type {\n",
       "        vertical-align: middle;\n",
       "    }\n",
       "\n",
       "    .dataframe tbody tr th {\n",
       "        vertical-align: top;\n",
       "    }\n",
       "\n",
       "    .dataframe thead th {\n",
       "        text-align: right;\n",
       "    }\n",
       "</style>\n",
       "<table border=\"1\" class=\"dataframe\">\n",
       "  <thead>\n",
       "    <tr style=\"text-align: right;\">\n",
       "      <th></th>\n",
       "      <th>CLAVE</th>\n",
       "      <th>PRO_NOMBRE</th>\n",
       "    </tr>\n",
       "  </thead>\n",
       "  <tbody>\n",
       "    <tr>\n",
       "      <th>0</th>\n",
       "      <td>00</td>\n",
       "      <td>PROCEDIMIENTOS E INTERVENCIONES, NO CLASIFICAD...</td>\n",
       "    </tr>\n",
       "    <tr>\n",
       "      <th>1</th>\n",
       "      <td>000</td>\n",
       "      <td>ULTRASONIDO TERAPÉUTICO</td>\n",
       "    </tr>\n",
       "    <tr>\n",
       "      <th>2</th>\n",
       "      <td>0001</td>\n",
       "      <td>ULTRASONIDO TERAPÉUTICO DE VASOS DE CABEZA Y C...</td>\n",
       "    </tr>\n",
       "    <tr>\n",
       "      <th>3</th>\n",
       "      <td>0002</td>\n",
       "      <td>ULTRASONIDO TERAPÉUTICO CARDÍACO</td>\n",
       "    </tr>\n",
       "    <tr>\n",
       "      <th>4</th>\n",
       "      <td>0003</td>\n",
       "      <td>ULTRASONIDO TERAPÉUTICO DE VASOS PERIFÉRICOS</td>\n",
       "    </tr>\n",
       "  </tbody>\n",
       "</table>\n",
       "</div>"
      ],
      "text/plain": [
       "  CLAVE                                         PRO_NOMBRE\n",
       "0    00  PROCEDIMIENTOS E INTERVENCIONES, NO CLASIFICAD...\n",
       "1   000                            ULTRASONIDO TERAPÉUTICO\n",
       "2  0001  ULTRASONIDO TERAPÉUTICO DE VASOS DE CABEZA Y C...\n",
       "3  0002                   ULTRASONIDO TERAPÉUTICO CARDÍACO\n",
       "4  0003       ULTRASONIDO TERAPÉUTICO DE VASOS PERIFÉRICOS"
      ]
     },
     "execution_count": 7,
     "metadata": {},
     "output_type": "execute_result"
    }
   ],
   "source": [
    "#Seleccionar solo las columnas útiles de claves\n",
    "claves = claves[['CATALOG_KEY','PRO_NOMBRE']]\n",
    "claves.rename(columns={'CATALOG_KEY':'CLAVE'}, inplace = True)\n",
    "claves.head()"
   ]
  },
  {
   "cell_type": "code",
   "execution_count": 8,
   "id": "f6b27284",
   "metadata": {},
   "outputs": [
    {
     "data": {
      "text/plain": [
       "16"
      ]
     },
     "execution_count": 8,
     "metadata": {},
     "output_type": "execute_result"
    }
   ],
   "source": [
    "#Revisar duplicados\n",
    "claves['CLAVE'].duplicated().sum()"
   ]
  },
  {
   "cell_type": "code",
   "execution_count": 9,
   "id": "75c12840",
   "metadata": {},
   "outputs": [],
   "source": [
    "#Mantener solo el último registro duplicado (el primero no está especificado)\n",
    "claves.drop_duplicates(subset = ['CLAVE'], keep = 'last', inplace = True)"
   ]
  },
  {
   "cell_type": "code",
   "execution_count": 10,
   "id": "96c2b3f3",
   "metadata": {},
   "outputs": [
    {
     "data": {
      "text/html": [
       "<div>\n",
       "<style scoped>\n",
       "    .dataframe tbody tr th:only-of-type {\n",
       "        vertical-align: middle;\n",
       "    }\n",
       "\n",
       "    .dataframe tbody tr th {\n",
       "        vertical-align: top;\n",
       "    }\n",
       "\n",
       "    .dataframe thead th {\n",
       "        text-align: right;\n",
       "    }\n",
       "</style>\n",
       "<table border=\"1\" class=\"dataframe\">\n",
       "  <thead>\n",
       "    <tr style=\"text-align: right;\">\n",
       "      <th></th>\n",
       "      <th>ID</th>\n",
       "      <th>NUMPROMED</th>\n",
       "      <th>TIPO</th>\n",
       "      <th>CLAVE</th>\n",
       "      <th>ANEST</th>\n",
       "      <th>QUIROF</th>\n",
       "      <th>QH</th>\n",
       "      <th>QM</th>\n",
       "      <th>PROMED</th>\n",
       "    </tr>\n",
       "  </thead>\n",
       "  <tbody>\n",
       "    <tr>\n",
       "      <th>0</th>\n",
       "      <td>10952</td>\n",
       "      <td>1</td>\n",
       "      <td>Q</td>\n",
       "      <td>541</td>\n",
       "      <td>2</td>\n",
       "      <td>1</td>\n",
       "      <td>99.0</td>\n",
       "      <td>99.0</td>\n",
       "      <td>LAPAROTOMÍA</td>\n",
       "    </tr>\n",
       "    <tr>\n",
       "      <th>1</th>\n",
       "      <td>23436</td>\n",
       "      <td>1</td>\n",
       "      <td>Q</td>\n",
       "      <td>541</td>\n",
       "      <td>2</td>\n",
       "      <td>1</td>\n",
       "      <td>1.0</td>\n",
       "      <td>0.0</td>\n",
       "      <td>LAPAROTOMÍA</td>\n",
       "    </tr>\n",
       "    <tr>\n",
       "      <th>2</th>\n",
       "      <td>23659</td>\n",
       "      <td>1</td>\n",
       "      <td>Q</td>\n",
       "      <td>541</td>\n",
       "      <td>2</td>\n",
       "      <td>1</td>\n",
       "      <td>1.0</td>\n",
       "      <td>0.0</td>\n",
       "      <td>LAPAROTOMÍA</td>\n",
       "    </tr>\n",
       "    <tr>\n",
       "      <th>3</th>\n",
       "      <td>23789</td>\n",
       "      <td>1</td>\n",
       "      <td>Q</td>\n",
       "      <td>541</td>\n",
       "      <td>1</td>\n",
       "      <td>1</td>\n",
       "      <td>99.0</td>\n",
       "      <td>99.0</td>\n",
       "      <td>LAPAROTOMÍA</td>\n",
       "    </tr>\n",
       "    <tr>\n",
       "      <th>4</th>\n",
       "      <td>24367</td>\n",
       "      <td>1</td>\n",
       "      <td>Q</td>\n",
       "      <td>541</td>\n",
       "      <td>2</td>\n",
       "      <td>1</td>\n",
       "      <td>1.0</td>\n",
       "      <td>0.0</td>\n",
       "      <td>LAPAROTOMÍA</td>\n",
       "    </tr>\n",
       "  </tbody>\n",
       "</table>\n",
       "</div>"
      ],
      "text/plain": [
       "      ID  NUMPROMED TIPO CLAVE  ANEST  QUIROF    QH    QM       PROMED\n",
       "0  10952          1    Q   541      2       1  99.0  99.0  LAPAROTOMÍA\n",
       "1  23436          1    Q   541      2       1   1.0   0.0  LAPAROTOMÍA\n",
       "2  23659          1    Q   541      2       1   1.0   0.0  LAPAROTOMÍA\n",
       "3  23789          1    Q   541      1       1  99.0  99.0  LAPAROTOMÍA\n",
       "4  24367          1    Q   541      2       1   1.0   0.0  LAPAROTOMÍA"
      ]
     },
     "execution_count": 10,
     "metadata": {},
     "output_type": "execute_result"
    }
   ],
   "source": [
    "# Combinar la tabla claves con procedimientos para tener el nombre del procedimiento\n",
    "procedimientos.rename(columns={'PROMED':'CLAVE'}, inplace = True)\n",
    "procedimientos = procedimientos.merge(claves, how = 'left', on = 'CLAVE')\n",
    "procedimientos.rename(columns={'PRO_NOMBRE':'PROMED'}, inplace = True)\n",
    "procedimientos.head()"
   ]
  },
  {
   "cell_type": "code",
   "execution_count": 11,
   "id": "e4b09a90",
   "metadata": {},
   "outputs": [
    {
     "data": {
      "text/plain": [
       "(519460, 9)"
      ]
     },
     "execution_count": 11,
     "metadata": {},
     "output_type": "execute_result"
    }
   ],
   "source": [
    "procedimientos.shape"
   ]
  },
  {
   "cell_type": "code",
   "execution_count": 12,
   "id": "2f8f72e1",
   "metadata": {},
   "outputs": [
    {
     "data": {
      "text/plain": [
       "array([2, 1, 6, 4, 3, 5, 9], dtype=int64)"
      ]
     },
     "execution_count": 12,
     "metadata": {},
     "output_type": "execute_result"
    }
   ],
   "source": [
    "procedimientos['ANEST'].unique()"
   ]
  },
  {
   "cell_type": "code",
   "execution_count": 13,
   "id": "810d5fed",
   "metadata": {},
   "outputs": [],
   "source": [
    "# Nombre de las claves del tipo de anestesia usada\n",
    "procedimientos['ANEST'] = procedimientos['ANEST'].replace({1:'GENERAL', 2:'REGIONAL', 3:'SEDACION', 4:'LOCAL', \n",
    "                                             5:'COMBINADA', 6:'NO USO', 9:'NE' })"
   ]
  },
  {
   "cell_type": "code",
   "execution_count": 14,
   "id": "88df307f",
   "metadata": {},
   "outputs": [
    {
     "data": {
      "text/plain": [
       "array([1, 2, 9], dtype=int64)"
      ]
     },
     "execution_count": 14,
     "metadata": {},
     "output_type": "execute_result"
    }
   ],
   "source": [
    "procedimientos['QUIROF'].unique()"
   ]
  },
  {
   "cell_type": "code",
   "execution_count": 15,
   "id": "e0d714fc",
   "metadata": {},
   "outputs": [],
   "source": [
    "# Nombre de las claves de uso de quirófano\n",
    "procedimientos['QUIROF'] = procedimientos['QUIROF'].replace({1:'EN', 2:'FUERA', 9:'NE'})"
   ]
  },
  {
   "cell_type": "code",
   "execution_count": 16,
   "id": "2a77ba39",
   "metadata": {},
   "outputs": [
    {
     "data": {
      "text/plain": [
       "array(['Q', 'D', 'T', 'F'], dtype=object)"
      ]
     },
     "execution_count": 16,
     "metadata": {},
     "output_type": "execute_result"
    }
   ],
   "source": [
    "procedimientos['TIPO'].unique()"
   ]
  },
  {
   "cell_type": "code",
   "execution_count": 17,
   "id": "7db54c2a",
   "metadata": {},
   "outputs": [],
   "source": [
    "#Nombre de las claves de tipo de procedimiento médico\n",
    "procedimientos['TIPO'] = procedimientos['TIPO'].replace({'Q':'QUIRURGICO', 'D':'DIAGNOSTICO', \n",
    "                                           'T':'TERAPEUTICO', 'F': 'MIXTO'})"
   ]
  },
  {
   "cell_type": "code",
   "execution_count": 18,
   "id": "9704d4f1",
   "metadata": {},
   "outputs": [
    {
     "data": {
      "text/html": [
       "<div>\n",
       "<style scoped>\n",
       "    .dataframe tbody tr th:only-of-type {\n",
       "        vertical-align: middle;\n",
       "    }\n",
       "\n",
       "    .dataframe tbody tr th {\n",
       "        vertical-align: top;\n",
       "    }\n",
       "\n",
       "    .dataframe thead th {\n",
       "        text-align: right;\n",
       "    }\n",
       "</style>\n",
       "<table border=\"1\" class=\"dataframe\">\n",
       "  <thead>\n",
       "    <tr style=\"text-align: right;\">\n",
       "      <th></th>\n",
       "      <th>ID</th>\n",
       "      <th>NUMPROMED</th>\n",
       "      <th>TIPO</th>\n",
       "      <th>PROMED</th>\n",
       "      <th>ANEST</th>\n",
       "      <th>QUIROF</th>\n",
       "      <th>QH</th>\n",
       "      <th>QM</th>\n",
       "    </tr>\n",
       "  </thead>\n",
       "  <tbody>\n",
       "    <tr>\n",
       "      <th>0</th>\n",
       "      <td>10952</td>\n",
       "      <td>1</td>\n",
       "      <td>QUIRURGICO</td>\n",
       "      <td>LAPAROTOMÍA</td>\n",
       "      <td>REGIONAL</td>\n",
       "      <td>EN</td>\n",
       "      <td>99.0</td>\n",
       "      <td>99.0</td>\n",
       "    </tr>\n",
       "    <tr>\n",
       "      <th>1</th>\n",
       "      <td>23436</td>\n",
       "      <td>1</td>\n",
       "      <td>QUIRURGICO</td>\n",
       "      <td>LAPAROTOMÍA</td>\n",
       "      <td>REGIONAL</td>\n",
       "      <td>EN</td>\n",
       "      <td>1.0</td>\n",
       "      <td>0.0</td>\n",
       "    </tr>\n",
       "    <tr>\n",
       "      <th>2</th>\n",
       "      <td>23659</td>\n",
       "      <td>1</td>\n",
       "      <td>QUIRURGICO</td>\n",
       "      <td>LAPAROTOMÍA</td>\n",
       "      <td>REGIONAL</td>\n",
       "      <td>EN</td>\n",
       "      <td>1.0</td>\n",
       "      <td>0.0</td>\n",
       "    </tr>\n",
       "    <tr>\n",
       "      <th>3</th>\n",
       "      <td>23789</td>\n",
       "      <td>1</td>\n",
       "      <td>QUIRURGICO</td>\n",
       "      <td>LAPAROTOMÍA</td>\n",
       "      <td>GENERAL</td>\n",
       "      <td>EN</td>\n",
       "      <td>99.0</td>\n",
       "      <td>99.0</td>\n",
       "    </tr>\n",
       "    <tr>\n",
       "      <th>4</th>\n",
       "      <td>24367</td>\n",
       "      <td>1</td>\n",
       "      <td>QUIRURGICO</td>\n",
       "      <td>LAPAROTOMÍA</td>\n",
       "      <td>REGIONAL</td>\n",
       "      <td>EN</td>\n",
       "      <td>1.0</td>\n",
       "      <td>0.0</td>\n",
       "    </tr>\n",
       "  </tbody>\n",
       "</table>\n",
       "</div>"
      ],
      "text/plain": [
       "      ID  NUMPROMED        TIPO       PROMED     ANEST QUIROF    QH    QM\n",
       "0  10952          1  QUIRURGICO  LAPAROTOMÍA  REGIONAL     EN  99.0  99.0\n",
       "1  23436          1  QUIRURGICO  LAPAROTOMÍA  REGIONAL     EN   1.0   0.0\n",
       "2  23659          1  QUIRURGICO  LAPAROTOMÍA  REGIONAL     EN   1.0   0.0\n",
       "3  23789          1  QUIRURGICO  LAPAROTOMÍA   GENERAL     EN  99.0  99.0\n",
       "4  24367          1  QUIRURGICO  LAPAROTOMÍA  REGIONAL     EN   1.0   0.0"
      ]
     },
     "execution_count": 18,
     "metadata": {},
     "output_type": "execute_result"
    }
   ],
   "source": [
    "#Quitar columna de claves y reordenar columnas\n",
    "procedimientos = procedimientos[['ID','NUMPROMED','TIPO','PROMED','ANEST','QUIROF','QH','QM']]\n",
    "procedimientos.head()"
   ]
  },
  {
   "cell_type": "markdown",
   "id": "11152dae",
   "metadata": {},
   "source": [
    "## Exportar csv"
   ]
  },
  {
   "cell_type": "code",
   "execution_count": 19,
   "id": "fba0a0e4",
   "metadata": {},
   "outputs": [],
   "source": [
    "from pathlib import Path \n",
    "filepath = Path('../../Registros/Bases de datos/2010_2022/Cambio claves/procedimientos.csv')  \n",
    "filepath.parent.mkdir(parents=True, exist_ok=True)  \n",
    "procedimientos.to_csv(filepath, index = False)"
   ]
  }
 ],
 "metadata": {
  "kernelspec": {
   "display_name": "Python 3 (ipykernel)",
   "language": "python",
   "name": "python3"
  },
  "language_info": {
   "codemirror_mode": {
    "name": "ipython",
    "version": 3
   },
   "file_extension": ".py",
   "mimetype": "text/x-python",
   "name": "python",
   "nbconvert_exporter": "python",
   "pygments_lexer": "ipython3",
   "version": "3.9.12"
  }
 },
 "nbformat": 4,
 "nbformat_minor": 5
}
